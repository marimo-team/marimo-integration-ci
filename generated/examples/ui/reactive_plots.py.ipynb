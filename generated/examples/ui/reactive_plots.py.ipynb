{
 "cells": [
  {
   "cell_type": "markdown",
   "id": "Hbol",
   "metadata": {},
   "source": [
    "# Welcome to marimo!"
   ]
  },
  {
   "cell_type": "code",
   "execution_count": null,
   "id": "MJUe",
   "metadata": {},
   "outputs": [],
   "source": [
    "chart = mo.ui.altair_chart(scatter & bars)\n",
    "chart"
   ]
  },
  {
   "cell_type": "code",
   "execution_count": null,
   "id": "vblA",
   "metadata": {},
   "outputs": [],
   "source": [
    "(filtered_data := mo.ui.table(chart.value))"
   ]
  },
  {
   "cell_type": "code",
   "execution_count": null,
   "id": "bkHC",
   "metadata": {},
   "outputs": [],
   "source": [
    "mo.stop(not len(filtered_data.value))\n",
    "mpg_hist = mo.ui.altair_chart(\n",
    "    alt.Chart(filtered_data.value)\n",
    "    .mark_bar()\n",
    "    .encode(alt.X(\"Miles_per_Gallon:Q\", bin=True), y=\"count()\")\n",
    ")\n",
    "horsepower_hist = mo.ui.altair_chart(\n",
    "    alt.Chart(filtered_data.value)\n",
    "    .mark_bar()\n",
    "    .encode(alt.X(\"Horsepower:Q\", bin=True), y=\"count()\")\n",
    ")\n",
    "mo.hstack([mpg_hist, horsepower_hist], justify=\"space-around\", widths=\"equal\")"
   ]
  },
  {
   "cell_type": "code",
   "execution_count": null,
   "id": "lEQa",
   "metadata": {},
   "outputs": [],
   "source": [
    "cars = data.cars()\n",
    "brush = alt.selection_interval()\n",
    "scatter = (\n",
    "    alt.Chart(cars)\n",
    "    .mark_point()\n",
    "    .encode(\n",
    "        x=\"Horsepower\",\n",
    "        y=\"Miles_per_Gallon\",\n",
    "        color=\"Origin\",\n",
    "    )\n",
    "    .add_params(brush)\n",
    ")\n",
    "bars = (\n",
    "    alt.Chart(cars)\n",
    "    .mark_bar()\n",
    "    .encode(y=\"Origin:N\", color=\"Origin:N\", x=\"count(Origin):Q\")\n",
    "    .transform_filter(brush)\n",
    ")"
   ]
  },
  {
   "cell_type": "code",
   "execution_count": null,
   "id": "PKri",
   "metadata": {},
   "outputs": [],
   "source": [
    "import altair as alt\n",
    "from vega_datasets import data"
   ]
  },
  {
   "cell_type": "code",
   "execution_count": null,
   "id": "Xref",
   "metadata": {},
   "outputs": [],
   "source": [
    "import marimo as mo"
   ]
  }
 ],
 "metadata": {},
 "nbformat": 4,
 "nbformat_minor": 5
}
