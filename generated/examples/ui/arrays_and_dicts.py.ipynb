{
 "cells": [
  {
   "cell_type": "code",
   "execution_count": null,
   "id": "Hbol",
   "metadata": {},
   "outputs": [],
   "source": [
    "import marimo as mo\n",
    "import random"
   ]
  },
  {
   "cell_type": "markdown",
   "id": "MJUe",
   "metadata": {
    "marimo": {
     "config": {
      "hide_code": true
     }
    }
   },
   "source": [
    "# Arrays and Dictionaries"
   ]
  },
  {
   "cell_type": "markdown",
   "id": "vblA",
   "metadata": {
    "marimo": {
     "config": {
      "hide_code": true
     }
    }
   },
   "source": [
    "Use `mo.ui.array` and `mo.ui.dictionary` to create UI elements that wrap\n",
    "other elements.\n",
    "\n",
    "Because UI elements must be assigned to global variables,\n",
    "these functions are required when the set of elements to create is not\n",
    "known until runtime."
   ]
  },
  {
   "cell_type": "code",
   "execution_count": null,
   "id": "bkHC",
   "metadata": {},
   "outputs": [],
   "source": [
    "create = mo.ui.button(label=\"Create new collections\")"
   ]
  },
  {
   "cell_type": "code",
   "execution_count": null,
   "id": "lEQa",
   "metadata": {},
   "outputs": [
    {
     "data": {
      "text/html": [
       "<div style='display: flex;flex: 1;flex-direction: row;justify-content: center;align-items: normal;flex-wrap: nowrap;gap: 0.5rem'><marimo-ui-element object-id='bkHC-0' random-id='14032606-4529-d63a-b25e-ea42585832bc'><marimo-button data-initial-value='0' data-label='&quot;&lt;span class=&#92;&quot;markdown prose dark:prose-invert&#92;&quot;&gt;&lt;span class=&#92;&quot;paragraph&#92;&quot;&gt;Create new collections&lt;/span&gt;&lt;/span&gt;&quot;' data-kind='&quot;neutral&quot;' data-disabled='false' data-full-width='false'></marimo-button></marimo-ui-element></div>"
      ]
     },
     "metadata": {},
     "output_type": "display_data"
    }
   ],
   "source": [
    "create.center()"
   ]
  },
  {
   "cell_type": "markdown",
   "id": "PKri",
   "metadata": {},
   "source": [
    "UI Elements ..."
   ]
  },
  {
   "cell_type": "code",
   "execution_count": null,
   "id": "Xref",
   "metadata": {},
   "outputs": [
    {
     "data": {
      "text/html": [
       "<div style='display: flex;flex: 1;flex-direction: row;justify-content: space-around;align-items: normal;flex-wrap: nowrap;gap: 0.5rem'><marimo-ui-element object-id='Xref-12' random-id='68ad301a-91bc-e2a3-cf76-55529801083e'><marimo-dict data-initial-value='{&quot;0&quot;: &quot;&quot;, &quot;1&quot;: 1, &quot;2&quot;: 1, &quot;3&quot;: 1, &quot;4&quot;: 1, &quot;5&quot;: 1}' data-label='null' data-element-ids='{&quot;Xref-6&quot;: &quot;0&quot;, &quot;Xref-7&quot;: &quot;1&quot;, &quot;Xref-8&quot;: &quot;2&quot;, &quot;Xref-9&quot;: &quot;3&quot;, &quot;Xref-10&quot;: &quot;4&quot;, &quot;Xref-11&quot;: &quot;5&quot;}'><marimo-json-output data-json-data='[&quot;text/markdown:&amp;lt;marimo-text data-initial-value=&amp;#x27;&amp;amp;quot;&amp;amp;quot;&amp;#x27; data-label=&amp;#x27;null&amp;#x27; data-placeholder=&amp;#x27;&amp;amp;quot;&amp;amp;quot;&amp;#x27; data-kind=&amp;#x27;&amp;amp;quot;text&amp;amp;quot;&amp;#x27; data-full-width=&amp;#x27;false&amp;#x27; data-disabled=&amp;#x27;false&amp;#x27; data-debounce=&amp;#x27;true&amp;#x27;&amp;gt;&amp;lt;/marimo-text&amp;gt;&quot;, &quot;text/markdown:&amp;lt;marimo-slider data-initial-value=&amp;#x27;1&amp;#x27; data-label=&amp;#x27;null&amp;#x27; data-start=&amp;#x27;1&amp;#x27; data-stop=&amp;#x27;10&amp;#x27; data-steps=&amp;#x27;[]&amp;#x27; data-debounce=&amp;#x27;false&amp;#x27; data-disabled=&amp;#x27;false&amp;#x27; data-orientation=&amp;#x27;&amp;amp;quot;horizontal&amp;amp;quot;&amp;#x27; data-show-value=&amp;#x27;false&amp;#x27; data-include-input=&amp;#x27;false&amp;#x27; data-full-width=&amp;#x27;false&amp;#x27;&amp;gt;&amp;lt;/marimo-slider&amp;gt;&quot;, &quot;text/markdown:&amp;lt;marimo-slider data-initial-value=&amp;#x27;1&amp;#x27; data-label=&amp;#x27;null&amp;#x27; data-start=&amp;#x27;1&amp;#x27; data-stop=&amp;#x27;10&amp;#x27; data-steps=&amp;#x27;[]&amp;#x27; data-debounce=&amp;#x27;false&amp;#x27; data-disabled=&amp;#x27;false&amp;#x27; data-orientation=&amp;#x27;&amp;amp;quot;horizontal&amp;amp;quot;&amp;#x27; data-show-value=&amp;#x27;false&amp;#x27; data-include-input=&amp;#x27;false&amp;#x27; data-full-width=&amp;#x27;false&amp;#x27;&amp;gt;&amp;lt;/marimo-slider&amp;gt;&quot;, &quot;text/markdown:&amp;lt;marimo-slider data-initial-value=&amp;#x27;1&amp;#x27; data-label=&amp;#x27;null&amp;#x27; data-start=&amp;#x27;1&amp;#x27; data-stop=&amp;#x27;10&amp;#x27; data-steps=&amp;#x27;[]&amp;#x27; data-debounce=&amp;#x27;false&amp;#x27; data-disabled=&amp;#x27;false&amp;#x27; data-orientation=&amp;#x27;&amp;amp;quot;horizontal&amp;amp;quot;&amp;#x27; data-show-value=&amp;#x27;false&amp;#x27; data-include-input=&amp;#x27;false&amp;#x27; data-full-width=&amp;#x27;false&amp;#x27;&amp;gt;&amp;lt;/marimo-slider&amp;gt;&quot;, &quot;text/markdown:&amp;lt;marimo-slider data-initial-value=&amp;#x27;1&amp;#x27; data-label=&amp;#x27;null&amp;#x27; data-start=&amp;#x27;1&amp;#x27; data-stop=&amp;#x27;10&amp;#x27; data-steps=&amp;#x27;[]&amp;#x27; data-debounce=&amp;#x27;false&amp;#x27; data-disabled=&amp;#x27;false&amp;#x27; data-orientation=&amp;#x27;&amp;amp;quot;horizontal&amp;amp;quot;&amp;#x27; data-show-value=&amp;#x27;false&amp;#x27; data-include-input=&amp;#x27;false&amp;#x27; data-full-width=&amp;#x27;false&amp;#x27;&amp;gt;&amp;lt;/marimo-slider&amp;gt;&quot;, &quot;text/markdown:&amp;lt;marimo-slider data-initial-value=&amp;#x27;1&amp;#x27; data-label=&amp;#x27;null&amp;#x27; data-start=&amp;#x27;1&amp;#x27; data-stop=&amp;#x27;10&amp;#x27; data-steps=&amp;#x27;[]&amp;#x27; data-debounce=&amp;#x27;false&amp;#x27; data-disabled=&amp;#x27;false&amp;#x27; data-orientation=&amp;#x27;&amp;amp;quot;horizontal&amp;amp;quot;&amp;#x27; data-show-value=&amp;#x27;false&amp;#x27; data-include-input=&amp;#x27;false&amp;#x27; data-full-width=&amp;#x27;false&amp;#x27;&amp;gt;&amp;lt;/marimo-slider&amp;gt;&quot;]' data-value-types='&quot;python&quot;' data-name='&quot;array&quot;'></marimo-json-output></marimo-dict></marimo-ui-element><marimo-ui-element object-id='Xref-19' random-id='6b50528e-2769-355e-fa7b-1cb6065319f8'><marimo-dict data-initial-value='{&quot;0&quot;: 1, &quot;1&quot;: 1, &quot;2&quot;: 1}' data-label='null' data-element-ids='{&quot;Xref-16&quot;: &quot;0&quot;, &quot;Xref-17&quot;: &quot;1&quot;, &quot;Xref-18&quot;: &quot;2&quot;}'><marimo-json-output data-json-data='{&quot;0&quot;: &quot;text/markdown:&amp;lt;marimo-slider data-initial-value=&amp;#x27;1&amp;#x27; data-label=&amp;#x27;null&amp;#x27; data-start=&amp;#x27;1&amp;#x27; data-stop=&amp;#x27;10&amp;#x27; data-steps=&amp;#x27;[]&amp;#x27; data-debounce=&amp;#x27;false&amp;#x27; data-disabled=&amp;#x27;false&amp;#x27; data-orientation=&amp;#x27;&amp;amp;quot;horizontal&amp;amp;quot;&amp;#x27; data-show-value=&amp;#x27;false&amp;#x27; data-include-input=&amp;#x27;false&amp;#x27; data-full-width=&amp;#x27;false&amp;#x27;&amp;gt;&amp;lt;/marimo-slider&amp;gt;&quot;, &quot;1&quot;: &quot;text/markdown:&amp;lt;marimo-slider data-initial-value=&amp;#x27;1&amp;#x27; data-label=&amp;#x27;null&amp;#x27; data-start=&amp;#x27;1&amp;#x27; data-stop=&amp;#x27;10&amp;#x27; data-steps=&amp;#x27;[]&amp;#x27; data-debounce=&amp;#x27;false&amp;#x27; data-disabled=&amp;#x27;false&amp;#x27; data-orientation=&amp;#x27;&amp;amp;quot;horizontal&amp;amp;quot;&amp;#x27; data-show-value=&amp;#x27;false&amp;#x27; data-include-input=&amp;#x27;false&amp;#x27; data-full-width=&amp;#x27;false&amp;#x27;&amp;gt;&amp;lt;/marimo-slider&amp;gt;&quot;, &quot;2&quot;: &quot;text/markdown:&amp;lt;marimo-slider data-initial-value=&amp;#x27;1&amp;#x27; data-label=&amp;#x27;null&amp;#x27; data-start=&amp;#x27;1&amp;#x27; data-stop=&amp;#x27;10&amp;#x27; data-steps=&amp;#x27;[]&amp;#x27; data-debounce=&amp;#x27;false&amp;#x27; data-disabled=&amp;#x27;false&amp;#x27; data-orientation=&amp;#x27;&amp;amp;quot;horizontal&amp;amp;quot;&amp;#x27; data-show-value=&amp;#x27;false&amp;#x27; data-include-input=&amp;#x27;false&amp;#x27; data-full-width=&amp;#x27;false&amp;#x27;&amp;gt;&amp;lt;/marimo-slider&amp;gt;&quot;}' data-value-types='&quot;python&quot;' data-name='&quot;dictionary&quot;'></marimo-json-output></marimo-dict></marimo-ui-element></div>"
      ]
     },
     "metadata": {},
     "output_type": "display_data"
    }
   ],
   "source": [
    "create\n",
    "\n",
    "array = mo.ui.array(\n",
    "    [mo.ui.text()]\n",
    "    + [mo.ui.slider(1, 10) for _ in range(0, random.randint(2, 5))],\n",
    ")\n",
    "dictionary = mo.ui.dictionary(\n",
    "    {str(i): mo.ui.slider(1, 10) for i in range(0, random.randint(2, 5))}\n",
    ")\n",
    "\n",
    "mo.hstack([array, dictionary], justify=\"space-around\")"
   ]
  },
  {
   "cell_type": "markdown",
   "id": "SFPL",
   "metadata": {},
   "source": [
    "... and their values"
   ]
  },
  {
   "cell_type": "code",
   "execution_count": null,
   "id": "BYtC",
   "metadata": {},
   "outputs": [
    {
     "data": {
      "text/html": [
       "<div style='display: flex;flex: 1;flex-direction: row;justify-content: space-around;align-items: normal;flex-wrap: nowrap;gap: 0.5rem'><marimo-json-output data-json-data='[&quot;&quot;, 1, 1, 1, 1, 1]' data-value-types='&quot;python&quot;'></marimo-json-output><marimo-json-output data-json-data='{&quot;0&quot;: 1, &quot;1&quot;: 1, &quot;2&quot;: 1}' data-value-types='&quot;python&quot;'></marimo-json-output></div>"
      ]
     },
     "metadata": {},
     "output_type": "display_data"
    }
   ],
   "source": [
    "mo.hstack([array.value, dictionary.value], justify=\"space-around\")"
   ]
  },
  {
   "cell_type": "markdown",
   "id": "RGSE",
   "metadata": {
    "marimo": {
     "config": {
      "hide_code": true
     }
    }
   },
   "source": [
    "Key difference between marimo dict and standard python dict:\n",
    "\n",
    "The main reason to use `mo.ui.dictionary` is for reactive execution — when you interact with an element in a `mo.ui.dictionary`, all cells that reference the `mo.ui.dictionary` run automatically, just like all other ui elements. When you use a regular dictionary, you don't get this reactivity."
   ]
  },
  {
   "cell_type": "code",
   "execution_count": null,
   "id": "Kclp",
   "metadata": {
    "marimo": {
     "config": {
      "hide_code": true
     }
    }
   },
   "outputs": [
    {
     "data": {
      "text/html": [
       "<div style='display: flex;flex: 1;flex-direction: row;justify-content: space-around;align-items: normal;flex-wrap: nowrap;gap: 0.5rem'><div style='display: flex;flex: 1;flex-direction: column;justify-content: flex-start;align-items: normal;flex-wrap: nowrap;gap: 0.5rem'><span>marimo dict</span><marimo-ui-element object-id='Kclp-6' random-id='a84812a7-737a-ebb0-7f1d-de1809f2a361'><marimo-dict data-initial-value='{&quot;slider&quot;: 1, &quot;text&quot;: &quot;&quot;, &quot;date&quot;: &quot;2025-05-20&quot;}' data-label='null' data-element-ids='{&quot;Kclp-3&quot;: &quot;slider&quot;, &quot;Kclp-4&quot;: &quot;text&quot;, &quot;Kclp-5&quot;: &quot;date&quot;}'><marimo-json-output data-json-data='{&quot;slider&quot;: &quot;text/markdown:&amp;lt;marimo-slider data-initial-value=&amp;#x27;1&amp;#x27; data-label=&amp;#x27;null&amp;#x27; data-start=&amp;#x27;1&amp;#x27; data-stop=&amp;#x27;10&amp;#x27; data-steps=&amp;#x27;[]&amp;#x27; data-debounce=&amp;#x27;false&amp;#x27; data-disabled=&amp;#x27;false&amp;#x27; data-orientation=&amp;#x27;&amp;amp;quot;horizontal&amp;amp;quot;&amp;#x27; data-show-value=&amp;#x27;true&amp;#x27; data-include-input=&amp;#x27;false&amp;#x27; data-full-width=&amp;#x27;false&amp;#x27;&amp;gt;&amp;lt;/marimo-slider&amp;gt;&quot;, &quot;text&quot;: &quot;text/markdown:&amp;lt;marimo-text data-initial-value=&amp;#x27;&amp;amp;quot;&amp;amp;quot;&amp;#x27; data-label=&amp;#x27;null&amp;#x27; data-placeholder=&amp;#x27;&amp;amp;quot;&amp;amp;quot;&amp;#x27; data-kind=&amp;#x27;&amp;amp;quot;text&amp;amp;quot;&amp;#x27; data-full-width=&amp;#x27;false&amp;#x27; data-disabled=&amp;#x27;false&amp;#x27; data-debounce=&amp;#x27;true&amp;#x27;&amp;gt;&amp;lt;/marimo-text&amp;gt;&quot;, &quot;date&quot;: &quot;text/markdown:&amp;lt;marimo-date data-initial-value=&amp;#x27;&amp;amp;quot;2025-05-20&amp;amp;quot;&amp;#x27; data-label=&amp;#x27;null&amp;#x27; data-start=&amp;#x27;&amp;amp;quot;0001-01-01&amp;amp;quot;&amp;#x27; data-stop=&amp;#x27;&amp;amp;quot;9999-12-31&amp;amp;quot;&amp;#x27; data-full-width=&amp;#x27;false&amp;#x27;&amp;gt;&amp;lt;/marimo-date&amp;gt;&quot;}' data-value-types='&quot;python&quot;' data-name='&quot;dictionary&quot;'></marimo-json-output></marimo-dict></marimo-ui-element></div><div style='display: flex;flex: 1;flex-direction: column;justify-content: flex-start;align-items: normal;flex-wrap: nowrap;gap: 0.5rem'><span>original elements</span><div style='display: flex;flex: 1;flex-direction: column;justify-content: flex-start;align-items: normal;flex-wrap: nowrap;gap: 0.5rem'><marimo-ui-element object-id='Kclp-0' random-id='23f81a38-333a-30ec-a822-088045e97749'><marimo-slider data-initial-value='1' data-label='null' data-start='1' data-stop='10' data-steps='[]' data-debounce='false' data-disabled='false' data-orientation='&quot;horizontal&quot;' data-show-value='true' data-include-input='false' data-full-width='false'></marimo-slider></marimo-ui-element><marimo-ui-element object-id='Kclp-1' random-id='056907f6-bfb4-50a1-5bb7-d878f9172079'><marimo-text data-initial-value='&quot;&quot;' data-label='null' data-placeholder='&quot;&quot;' data-kind='&quot;text&quot;' data-full-width='false' data-disabled='false' data-debounce='true'></marimo-text></marimo-ui-element><marimo-ui-element object-id='Kclp-2' random-id='cd5922d2-ade1-2afd-5a8a-71c84c472923'><marimo-date data-initial-value='&quot;2025-05-20&quot;' data-label='null' data-start='&quot;0001-01-01&quot;' data-stop='&quot;9999-12-31&quot;' data-full-width='false'></marimo-date></marimo-ui-element></div></div><div style='display: flex;flex: 1;flex-direction: column;justify-content: flex-start;align-items: normal;flex-wrap: nowrap;gap: 0.5rem'><span>python dict</span><marimo-json-output data-json-data='{&quot;slider&quot;: &quot;text/markdown:&amp;lt;marimo-slider data-initial-value=&amp;#x27;1&amp;#x27; data-label=&amp;#x27;null&amp;#x27; data-start=&amp;#x27;1&amp;#x27; data-stop=&amp;#x27;10&amp;#x27; data-steps=&amp;#x27;[]&amp;#x27; data-debounce=&amp;#x27;false&amp;#x27; data-disabled=&amp;#x27;false&amp;#x27; data-orientation=&amp;#x27;&amp;amp;quot;horizontal&amp;amp;quot;&amp;#x27; data-show-value=&amp;#x27;true&amp;#x27; data-include-input=&amp;#x27;false&amp;#x27; data-full-width=&amp;#x27;false&amp;#x27;&amp;gt;&amp;lt;/marimo-slider&amp;gt;&quot;, &quot;text&quot;: &quot;text/markdown:&amp;lt;marimo-text data-initial-value=&amp;#x27;&amp;amp;quot;&amp;amp;quot;&amp;#x27; data-label=&amp;#x27;null&amp;#x27; data-placeholder=&amp;#x27;&amp;amp;quot;&amp;amp;quot;&amp;#x27; data-kind=&amp;#x27;&amp;amp;quot;text&amp;amp;quot;&amp;#x27; data-full-width=&amp;#x27;false&amp;#x27; data-disabled=&amp;#x27;false&amp;#x27; data-debounce=&amp;#x27;true&amp;#x27;&amp;gt;&amp;lt;/marimo-text&amp;gt;&quot;, &quot;date&quot;: &quot;text/markdown:&amp;lt;marimo-date data-initial-value=&amp;#x27;&amp;amp;quot;2025-05-20&amp;amp;quot;&amp;#x27; data-label=&amp;#x27;null&amp;#x27; data-start=&amp;#x27;&amp;amp;quot;0001-01-01&amp;amp;quot;&amp;#x27; data-stop=&amp;#x27;&amp;amp;quot;9999-12-31&amp;amp;quot;&amp;#x27; data-full-width=&amp;#x27;false&amp;#x27;&amp;gt;&amp;lt;/marimo-date&amp;gt;&quot;}' data-value-types='&quot;python&quot;'></marimo-json-output></div></div>"
      ]
     },
     "metadata": {},
     "output_type": "display_data"
    }
   ],
   "source": [
    "create\n",
    "\n",
    "slider = mo.ui.slider(1, 10, show_value=True)\n",
    "text = mo.ui.text()\n",
    "date = mo.ui.date()\n",
    "\n",
    "mo_d = mo.ui.dictionary(\n",
    "    {\n",
    "        \"slider\": slider,\n",
    "        \"text\": text,\n",
    "        \"date\": date,\n",
    "    }\n",
    ")\n",
    "\n",
    "py_d = {\n",
    "    \"slider\": slider,\n",
    "    \"text\": text,\n",
    "    \"date\": date,\n",
    "}\n",
    "\n",
    "mo.hstack(\n",
    "    [\n",
    "        mo.vstack([\"marimo dict\", mo_d]),\n",
    "        mo.vstack([\"original elements\", mo.vstack([slider, text, date])]),\n",
    "        mo.vstack([\"python dict\", py_d]),\n",
    "    ],\n",
    "    justify=\"space-around\",\n",
    ")"
   ]
  },
  {
   "cell_type": "code",
   "execution_count": null,
   "id": "emfo",
   "metadata": {
    "marimo": {
     "config": {
      "hide_code": true
     }
    }
   },
   "outputs": [
    {
     "data": {
      "text/html": [
       "<div style='display: flex;flex: 1;flex-direction: row;justify-content: space-around;align-items: normal;flex-wrap: nowrap;gap: 0.5rem'><div style='display: flex;flex: 1;flex-direction: column;justify-content: flex-start;align-items: normal;flex-wrap: nowrap;gap: 0.5rem'><span>reference of marimo dict</span><marimo-json-output data-json-data='{&quot;slider&quot;: 1, &quot;text&quot;: &quot;&quot;, &quot;date&quot;: &quot;text/plain:2025-05-20&quot;}' data-value-types='&quot;python&quot;'></marimo-json-output></div><div style='display: flex;flex: 1;flex-direction: column;justify-content: flex-start;align-items: normal;flex-wrap: nowrap;gap: 0.5rem'><span>reference of python dict</span><marimo-json-output data-json-data='{&quot;slider&quot;: 1, &quot;text&quot;: &quot;&quot;, &quot;date&quot;: &quot;text/plain:2025-05-20&quot;}' data-value-types='&quot;python&quot;'></marimo-json-output></div></div>"
      ]
     },
     "metadata": {},
     "output_type": "display_data"
    }
   ],
   "source": [
    "mo_d_ref = {k: mo_d[k].value for k in mo_d.value.keys()}\n",
    "py_d_ref = {k: py_d[k].value for k in py_d.keys()}\n",
    "mo.hstack(\n",
    "    [\n",
    "        mo.vstack([\"reference of marimo dict\", mo_d_ref]),\n",
    "        mo.vstack([\"reference of python dict\", py_d_ref]),\n",
    "    ],\n",
    "    justify=\"space-around\",\n",
    ")"
   ]
  },
  {
   "cell_type": "markdown",
   "id": "Hstk",
   "metadata": {
    "marimo": {
     "config": {
      "hide_code": true
     }
    }
   },
   "source": [
    "Notice that when you interact with the UI elements in the marimo dict, the reference of marimo dict updates automatically. However, when you interact with the elements in the python dict, you need to manually re-run the cell to see the updated values."
   ]
  }
 ],
 "metadata": {},
 "nbformat": 4,
 "nbformat_minor": 5
}
