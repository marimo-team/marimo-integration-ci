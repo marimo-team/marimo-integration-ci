{
 "cells": [
  {
   "cell_type": "code",
   "execution_count": null,
   "id": "Hbol",
   "metadata": {
    "marimo": {
     "config": {
      "hide_code": true
     }
    }
   },
   "outputs": [
    {
     "data": {
      "text/html": [
       "<div style='display: flex;flex: 1;flex-direction: row;justify-content: flex-start;align-items: normal;flex-wrap: nowrap;gap: 0.5rem'><div><span class=\"markdown prose dark:prose-invert\"><h1 id=\"task-list\">Task List</h1></span></div></div>"
      ]
     },
     "metadata": {},
     "output_type": "display_data"
    }
   ],
   "source": [
    "mo.md(\"# Task List\").left()"
   ]
  },
  {
   "cell_type": "code",
   "execution_count": null,
   "id": "MJUe",
   "metadata": {},
   "outputs": [],
   "source": [
    "@dataclass\n",
    "class Task:\n",
    "    name: str\n",
    "    done: bool = False"
   ]
  },
  {
   "cell_type": "code",
   "execution_count": null,
   "id": "vblA",
   "metadata": {},
   "outputs": [],
   "source": [
    "get_tasks, set_tasks = mo.state([])\n",
    "mutation_signal, set_mutation_signal = mo.state(False)"
   ]
  },
  {
   "cell_type": "code",
   "execution_count": null,
   "id": "bkHC",
   "metadata": {},
   "outputs": [],
   "source": [
    "mutation_signal\n",
    "\n",
    "task_entry_box = mo.ui.text(placeholder=\"a task ...\")"
   ]
  },
  {
   "cell_type": "code",
   "execution_count": null,
   "id": "lEQa",
   "metadata": {},
   "outputs": [],
   "source": [
    "def add_task():\n",
    "    if task_entry_box.value:\n",
    "        set_tasks(lambda v: v + [Task(task_entry_box.value)])\n",
    "    set_mutation_signal(True)\n",
    "\n",
    "\n",
    "add_task_button = mo.ui.button(\n",
    "    label=\"add task\",\n",
    "    on_change=lambda _: add_task(),\n",
    ")\n",
    "\n",
    "clear_tasks_button = mo.ui.button(\n",
    "    label=\"clear completed tasks\",\n",
    "    on_change=lambda _: set_tasks(\n",
    "        lambda v: [task for task in v if not task.done]\n",
    "    ),\n",
    ")"
   ]
  },
  {
   "cell_type": "code",
   "execution_count": null,
   "id": "PKri",
   "metadata": {},
   "outputs": [
    {
     "data": {
      "text/html": [
       "<div style='display: flex;flex: 1;flex-direction: row;justify-content: flex-start;align-items: normal;flex-wrap: nowrap;gap: 0.5rem'><div><marimo-ui-element object-id='bkHC-0' random-id='bdd640fb-0667-1ad1-1c80-317fa3b1799d'><marimo-text data-initial-value='&quot;&quot;' data-label='null' data-placeholder='&quot;a task ...&quot;' data-kind='&quot;text&quot;' data-full-width='false' data-disabled='false' data-debounce='true'></marimo-text></marimo-ui-element></div><div><marimo-ui-element object-id='lEQa-0' random-id='23b8c1e9-3924-56de-3eb1-3b9046685257'><marimo-button data-initial-value='0' data-label='&quot;&lt;span class=&#92;&quot;markdown prose dark:prose-invert&#92;&quot;&gt;&lt;span class=&#92;&quot;paragraph&#92;&quot;&gt;add task&lt;/span&gt;&lt;/span&gt;&quot;' data-kind='&quot;neutral&quot;' data-disabled='false' data-full-width='false'></marimo-button></marimo-ui-element></div><div><marimo-ui-element object-id='lEQa-1' random-id='bd9c66b3-ad3c-2d6d-1a3d-1fa7bc8960a9'><marimo-button data-initial-value='0' data-label='&quot;&lt;span class=&#92;&quot;markdown prose dark:prose-invert&#92;&quot;&gt;&lt;span class=&#92;&quot;paragraph&#92;&quot;&gt;clear completed tasks&lt;/span&gt;&lt;/span&gt;&quot;' data-kind='&quot;neutral&quot;' data-disabled='false' data-full-width='false'></marimo-button></marimo-ui-element></div></div>"
      ]
     },
     "metadata": {},
     "output_type": "display_data"
    }
   ],
   "source": [
    "mo.hstack(\n",
    "    [task_entry_box, add_task_button, clear_tasks_button], justify=\"start\"\n",
    ")"
   ]
  },
  {
   "cell_type": "code",
   "execution_count": null,
   "id": "Xref",
   "metadata": {},
   "outputs": [],
   "source": [
    "task_list = mo.ui.array(\n",
    "    [mo.ui.checkbox(value=task.done, label=task.name) for task in get_tasks()],\n",
    "    label=\"tasks\",\n",
    "    on_change=lambda v: set_tasks(\n",
    "        [Task(task.name, done=v[i]) for i, task in enumerate(get_tasks())]\n",
    "    ),\n",
    ")"
   ]
  },
  {
   "cell_type": "code",
   "execution_count": null,
   "id": "SFPL",
   "metadata": {},
   "outputs": [
    {
     "data": {
      "text/markdown": [
       "No tasks! 🎉"
      ]
     },
     "metadata": {},
     "output_type": "display_data"
    }
   ],
   "source": [
    "mo.as_html(task_list) if task_list.value else mo.md(\"No tasks! 🎉\")"
   ]
  },
  {
   "cell_type": "code",
   "execution_count": null,
   "id": "BYtC",
   "metadata": {},
   "outputs": [],
   "source": [
    "import marimo as mo"
   ]
  },
  {
   "cell_type": "code",
   "execution_count": null,
   "id": "RGSE",
   "metadata": {},
   "outputs": [],
   "source": [
    "from dataclasses import dataclass"
   ]
  }
 ],
 "metadata": {},
 "nbformat": 4,
 "nbformat_minor": 5
}
