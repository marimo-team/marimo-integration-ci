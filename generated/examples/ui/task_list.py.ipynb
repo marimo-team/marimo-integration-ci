{
 "cells": [
  {
   "cell_type": "code",
   "execution_count": null,
   "id": "Hbol",
   "metadata": {},
   "outputs": [],
   "source": [
    "mo.md(\"# Task List\").left()"
   ]
  },
  {
   "cell_type": "code",
   "execution_count": null,
   "id": "MJUe",
   "metadata": {},
   "outputs": [],
   "source": [
    "@dataclass\n",
    "class Task:\n",
    "    name: str\n",
    "    done: bool = False"
   ]
  },
  {
   "cell_type": "code",
   "execution_count": null,
   "id": "vblA",
   "metadata": {},
   "outputs": [],
   "source": [
    "get_tasks, set_tasks = mo.state([])\n",
    "mutation_signal, set_mutation_signal = mo.state(False)"
   ]
  },
  {
   "cell_type": "code",
   "execution_count": null,
   "id": "bkHC",
   "metadata": {},
   "outputs": [],
   "source": [
    "mutation_signal\n",
    "\n",
    "task_entry_box = mo.ui.text(placeholder=\"a task ...\")"
   ]
  },
  {
   "cell_type": "code",
   "execution_count": null,
   "id": "lEQa",
   "metadata": {},
   "outputs": [],
   "source": [
    "def add_task():\n",
    "    if task_entry_box.value:\n",
    "        set_tasks(lambda v: v + [Task(task_entry_box.value)])\n",
    "    set_mutation_signal(True)\n",
    "\n",
    "\n",
    "add_task_button = mo.ui.button(\n",
    "    label=\"add task\",\n",
    "    on_change=lambda _: add_task(),\n",
    ")\n",
    "\n",
    "clear_tasks_button = mo.ui.button(\n",
    "    label=\"clear completed tasks\",\n",
    "    on_change=lambda _: set_tasks(\n",
    "        lambda v: [task for task in v if not task.done]\n",
    "    ),\n",
    ")"
   ]
  },
  {
   "cell_type": "code",
   "execution_count": null,
   "id": "PKri",
   "metadata": {},
   "outputs": [],
   "source": [
    "mo.hstack(\n",
    "    [task_entry_box, add_task_button, clear_tasks_button], justify=\"start\"\n",
    ")"
   ]
  },
  {
   "cell_type": "code",
   "execution_count": null,
   "id": "Xref",
   "metadata": {},
   "outputs": [],
   "source": [
    "task_list = mo.ui.array(\n",
    "    [mo.ui.checkbox(value=task.done, label=task.name) for task in get_tasks()],\n",
    "    label=\"tasks\",\n",
    "    on_change=lambda v: set_tasks(\n",
    "        [Task(task.name, done=v[i]) for i, task in enumerate(get_tasks())]\n",
    "    ),\n",
    ")"
   ]
  },
  {
   "cell_type": "code",
   "execution_count": null,
   "id": "SFPL",
   "metadata": {},
   "outputs": [],
   "source": [
    "mo.as_html(task_list) if task_list.value else mo.md(\"No tasks! 🎉\")"
   ]
  },
  {
   "cell_type": "code",
   "execution_count": null,
   "id": "BYtC",
   "metadata": {},
   "outputs": [],
   "source": [
    "import marimo as mo"
   ]
  },
  {
   "cell_type": "code",
   "execution_count": null,
   "id": "RGSE",
   "metadata": {},
   "outputs": [],
   "source": [
    "from dataclasses import dataclass"
   ]
  }
 ],
 "metadata": {},
 "nbformat": 4,
 "nbformat_minor": 5
}
