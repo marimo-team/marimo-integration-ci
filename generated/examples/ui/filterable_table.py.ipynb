{
 "cells": [
  {
   "cell_type": "markdown",
   "id": "Hbol",
   "metadata": {},
   "source": [
    "# Filterable DataFrame"
   ]
  },
  {
   "cell_type": "code",
   "execution_count": null,
   "id": "MJUe",
   "metadata": {},
   "outputs": [],
   "source": [
    "# Read the csv\n",
    "df = pd.read_json(data_url(\"cars.json\"))"
   ]
  },
  {
   "cell_type": "code",
   "execution_count": null,
   "id": "vblA",
   "metadata": {},
   "outputs": [],
   "source": [
    "# Create options for select widgets\n",
    "manufacturer_options = df[\"Name\"].str.split().str[0].unique()\n",
    "manufacturer_options.sort()\n",
    "cylinder_options = df[\"Cylinders\"].unique().astype(str)\n",
    "cylinder_options.sort()"
   ]
  },
  {
   "cell_type": "code",
   "execution_count": null,
   "id": "bkHC",
   "metadata": {},
   "outputs": [],
   "source": [
    "# Create the filters\n",
    "manufacturer = mo.ui.dropdown(manufacturer_options, label=\"Manufacturer\")\n",
    "cylinders = mo.ui.dropdown(cylinder_options, label=\"Cylinders\")\n",
    "\n",
    "horse_power = mo.ui.range_slider.from_series(\n",
    "    df[\"Horsepower\"],\n",
    "    show_value=True,\n",
    ")\n",
    "\n",
    "mo.hstack([manufacturer, horse_power, cylinders], gap=3).left()"
   ]
  },
  {
   "cell_type": "code",
   "execution_count": null,
   "id": "lEQa",
   "metadata": {},
   "outputs": [],
   "source": [
    "filter_df(df)"
   ]
  },
  {
   "cell_type": "code",
   "execution_count": null,
   "id": "PKri",
   "metadata": {},
   "outputs": [],
   "source": [
    "def filter_df(df):\n",
    "    filtered_df = df\n",
    "    if manufacturer.value:\n",
    "        filtered_df = filtered_df[\n",
    "            filtered_df[\"Name\"].str.contains(manufacturer.value, case=False)\n",
    "        ]\n",
    "    if cylinders.value:\n",
    "        filtered_df = filtered_df[filtered_df[\"Cylinders\"] == cylinders.value]\n",
    "    if horse_power.value:\n",
    "        left, right = horse_power.value\n",
    "        filtered_df = filtered_df[\n",
    "            (filtered_df[\"Horsepower\"] >= left)\n",
    "            & (filtered_df[\"Horsepower\"] <= right)\n",
    "        ]\n",
    "    return filtered_df"
   ]
  },
  {
   "cell_type": "code",
   "execution_count": null,
   "id": "Xref",
   "metadata": {},
   "outputs": [],
   "source": [
    "def data_url(file):\n",
    "    return f\"https://cdn.jsdelivr.net/npm/vega-datasets@v1.29.0/data/{file}\""
   ]
  },
  {
   "cell_type": "code",
   "execution_count": null,
   "id": "SFPL",
   "metadata": {},
   "outputs": [],
   "source": [
    "import marimo as mo\n",
    "import pandas as pd"
   ]
  }
 ],
 "metadata": {},
 "nbformat": 4,
 "nbformat_minor": 5
}
