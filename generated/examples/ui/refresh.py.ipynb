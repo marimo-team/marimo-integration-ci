{
 "cells": [
  {
   "cell_type": "code",
   "execution_count": null,
   "id": "Hbol",
   "metadata": {},
   "outputs": [],
   "source": [
    "mo.hstack([\n",
    "    mo.vstack([\n",
    "        mo.md(\"## Settings | [`marimo.ui.slider`](https://docs.marimo.io/api/inputs/slider.html), [`marimo.ui.refresh`](https://docs.marimo.io/recipes.html#run-a-cell-on-a-timer)\\n---\"),\n",
    "        refresh_interval_slider,\n",
    "        n_points_slider,\n",
    "        refresher,\n",
    "        mo.md(\"## ISS Positions | [`marimo.ui.altair_chart`](https://docs.marimo.io/api/plotting.html#marimo.ui.altair_chart)\\n---\"),\n",
    "        mo.as_html(chart).style({\"width\": \"700px\"})\n",
    "    ], align=\"center\"),\n",
    "    mo.vstack([\n",
    "        mo.md(\"## Data | [`marimo.as_html`](https://docs.marimo.io/api/html.html)`(pd.DataFrame)`\\n---\"),\n",
    "        mo.as_html(iss_df)\n",
    "    ])\n",
    "], justify=\"center\", wrap=True, gap=3)"
   ]
  },
  {
   "cell_type": "code",
   "execution_count": null,
   "id": "MJUe",
   "metadata": {},
   "outputs": [],
   "source": [
    "hover=alt.selection_point(on=\"mouseover\", clear=\"mouseout\")\n",
    "\n",
    "# iss positions\n",
    "iss_df = get_iss_positions()\n",
    "iss = alt.Chart(iss_df[['longitude','latitude','timestamp']]).mark_circle(\n",
    "    stroke='black', size=100,\n",
    ").encode(\n",
    "    longitude=alt.Longitude('longitude:Q'),\n",
    "    latitude='latitude:Q',\n",
    "    fill=alt.Fill('timestamp:Q', scale=alt.Scale(scheme='purples'), legend=None),\n",
    "    strokeWidth=alt.condition(hover, alt.value(3, empty=False), alt.value(0)),\n",
    "    tooltip=[\n",
    "        alt.Tooltip('longitude:Q', title='Longitude', format='.4f'),\n",
    "        alt.Tooltip('latitude:Q', title='Latitude', format='.4f'),\n",
    "        alt.Tooltip('timestamp:T', title='Timestamp', format='%Y-%m-%d %H:%M:%S')\n",
    "    ]\n",
    ").add_params(hover)\n",
    "\n",
    "chart = alt.layer(sphere, world, iss).project(type=\"naturalEarth1\").properties(width=640, title=\"\")"
   ]
  },
  {
   "cell_type": "code",
   "execution_count": null,
   "id": "vblA",
   "metadata": {},
   "outputs": [],
   "source": [
    "# load geo data from Vega Datasets\n",
    "countries = alt.topo_feature(data.world_110m.url, 'countries')\n",
    "\n",
    "# world base\n",
    "sphere = alt.Chart(alt.sphere()).mark_geoshape(\n",
    "    fill=\"aliceblue\", stroke=\"black\", strokeWidth=1.5\n",
    ")\n",
    "\n",
    "# world map\n",
    "world = alt.Chart(countries).mark_geoshape(\n",
    "    fill=\"mintcream\", stroke=\"black\", strokeWidth=0.35\n",
    ")"
   ]
  },
  {
   "cell_type": "code",
   "execution_count": null,
   "id": "bkHC",
   "metadata": {},
   "outputs": [],
   "source": [
    "def get_iss_positions(refresher=refresher):\n",
    "    refresher\n",
    "    timepoints = [int(time())]\n",
    "    while len(timepoints) <= n_points_slider.value:\n",
    "        timepoints.append(timepoints[-1] - refresh_interval_slider.value)\n",
    "    else:\n",
    "        timepoints.pop(0)\n",
    "    timepoints_str = str(timepoints)[1:-1].replace(\" \", \"\")\n",
    "    iss_url = f\"https://api.wheretheiss.at/v1/satellites/25544/positions?timestamps={timepoints_str}\"\n",
    "    response = requests.get(iss_url)\n",
    "    df = pd.DataFrame(response.json())\n",
    "    df['timestamp'] = pd.to_datetime(df.timestamp, unit='s')\n",
    "    return df[['timestamp','latitude','longitude','altitude','velocity','visibility']]"
   ]
  },
  {
   "cell_type": "code",
   "execution_count": null,
   "id": "lEQa",
   "metadata": {},
   "outputs": [],
   "source": [
    "refresher = mo.ui.refresh(default_interval=f\"{refresh_interval_slider.value}s\")"
   ]
  },
  {
   "cell_type": "code",
   "execution_count": null,
   "id": "PKri",
   "metadata": {},
   "outputs": [],
   "source": [
    "refresh_interval_slider = mo.ui.slider(start=5, stop=60, step=1, value=10, label=\"refresh interval (default = 10 sec)\")\n",
    "n_points_slider = mo.ui.slider(start=5, stop=30, step=1, value=15, label=\"number of points (default = 15)\")"
   ]
  },
  {
   "cell_type": "code",
   "execution_count": null,
   "id": "Xref",
   "metadata": {},
   "outputs": [],
   "source": [
    "import altair as alt\n",
    "import marimo as mo\n",
    "import pandas as pd\n",
    "import requests\n",
    "from time import time\n",
    "from vega_datasets import data\n",
    "\n",
    "pd.options.display.max_rows = 30"
   ]
  }
 ],
 "metadata": {},
 "nbformat": 4,
 "nbformat_minor": 5
}
