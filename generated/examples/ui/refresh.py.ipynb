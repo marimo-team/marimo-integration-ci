{
 "cells": [
  {
   "cell_type": "code",
   "execution_count": null,
   "id": "Hbol",
   "metadata": {},
   "outputs": [
    {
     "data": {
      "text/html": [
       "<div style='display: flex;flex: 1;flex-direction: row;justify-content: center;align-items: normal;flex-wrap: wrap;gap: 3rem'><div><div style='display: flex;flex: 1;flex-direction: column;justify-content: flex-start;align-items: center;flex-wrap: nowrap;gap: 0.5rem'><div><span class=\"markdown prose dark:prose-invert\"><h2 id=\"settings-marimouislider-marimouirefresh\">Settings | <a href=\"https://docs.marimo.io/api/inputs/slider.html\" rel=\"noopener\" target=\"_blank\"><code>marimo.ui.slider</code></a>, <a href=\"https://docs.marimo.io/recipes.html#run-a-cell-on-a-timer\" rel=\"noopener\" target=\"_blank\"><code>marimo.ui.refresh</code></a></h2>\n",
       "<hr /></span></div><div><marimo-ui-element object-id='PKri-0' random-id='bdd640fb-0667-1ad1-1c80-317fa3b1799d'><marimo-slider data-initial-value='10' data-label='&quot;&lt;span class=&#92;&quot;markdown prose dark:prose-invert&#92;&quot;&gt;&lt;span class=&#92;&quot;paragraph&#92;&quot;&gt;refresh interval (default = 10 sec)&lt;/span&gt;&lt;/span&gt;&quot;' data-start='5' data-stop='60' data-step='1' data-steps='[]' data-debounce='false' data-orientation='&quot;horizontal&quot;' data-show-value='false' data-full-width='false'></marimo-slider></marimo-ui-element></div><div><marimo-ui-element object-id='PKri-1' random-id='23b8c1e9-3924-56de-3eb1-3b9046685257'><marimo-slider data-initial-value='15' data-label='&quot;&lt;span class=&#92;&quot;markdown prose dark:prose-invert&#92;&quot;&gt;&lt;span class=&#92;&quot;paragraph&#92;&quot;&gt;number of points (default = 15)&lt;/span&gt;&lt;/span&gt;&quot;' data-start='5' data-stop='30' data-step='1' data-steps='[]' data-debounce='false' data-orientation='&quot;horizontal&quot;' data-show-value='false' data-full-width='false'></marimo-slider></marimo-ui-element></div><div><marimo-ui-element object-id='lEQa-0' random-id='bd9c66b3-ad3c-2d6d-1a3d-1fa7bc8960a9'><marimo-refresh data-initial-value='0' data-label='null' data-options='[&quot;10s&quot;]' data-default-interval='&quot;10s&quot;'></marimo-refresh></marimo-ui-element></div><div><span class=\"markdown prose dark:prose-invert\"><h2 id=\"iss-positions-marimouialtair_chart\">ISS Positions | <a href=\"https://docs.marimo.io/api/plotting.html#marimo.ui.altair_chart\" rel=\"noopener\" target=\"_blank\"><code>marimo.ui.altair_chart</code></a></h2>\n",
       "<hr /></span></div><div><div style='width:700px'><marimo-mime-renderer data-mime='&quot;application/vnd.vegalite.v5+json&quot;' data-data='&quot;{&#92;n  &#92;&quot;&#36;schema&#92;&quot;: &#92;&quot;https://vega.github.io/schema/vega-lite/v5.20.1.json&#92;&quot;,&#92;n  &#92;&quot;config&#92;&quot;: {&#92;n    &#92;&quot;view&#92;&quot;: {&#92;n      &#92;&quot;continuousHeight&#92;&quot;: 300,&#92;n      &#92;&quot;continuousWidth&#92;&quot;: 300&#92;n    }&#92;n  },&#92;n  &#92;&quot;datasets&#92;&quot;: {&#92;n    &#92;&quot;data-7865277fa1c1529abb295990ed766018&#92;&quot;: [&#92;n      {&#92;n        &#92;&quot;latitude&#92;&quot;: 18.518033401094,&#92;n        &#92;&quot;longitude&#92;&quot;: 88.729041468841,&#92;n        &#92;&quot;timestamp&#92;&quot;: &#92;&quot;2024-12-10T00:46:00&#92;&quot;&#92;n      },&#92;n      {&#92;n        &#92;&quot;latitude&#92;&quot;: 18.025506597505,&#92;n        &#92;&quot;longitude&#92;&quot;: 88.326156108801,&#92;n        &#92;&quot;timestamp&#92;&quot;: &#92;&quot;2024-12-10T00:45:50&#92;&quot;&#92;n      },&#92;n      {&#92;n        &#92;&quot;latitude&#92;&quot;: 17.531934565209,&#92;n        &#92;&quot;longitude&#92;&quot;: 87.925728248387,&#92;n        &#92;&quot;timestamp&#92;&quot;: &#92;&quot;2024-12-10T00:45:40&#92;&quot;&#92;n      },&#92;n      {&#92;n        &#92;&quot;latitude&#92;&quot;: 17.037356864233,&#92;n        &#92;&quot;longitude&#92;&quot;: 87.527681213887,&#92;n        &#92;&quot;timestamp&#92;&quot;: &#92;&quot;2024-12-10T00:45:30&#92;&quot;&#92;n      },&#92;n      {&#92;n        &#92;&quot;latitude&#92;&quot;: 16.54180653456,&#92;n        &#92;&quot;longitude&#92;&quot;: 87.131934433552,&#92;n        &#92;&quot;timestamp&#92;&quot;: &#92;&quot;2024-12-10T00:45:20&#92;&quot;&#92;n      },&#92;n      {&#92;n        &#92;&quot;latitude&#92;&quot;: 16.045316057076,&#92;n        &#92;&quot;longitude&#92;&quot;: 86.738408287474,&#92;n        &#92;&quot;timestamp&#92;&quot;: &#92;&quot;2024-12-10T00:45:10&#92;&quot;&#92;n      },&#92;n      {&#92;n        &#92;&quot;latitude&#92;&quot;: 15.547923384519,&#92;n        &#92;&quot;longitude&#92;&quot;: 86.347028790439,&#92;n        &#92;&quot;timestamp&#92;&quot;: &#92;&quot;2024-12-10T00:45:00&#92;&quot;&#92;n      },&#92;n      {&#92;n        &#92;&quot;latitude&#92;&quot;: 15.04965997642,&#92;n        &#92;&quot;longitude&#92;&quot;: 85.957718067036,&#92;n        &#92;&quot;timestamp&#92;&quot;: &#92;&quot;2024-12-10T00:44:50&#92;&quot;&#92;n      },&#92;n      {&#92;n        &#92;&quot;latitude&#92;&quot;: 14.550556795863,&#92;n        &#92;&quot;longitude&#92;&quot;: 85.570399112893,&#92;n        &#92;&quot;timestamp&#92;&quot;: &#92;&quot;2024-12-10T00:44:40&#92;&quot;&#92;n      },&#92;n      {&#92;n        &#92;&quot;latitude&#92;&quot;: 14.050650368896,&#92;n        &#92;&quot;longitude&#92;&quot;: 85.18500040581,&#92;n        &#92;&quot;timestamp&#92;&quot;: &#92;&quot;2024-12-10T00:44:30&#92;&quot;&#92;n      },&#92;n      {&#92;n        &#92;&quot;latitude&#92;&quot;: 13.549970755237,&#92;n        &#92;&quot;longitude&#92;&quot;: 84.80144652983,&#92;n        &#92;&quot;timestamp&#92;&quot;: &#92;&quot;2024-12-10T00:44:20&#92;&quot;&#92;n      },&#92;n      {&#92;n        &#92;&quot;latitude&#92;&quot;: 13.048547577166,&#92;n        &#92;&quot;longitude&#92;&quot;: 84.419662856766,&#92;n        &#92;&quot;timestamp&#92;&quot;: &#92;&quot;2024-12-10T00:44:10&#92;&quot;&#92;n      },&#92;n      {&#92;n        &#92;&quot;latitude&#92;&quot;: 12.546416104076,&#92;n        &#92;&quot;longitude&#92;&quot;: 84.039580093954,&#92;n        &#92;&quot;timestamp&#92;&quot;: &#92;&quot;2024-12-10T00:44:00&#92;&quot;&#92;n      },&#92;n      {&#92;n        &#92;&quot;latitude&#92;&quot;: 12.043605166087,&#92;n        &#92;&quot;longitude&#92;&quot;: 83.661125041413,&#92;n        &#92;&quot;timestamp&#92;&quot;: &#92;&quot;2024-12-10T00:43:50&#92;&quot;&#92;n      },&#92;n      {&#92;n        &#92;&quot;latitude&#92;&quot;: 11.540143211604,&#92;n        &#92;&quot;longitude&#92;&quot;: 83.284225202198,&#92;n        &#92;&quot;timestamp&#92;&quot;: &#92;&quot;2024-12-10T00:43:40&#92;&quot;&#92;n      }&#92;n    ]&#92;n  },&#92;n  &#92;&quot;layer&#92;&quot;: [&#92;n    {&#92;n      &#92;&quot;data&#92;&quot;: {&#92;n        &#92;&quot;sphere&#92;&quot;: true&#92;n      },&#92;n      &#92;&quot;mark&#92;&quot;: {&#92;n        &#92;&quot;fill&#92;&quot;: &#92;&quot;aliceblue&#92;&quot;,&#92;n        &#92;&quot;stroke&#92;&quot;: &#92;&quot;black&#92;&quot;,&#92;n        &#92;&quot;strokeWidth&#92;&quot;: 1.5,&#92;n        &#92;&quot;type&#92;&quot;: &#92;&quot;geoshape&#92;&quot;&#92;n      }&#92;n    },&#92;n    {&#92;n      &#92;&quot;data&#92;&quot;: {&#92;n        &#92;&quot;format&#92;&quot;: {&#92;n          &#92;&quot;feature&#92;&quot;: &#92;&quot;countries&#92;&quot;,&#92;n          &#92;&quot;type&#92;&quot;: &#92;&quot;topojson&#92;&quot;&#92;n        },&#92;n        &#92;&quot;url&#92;&quot;: &#92;&quot;https://cdn.jsdelivr.net/npm/vega-datasets@v1.29.0/data/world-110m.json&#92;&quot;&#92;n      },&#92;n      &#92;&quot;mark&#92;&quot;: {&#92;n        &#92;&quot;fill&#92;&quot;: &#92;&quot;mintcream&#92;&quot;,&#92;n        &#92;&quot;stroke&#92;&quot;: &#92;&quot;black&#92;&quot;,&#92;n        &#92;&quot;strokeWidth&#92;&quot;: 0.35,&#92;n        &#92;&quot;type&#92;&quot;: &#92;&quot;geoshape&#92;&quot;&#92;n      }&#92;n    },&#92;n    {&#92;n      &#92;&quot;data&#92;&quot;: {&#92;n        &#92;&quot;name&#92;&quot;: &#92;&quot;data-7865277fa1c1529abb295990ed766018&#92;&quot;&#92;n      },&#92;n      &#92;&quot;encoding&#92;&quot;: {&#92;n        &#92;&quot;fill&#92;&quot;: {&#92;n          &#92;&quot;field&#92;&quot;: &#92;&quot;timestamp&#92;&quot;,&#92;n          &#92;&quot;legend&#92;&quot;: null,&#92;n          &#92;&quot;scale&#92;&quot;: {&#92;n            &#92;&quot;scheme&#92;&quot;: &#92;&quot;purples&#92;&quot;&#92;n          },&#92;n          &#92;&quot;type&#92;&quot;: &#92;&quot;quantitative&#92;&quot;&#92;n        },&#92;n        &#92;&quot;latitude&#92;&quot;: {&#92;n          &#92;&quot;field&#92;&quot;: &#92;&quot;latitude&#92;&quot;,&#92;n          &#92;&quot;type&#92;&quot;: &#92;&quot;quantitative&#92;&quot;&#92;n        },&#92;n        &#92;&quot;longitude&#92;&quot;: {&#92;n          &#92;&quot;field&#92;&quot;: &#92;&quot;longitude&#92;&quot;,&#92;n          &#92;&quot;type&#92;&quot;: &#92;&quot;quantitative&#92;&quot;&#92;n        },&#92;n        &#92;&quot;strokeWidth&#92;&quot;: {&#92;n          &#92;&quot;condition&#92;&quot;: {&#92;n            &#92;&quot;empty&#92;&quot;: false,&#92;n            &#92;&quot;param&#92;&quot;: &#92;&quot;param_1&#92;&quot;,&#92;n            &#92;&quot;value&#92;&quot;: 3&#92;n          },&#92;n          &#92;&quot;value&#92;&quot;: 0&#92;n        },&#92;n        &#92;&quot;tooltip&#92;&quot;: [&#92;n          {&#92;n            &#92;&quot;field&#92;&quot;: &#92;&quot;longitude&#92;&quot;,&#92;n            &#92;&quot;format&#92;&quot;: &#92;&quot;.4f&#92;&quot;,&#92;n            &#92;&quot;title&#92;&quot;: &#92;&quot;Longitude&#92;&quot;,&#92;n            &#92;&quot;type&#92;&quot;: &#92;&quot;quantitative&#92;&quot;&#92;n          },&#92;n          {&#92;n            &#92;&quot;field&#92;&quot;: &#92;&quot;latitude&#92;&quot;,&#92;n            &#92;&quot;format&#92;&quot;: &#92;&quot;.4f&#92;&quot;,&#92;n            &#92;&quot;title&#92;&quot;: &#92;&quot;Latitude&#92;&quot;,&#92;n            &#92;&quot;type&#92;&quot;: &#92;&quot;quantitative&#92;&quot;&#92;n          },&#92;n          {&#92;n            &#92;&quot;field&#92;&quot;: &#92;&quot;timestamp&#92;&quot;,&#92;n            &#92;&quot;format&#92;&quot;: &#92;&quot;%Y-%m-%d %H:%M:%S&#92;&quot;,&#92;n            &#92;&quot;title&#92;&quot;: &#92;&quot;Timestamp&#92;&quot;,&#92;n            &#92;&quot;type&#92;&quot;: &#92;&quot;temporal&#92;&quot;&#92;n          }&#92;n        ]&#92;n      },&#92;n      &#92;&quot;mark&#92;&quot;: {&#92;n        &#92;&quot;size&#92;&quot;: 100,&#92;n        &#92;&quot;stroke&#92;&quot;: &#92;&quot;black&#92;&quot;,&#92;n        &#92;&quot;type&#92;&quot;: &#92;&quot;circle&#92;&quot;&#92;n      },&#92;n      &#92;&quot;name&#92;&quot;: &#92;&quot;view_1&#92;&quot;&#92;n    }&#92;n  ],&#92;n  &#92;&quot;params&#92;&quot;: [&#92;n    {&#92;n      &#92;&quot;name&#92;&quot;: &#92;&quot;param_1&#92;&quot;,&#92;n      &#92;&quot;select&#92;&quot;: {&#92;n        &#92;&quot;clear&#92;&quot;: &#92;&quot;mouseout&#92;&quot;,&#92;n        &#92;&quot;on&#92;&quot;: &#92;&quot;mouseover&#92;&quot;,&#92;n        &#92;&quot;type&#92;&quot;: &#92;&quot;point&#92;&quot;&#92;n      },&#92;n      &#92;&quot;views&#92;&quot;: [&#92;n        &#92;&quot;view_1&#92;&quot;&#92;n      ]&#92;n    }&#92;n  ],&#92;n  &#92;&quot;projection&#92;&quot;: {&#92;n    &#92;&quot;type&#92;&quot;: &#92;&quot;naturalEarth1&#92;&quot;&#92;n  },&#92;n  &#92;&quot;title&#92;&quot;: &#92;&quot;&#92;&quot;,&#92;n  &#92;&quot;usermeta&#92;&quot;: {&#92;n    &#92;&quot;embedOptions&#92;&quot;: {}&#92;n  },&#92;n  &#92;&quot;width&#92;&quot;: 640&#92;n}&quot;'></marimo-mime-renderer></div></div></div></div><div><div style='display: flex;flex: 1;flex-direction: column;justify-content: flex-start;align-items: normal;flex-wrap: nowrap;gap: 0.5rem'><div><span class=\"markdown prose dark:prose-invert\"><h2 id=\"data-marimoas_htmlpddataframe\">Data | <a href=\"https://docs.marimo.io/api/html.html\" rel=\"noopener\" target=\"_blank\"><code>marimo.as_html</code></a><code>(pd.DataFrame)</code></h2>\n",
       "<hr /></span></div><div><marimo-mime-renderer data-mime='&quot;text/markdown&quot;' data-data='&quot;&lt;div&gt;&#92;n&lt;style scoped&gt;&#92;n    .dataframe tbody tr th:only-of-type {&#92;n        vertical-align: middle;&#92;n    }&#92;n&#92;n    .dataframe tbody tr th {&#92;n        vertical-align: top;&#92;n    }&#92;n&#92;n    .dataframe thead th {&#92;n        text-align: right;&#92;n    }&#92;n&lt;/style&gt;&#92;n&lt;table border=&#92;&quot;1&#92;&quot; class=&#92;&quot;dataframe&#92;&quot;&gt;&#92;n  &lt;thead&gt;&#92;n    &lt;tr style=&#92;&quot;text-align: right;&#92;&quot;&gt;&#92;n      &lt;th&gt;&lt;/th&gt;&#92;n      &lt;th&gt;timestamp&lt;/th&gt;&#92;n      &lt;th&gt;latitude&lt;/th&gt;&#92;n      &lt;th&gt;longitude&lt;/th&gt;&#92;n      &lt;th&gt;altitude&lt;/th&gt;&#92;n      &lt;th&gt;velocity&lt;/th&gt;&#92;n      &lt;th&gt;visibility&lt;/th&gt;&#92;n    &lt;/tr&gt;&#92;n  &lt;/thead&gt;&#92;n  &lt;tbody&gt;&#92;n    &lt;tr&gt;&#92;n      &lt;th&gt;0&lt;/th&gt;&#92;n      &lt;td&gt;2024-12-10 00:46:00&lt;/td&gt;&#92;n      &lt;td&gt;18.518033&lt;/td&gt;&#92;n      &lt;td&gt;88.729041&lt;/td&gt;&#92;n      &lt;td&gt;413.412379&lt;/td&gt;&#92;n      &lt;td&gt;27601.686943&lt;/td&gt;&#92;n      &lt;td&gt;daylight&lt;/td&gt;&#92;n    &lt;/tr&gt;&#92;n    &lt;tr&gt;&#92;n      &lt;th&gt;1&lt;/th&gt;&#92;n      &lt;td&gt;2024-12-10 00:45:50&lt;/td&gt;&#92;n      &lt;td&gt;18.025507&lt;/td&gt;&#92;n      &lt;td&gt;88.326156&lt;/td&gt;&#92;n      &lt;td&gt;413.332296&lt;/td&gt;&#92;n      &lt;td&gt;27601.770585&lt;/td&gt;&#92;n      &lt;td&gt;daylight&lt;/td&gt;&#92;n    &lt;/tr&gt;&#92;n    &lt;tr&gt;&#92;n      &lt;th&gt;2&lt;/th&gt;&#92;n      &lt;td&gt;2024-12-10 00:45:40&lt;/td&gt;&#92;n      &lt;td&gt;17.531935&lt;/td&gt;&#92;n      &lt;td&gt;87.925728&lt;/td&gt;&#92;n      &lt;td&gt;413.254776&lt;/td&gt;&#92;n      &lt;td&gt;27601.848973&lt;/td&gt;&#92;n      &lt;td&gt;daylight&lt;/td&gt;&#92;n    &lt;/tr&gt;&#92;n    &lt;tr&gt;&#92;n      &lt;th&gt;3&lt;/th&gt;&#92;n      &lt;td&gt;2024-12-10 00:45:30&lt;/td&gt;&#92;n      &lt;td&gt;17.037357&lt;/td&gt;&#92;n      &lt;td&gt;87.527681&lt;/td&gt;&#92;n      &lt;td&gt;413.179863&lt;/td&gt;&#92;n      &lt;td&gt;27601.922046&lt;/td&gt;&#92;n      &lt;td&gt;daylight&lt;/td&gt;&#92;n    &lt;/tr&gt;&#92;n    &lt;tr&gt;&#92;n      &lt;th&gt;4&lt;/th&gt;&#92;n      &lt;td&gt;2024-12-10 00:45:20&lt;/td&gt;&#92;n      &lt;td&gt;16.541807&lt;/td&gt;&#92;n      &lt;td&gt;87.131934&lt;/td&gt;&#92;n      &lt;td&gt;413.107602&lt;/td&gt;&#92;n      &lt;td&gt;27601.989746&lt;/td&gt;&#92;n      &lt;td&gt;daylight&lt;/td&gt;&#92;n    &lt;/tr&gt;&#92;n    &lt;tr&gt;&#92;n      &lt;th&gt;5&lt;/th&gt;&#92;n      &lt;td&gt;2024-12-10 00:45:10&lt;/td&gt;&#92;n      &lt;td&gt;16.045316&lt;/td&gt;&#92;n      &lt;td&gt;86.738408&lt;/td&gt;&#92;n      &lt;td&gt;413.038034&lt;/td&gt;&#92;n      &lt;td&gt;27602.052018&lt;/td&gt;&#92;n      &lt;td&gt;daylight&lt;/td&gt;&#92;n    &lt;/tr&gt;&#92;n    &lt;tr&gt;&#92;n      &lt;th&gt;6&lt;/th&gt;&#92;n      &lt;td&gt;2024-12-10 00:45:00&lt;/td&gt;&#92;n      &lt;td&gt;15.547923&lt;/td&gt;&#92;n      &lt;td&gt;86.347029&lt;/td&gt;&#92;n      &lt;td&gt;412.971201&lt;/td&gt;&#92;n      &lt;td&gt;27602.108807&lt;/td&gt;&#92;n      &lt;td&gt;daylight&lt;/td&gt;&#92;n    &lt;/tr&gt;&#92;n    &lt;tr&gt;&#92;n      &lt;th&gt;7&lt;/th&gt;&#92;n      &lt;td&gt;2024-12-10 00:44:50&lt;/td&gt;&#92;n      &lt;td&gt;15.049660&lt;/td&gt;&#92;n      &lt;td&gt;85.957718&lt;/td&gt;&#92;n      &lt;td&gt;412.907144&lt;/td&gt;&#92;n      &lt;td&gt;27602.160060&lt;/td&gt;&#92;n      &lt;td&gt;daylight&lt;/td&gt;&#92;n    &lt;/tr&gt;&#92;n    &lt;tr&gt;&#92;n      &lt;th&gt;8&lt;/th&gt;&#92;n      &lt;td&gt;2024-12-10 00:44:40&lt;/td&gt;&#92;n      &lt;td&gt;14.550557&lt;/td&gt;&#92;n      &lt;td&gt;85.570399&lt;/td&gt;&#92;n      &lt;td&gt;412.845901&lt;/td&gt;&#92;n      &lt;td&gt;27602.205727&lt;/td&gt;&#92;n      &lt;td&gt;daylight&lt;/td&gt;&#92;n    &lt;/tr&gt;&#92;n    &lt;tr&gt;&#92;n      &lt;th&gt;9&lt;/th&gt;&#92;n      &lt;td&gt;2024-12-10 00:44:30&lt;/td&gt;&#92;n      &lt;td&gt;14.050650&lt;/td&gt;&#92;n      &lt;td&gt;85.185000&lt;/td&gt;&#92;n      &lt;td&gt;412.787510&lt;/td&gt;&#92;n      &lt;td&gt;27602.245759&lt;/td&gt;&#92;n      &lt;td&gt;daylight&lt;/td&gt;&#92;n    &lt;/tr&gt;&#92;n    &lt;tr&gt;&#92;n      &lt;th&gt;10&lt;/th&gt;&#92;n      &lt;td&gt;2024-12-10 00:44:20&lt;/td&gt;&#92;n      &lt;td&gt;13.549971&lt;/td&gt;&#92;n      &lt;td&gt;84.801447&lt;/td&gt;&#92;n      &lt;td&gt;412.732009&lt;/td&gt;&#92;n      &lt;td&gt;27602.280109&lt;/td&gt;&#92;n      &lt;td&gt;daylight&lt;/td&gt;&#92;n    &lt;/tr&gt;&#92;n    &lt;tr&gt;&#92;n      &lt;th&gt;11&lt;/th&gt;&#92;n      &lt;td&gt;2024-12-10 00:44:10&lt;/td&gt;&#92;n      &lt;td&gt;13.048548&lt;/td&gt;&#92;n      &lt;td&gt;84.419663&lt;/td&gt;&#92;n      &lt;td&gt;412.679431&lt;/td&gt;&#92;n      &lt;td&gt;27602.308734&lt;/td&gt;&#92;n      &lt;td&gt;daylight&lt;/td&gt;&#92;n    &lt;/tr&gt;&#92;n    &lt;tr&gt;&#92;n      &lt;th&gt;12&lt;/th&gt;&#92;n      &lt;td&gt;2024-12-10 00:44:00&lt;/td&gt;&#92;n      &lt;td&gt;12.546416&lt;/td&gt;&#92;n      &lt;td&gt;84.039580&lt;/td&gt;&#92;n      &lt;td&gt;412.629812&lt;/td&gt;&#92;n      &lt;td&gt;27602.331590&lt;/td&gt;&#92;n      &lt;td&gt;daylight&lt;/td&gt;&#92;n    &lt;/tr&gt;&#92;n    &lt;tr&gt;&#92;n      &lt;th&gt;13&lt;/th&gt;&#92;n      &lt;td&gt;2024-12-10 00:43:50&lt;/td&gt;&#92;n      &lt;td&gt;12.043605&lt;/td&gt;&#92;n      &lt;td&gt;83.661125&lt;/td&gt;&#92;n      &lt;td&gt;412.583184&lt;/td&gt;&#92;n      &lt;td&gt;27602.348637&lt;/td&gt;&#92;n      &lt;td&gt;daylight&lt;/td&gt;&#92;n    &lt;/tr&gt;&#92;n    &lt;tr&gt;&#92;n      &lt;th&gt;14&lt;/th&gt;&#92;n      &lt;td&gt;2024-12-10 00:43:40&lt;/td&gt;&#92;n      &lt;td&gt;11.540143&lt;/td&gt;&#92;n      &lt;td&gt;83.284225&lt;/td&gt;&#92;n      &lt;td&gt;412.539578&lt;/td&gt;&#92;n      &lt;td&gt;27602.359836&lt;/td&gt;&#92;n      &lt;td&gt;daylight&lt;/td&gt;&#92;n    &lt;/tr&gt;&#92;n  &lt;/tbody&gt;&#92;n&lt;/table&gt;&#92;n&lt;/div&gt;&quot;'></marimo-mime-renderer></div></div></div></div>"
      ]
     },
     "metadata": {},
     "output_type": "display_data"
    }
   ],
   "source": [
    "mo.hstack([\n",
    "    mo.vstack([\n",
    "        mo.md(\"## Settings | [`marimo.ui.slider`](https://docs.marimo.io/api/inputs/slider.html), [`marimo.ui.refresh`](https://docs.marimo.io/recipes.html#run-a-cell-on-a-timer)\\n---\"),\n",
    "        refresh_interval_slider,\n",
    "        n_points_slider,\n",
    "        refresher,\n",
    "        mo.md(\"## ISS Positions | [`marimo.ui.altair_chart`](https://docs.marimo.io/api/plotting.html#marimo.ui.altair_chart)\\n---\"),\n",
    "        mo.as_html(chart).style({\"width\": \"700px\"})\n",
    "    ], align=\"center\"),\n",
    "    mo.vstack([\n",
    "        mo.md(\"## Data | [`marimo.as_html`](https://docs.marimo.io/api/html.html)`(pd.DataFrame)`\\n---\"),\n",
    "        mo.as_html(iss_df)\n",
    "    ])\n",
    "], justify=\"center\", wrap=True, gap=3)"
   ]
  },
  {
   "cell_type": "code",
   "execution_count": null,
   "id": "MJUe",
   "metadata": {},
   "outputs": [],
   "source": [
    "hover=alt.selection_point(on=\"mouseover\", clear=\"mouseout\")\n",
    "\n",
    "# iss positions\n",
    "iss_df = get_iss_positions()\n",
    "iss = alt.Chart(iss_df[['longitude','latitude','timestamp']]).mark_circle(\n",
    "    stroke='black', size=100,\n",
    ").encode(\n",
    "    longitude=alt.Longitude('longitude:Q'),\n",
    "    latitude='latitude:Q',\n",
    "    fill=alt.Fill('timestamp:Q', scale=alt.Scale(scheme='purples'), legend=None),\n",
    "    strokeWidth=alt.condition(hover, alt.value(3, empty=False), alt.value(0)),\n",
    "    tooltip=[\n",
    "        alt.Tooltip('longitude:Q', title='Longitude', format='.4f'),\n",
    "        alt.Tooltip('latitude:Q', title='Latitude', format='.4f'),\n",
    "        alt.Tooltip('timestamp:T', title='Timestamp', format='%Y-%m-%d %H:%M:%S')\n",
    "    ]\n",
    ").add_params(hover)\n",
    "\n",
    "chart = alt.layer(sphere, world, iss).project(type=\"naturalEarth1\").properties(width=640, title=\"\")"
   ]
  },
  {
   "cell_type": "code",
   "execution_count": null,
   "id": "vblA",
   "metadata": {},
   "outputs": [],
   "source": [
    "# load geo data from Vega Datasets\n",
    "countries = alt.topo_feature(data.world_110m.url, 'countries')\n",
    "\n",
    "# world base\n",
    "sphere = alt.Chart(alt.sphere()).mark_geoshape(\n",
    "    fill=\"aliceblue\", stroke=\"black\", strokeWidth=1.5\n",
    ")\n",
    "\n",
    "# world map\n",
    "world = alt.Chart(countries).mark_geoshape(\n",
    "    fill=\"mintcream\", stroke=\"black\", strokeWidth=0.35\n",
    ")"
   ]
  },
  {
   "cell_type": "code",
   "execution_count": null,
   "id": "bkHC",
   "metadata": {},
   "outputs": [],
   "source": [
    "def get_iss_positions(refresher=refresher):\n",
    "    refresher\n",
    "    timepoints = [int(time())]\n",
    "    while len(timepoints) <= n_points_slider.value:\n",
    "        timepoints.append(timepoints[-1] - refresh_interval_slider.value)\n",
    "    else:\n",
    "        timepoints.pop(0)\n",
    "    timepoints_str = str(timepoints)[1:-1].replace(\" \", \"\")\n",
    "    iss_url = f\"https://api.wheretheiss.at/v1/satellites/25544/positions?timestamps={timepoints_str}\"\n",
    "    response = requests.get(iss_url)\n",
    "    df = pd.DataFrame(response.json())\n",
    "    df['timestamp'] = pd.to_datetime(df.timestamp, unit='s')\n",
    "    return df[['timestamp','latitude','longitude','altitude','velocity','visibility']]"
   ]
  },
  {
   "cell_type": "code",
   "execution_count": null,
   "id": "lEQa",
   "metadata": {},
   "outputs": [],
   "source": [
    "refresher = mo.ui.refresh(default_interval=f\"{refresh_interval_slider.value}s\")"
   ]
  },
  {
   "cell_type": "code",
   "execution_count": null,
   "id": "PKri",
   "metadata": {},
   "outputs": [],
   "source": [
    "refresh_interval_slider = mo.ui.slider(start=5, stop=60, step=1, value=10, label=\"refresh interval (default = 10 sec)\")\n",
    "n_points_slider = mo.ui.slider(start=5, stop=30, step=1, value=15, label=\"number of points (default = 15)\")"
   ]
  },
  {
   "cell_type": "code",
   "execution_count": null,
   "id": "Xref",
   "metadata": {},
   "outputs": [],
   "source": [
    "import altair as alt\n",
    "import marimo as mo\n",
    "import pandas as pd\n",
    "import requests\n",
    "from time import time\n",
    "from vega_datasets import data\n",
    "\n",
    "pd.options.display.max_rows = 30"
   ]
  }
 ],
 "metadata": {},
 "nbformat": 4,
 "nbformat_minor": 5
}
