{
 "cells": [
  {
   "cell_type": "markdown",
   "id": "Hbol",
   "metadata": {
    "marimo": {
     "config": {
      "hide_code": true
     }
    }
   },
   "source": [
    "# Tabs"
   ]
  },
  {
   "cell_type": "markdown",
   "id": "MJUe",
   "metadata": {
    "marimo": {
     "config": {
      "hide_code": true
     }
    }
   },
   "source": [
    "Use `mo.ui.tabs` to organize outputs."
   ]
  },
  {
   "cell_type": "code",
   "execution_count": null,
   "id": "vblA",
   "metadata": {},
   "outputs": [
    {
     "data": {
      "text/markdown": [
       "&lt;marimo-tabs data-initial-value=&#x27;&amp;quot;&amp;quot;&#x27; data-label=&#x27;null&#x27; data-tabs=&#x27;[&amp;quot;&amp;lt;span class=&amp;#92;&amp;quot;markdown prose dark:prose-invert&amp;#92;&amp;quot;&amp;gt;&amp;lt;span class=&amp;#92;&amp;quot;paragraph&amp;#92;&amp;quot;&amp;gt;&amp;#92;ud83e&amp;#92;uddd9&amp;#92;u200d&amp;#92;u2640 User&amp;lt;/span&amp;gt;&amp;lt;/span&amp;gt;&amp;quot;, &amp;quot;&amp;lt;span class=&amp;#92;&amp;quot;markdown prose dark:prose-invert&amp;#92;&amp;quot;&amp;gt;&amp;lt;span class=&amp;#92;&amp;quot;paragraph&amp;#92;&amp;quot;&amp;gt;&amp;#92;ud83c&amp;#92;udfe2 Organization&amp;lt;/span&amp;gt;&amp;lt;/span&amp;gt;&amp;quot;]&#x27;&gt;&lt;div data-kind=&#x27;tab&#x27;&gt;&lt;div style=&#x27;display: flex;flex: 1;flex-direction: column;justify-content: flex-start;align-items: normal;flex-wrap: nowrap;gap: 0.5rem&#x27;&gt;&lt;div&gt;&lt;span class=&quot;markdown prose dark:prose-invert&quot;&gt;&lt;span class=&quot;paragraph&quot;&gt;Edit User&lt;/span&gt;&lt;/span&gt;&lt;/div&gt;&lt;div&gt;&lt;marimo-ui-element object-id=&#x27;vblA-0&#x27; random-id=&#x27;bdd640fb-0667-1ad1-1c80-317fa3b1799d&#x27;&gt;&lt;marimo-text data-initial-value=&#x27;&amp;quot;&amp;quot;&#x27; data-label=&#x27;&amp;quot;&amp;lt;span class=&amp;#92;&amp;quot;markdown prose dark:prose-invert&amp;#92;&amp;quot;&amp;gt;&amp;lt;span class=&amp;#92;&amp;quot;paragraph&amp;#92;&amp;quot;&amp;gt;First Name&amp;lt;/span&amp;gt;&amp;lt;/span&amp;gt;&amp;quot;&#x27; data-placeholder=&#x27;&amp;quot;&amp;quot;&#x27; data-kind=&#x27;&amp;quot;text&amp;quot;&#x27; data-full-width=&#x27;false&#x27; data-disabled=&#x27;false&#x27; data-debounce=&#x27;true&#x27;&gt;&lt;/marimo-text&gt;&lt;/marimo-ui-element&gt;&lt;/div&gt;&lt;div&gt;&lt;marimo-ui-element object-id=&#x27;vblA-1&#x27; random-id=&#x27;23b8c1e9-3924-56de-3eb1-3b9046685257&#x27;&gt;&lt;marimo-text data-initial-value=&#x27;&amp;quot;&amp;quot;&#x27; data-label=&#x27;&amp;quot;&amp;lt;span class=&amp;#92;&amp;quot;markdown prose dark:prose-invert&amp;#92;&amp;quot;&amp;gt;&amp;lt;span class=&amp;#92;&amp;quot;paragraph&amp;#92;&amp;quot;&amp;gt;Last Name&amp;lt;/span&amp;gt;&amp;lt;/span&amp;gt;&amp;quot;&#x27; data-placeholder=&#x27;&amp;quot;&amp;quot;&#x27; data-kind=&#x27;&amp;quot;text&amp;quot;&#x27; data-full-width=&#x27;false&#x27; data-disabled=&#x27;false&#x27; data-debounce=&#x27;true&#x27;&gt;&lt;/marimo-text&gt;&lt;/marimo-ui-element&gt;&lt;/div&gt;&lt;/div&gt;&lt;/div&gt;&lt;div data-kind=&#x27;tab&#x27;&gt;&lt;div style=&#x27;display: flex;flex: 1;flex-direction: column;justify-content: flex-start;align-items: normal;flex-wrap: nowrap;gap: 0.5rem&#x27;&gt;&lt;div&gt;&lt;span class=&quot;markdown prose dark:prose-invert&quot;&gt;&lt;span class=&quot;paragraph&quot;&gt;Edit Organization&lt;/span&gt;&lt;/span&gt;&lt;/div&gt;&lt;div&gt;&lt;marimo-ui-element object-id=&#x27;vblA-2&#x27; random-id=&#x27;bd9c66b3-ad3c-2d6d-1a3d-1fa7bc8960a9&#x27;&gt;&lt;marimo-text data-initial-value=&#x27;&amp;quot;...&amp;quot;&#x27; data-label=&#x27;&amp;quot;&amp;lt;span class=&amp;#92;&amp;quot;markdown prose dark:prose-invert&amp;#92;&amp;quot;&amp;gt;&amp;lt;span class=&amp;#92;&amp;quot;paragraph&amp;#92;&amp;quot;&amp;gt;Organization Name&amp;lt;/span&amp;gt;&amp;lt;/span&amp;gt;&amp;quot;&#x27; data-placeholder=&#x27;&amp;quot;&amp;quot;&#x27; data-kind=&#x27;&amp;quot;text&amp;quot;&#x27; data-full-width=&#x27;false&#x27; data-disabled=&#x27;false&#x27; data-debounce=&#x27;true&#x27;&gt;&lt;/marimo-text&gt;&lt;/marimo-ui-element&gt;&lt;/div&gt;&lt;div&gt;&lt;marimo-ui-element object-id=&#x27;vblA-3&#x27; random-id=&#x27;972a8469-1641-9f82-8b9d-2434e465e150&#x27;&gt;&lt;marimo-number data-initial-value=&#x27;0&#x27; data-label=&#x27;&amp;quot;&amp;lt;span class=&amp;#92;&amp;quot;markdown prose dark:prose-invert&amp;#92;&amp;quot;&amp;gt;&amp;lt;span class=&amp;#92;&amp;quot;paragraph&amp;#92;&amp;quot;&amp;gt;Number of Employees&amp;lt;/span&amp;gt;&amp;lt;/span&amp;gt;&amp;quot;&#x27; data-start=&#x27;0&#x27; data-stop=&#x27;1000&#x27; data-debounce=&#x27;false&#x27; data-full-width=&#x27;false&#x27;&gt;&lt;/marimo-number&gt;&lt;/marimo-ui-element&gt;&lt;/div&gt;&lt;/div&gt;&lt;/div&gt;&lt;/marimo-tabs&gt;"
      ]
     },
     "metadata": {},
     "output_type": "display_data"
    }
   ],
   "source": [
    "settings = mo.vstack(\n",
    "    [\n",
    "        mo.md(\"Edit User\"),\n",
    "        first := mo.ui.text(label=\"First Name\"),\n",
    "        last := mo.ui.text(label=\"Last Name\"),\n",
    "    ]\n",
    ")\n",
    "\n",
    "organization = mo.vstack(\n",
    "    [\n",
    "        mo.md(\"Edit Organization\"),\n",
    "        org := mo.ui.text(label=\"Organization Name\", value=\"...\"),\n",
    "        employees := mo.ui.number(\n",
    "            label=\"Number of Employees\", start=0, stop=1000\n",
    "        ),\n",
    "    ]\n",
    ")\n",
    "\n",
    "mo.ui.tabs(\n",
    "    {\n",
    "        \"🧙‍♀ User\": settings,\n",
    "        \"🏢 Organization\": organization,\n",
    "    }\n",
    ")"
   ]
  },
  {
   "cell_type": "code",
   "execution_count": null,
   "id": "bkHC",
   "metadata": {},
   "outputs": [],
   "source": [
    "mo.md(\n",
    "    f\"\"\"\n",
    "    Welcome **{first.value} {last.value}** to **{org.value}**! You are \n",
    "    employee no. **{employees.value + 1}**.\n",
    "\n",
    "    #{\"🎉\" * (min(employees.value + 1, 1000))} \n",
    "    \"\"\"\n",
    ") if all([first.value, last.value, org.value]) else None"
   ]
  },
  {
   "cell_type": "code",
   "execution_count": null,
   "id": "lEQa",
   "metadata": {},
   "outputs": [],
   "source": [
    "import marimo as mo"
   ]
  }
 ],
 "metadata": {},
 "nbformat": 4,
 "nbformat_minor": 5
}
