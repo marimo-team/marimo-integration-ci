{
 "cells": [
  {
   "cell_type": "code",
   "execution_count": null,
   "id": "Hbol",
   "metadata": {},
   "outputs": [],
   "source": [
    "import marimo as mo"
   ]
  },
  {
   "cell_type": "code",
   "execution_count": null,
   "id": "MJUe",
   "metadata": {},
   "outputs": [
    {
     "data": {
      "text/markdown": [
       "&lt;marimo-tabs data-initial-value=&#x27;&amp;quot;&amp;quot;&#x27; data-label=&#x27;null&#x27; data-tabs=&#x27;[&amp;quot;&amp;lt;span class=&amp;#92;&amp;quot;markdown prose dark:prose-invert&amp;#92;&amp;quot;&amp;gt;&amp;lt;span class=&amp;#92;&amp;quot;paragraph&amp;#92;&amp;quot;&amp;gt;Bob says&amp;lt;/span&amp;gt;&amp;lt;/span&amp;gt;&amp;quot;,&amp;quot;&amp;lt;span class=&amp;#92;&amp;quot;markdown prose dark:prose-invert&amp;#92;&amp;quot;&amp;gt;&amp;lt;span class=&amp;#92;&amp;quot;paragraph&amp;#92;&amp;quot;&amp;gt;Alice says&amp;lt;/span&amp;gt;&amp;lt;/span&amp;gt;&amp;quot;]&#x27;&gt;&lt;div data-kind=&#x27;tab&#x27;&gt;&lt;span class=&quot;markdown prose dark:prose-invert&quot;&gt;&lt;span class=&quot;paragraph&quot;&gt;Hello, Alice! 👋&lt;/span&gt;&lt;/span&gt;&lt;/div&gt;&lt;div data-kind=&#x27;tab&#x27;&gt;&lt;span class=&quot;markdown prose dark:prose-invert&quot;&gt;&lt;span class=&quot;paragraph&quot;&gt;Hello, Bob! 👋&lt;/span&gt;&lt;/span&gt;&lt;/div&gt;&lt;/marimo-tabs&gt;"
      ]
     },
     "metadata": {},
     "output_type": "display_data"
    }
   ],
   "source": [
    "tabs = mo.ui.tabs({\n",
    "    \"Bob says\": mo.md(\"Hello, Alice! 👋\"),\n",
    "    \"Alice says\": mo.md(\"Hello, Bob! 👋\")\n",
    "})\n",
    "tabs"
   ]
  },
  {
   "cell_type": "code",
   "execution_count": null,
   "id": "vblA",
   "metadata": {},
   "outputs": [
    {
     "data": {
      "text/html": [
       "<pre style='font-size: 12px'>&#x27;Bob says&#x27;</pre>"
      ]
     },
     "metadata": {},
     "output_type": "display_data"
    }
   ],
   "source": [
    "tabs.value"
   ]
  }
 ],
 "metadata": {},
 "nbformat": 4,
 "nbformat_minor": 5
}
