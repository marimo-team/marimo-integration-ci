{
 "cells": [
  {
   "cell_type": "markdown",
   "id": "Hbol",
   "metadata": {},
   "source": [
    "# Tabs"
   ]
  },
  {
   "cell_type": "markdown",
   "id": "MJUe",
   "metadata": {},
   "source": [
    "Use `mo.ui.tabs` to organize outputs."
   ]
  },
  {
   "cell_type": "code",
   "execution_count": null,
   "id": "vblA",
   "metadata": {},
   "outputs": [],
   "source": [
    "settings = mo.vstack(\n",
    "    [\n",
    "        mo.md(\"Edit User\"),\n",
    "        first := mo.ui.text(label=\"First Name\"),\n",
    "        last := mo.ui.text(label=\"Last Name\"),\n",
    "    ]\n",
    ")\n",
    "\n",
    "organization = mo.vstack(\n",
    "    [\n",
    "        mo.md(\"Edit Organization\"),\n",
    "        org := mo.ui.text(label=\"Organization Name\", value=\"...\"),\n",
    "        employees := mo.ui.number(\n",
    "            label=\"Number of Employees\", start=0, stop=1000\n",
    "        ),\n",
    "    ]\n",
    ")\n",
    "\n",
    "mo.ui.tabs(\n",
    "    {\n",
    "        \"🧙‍♀ User\": settings,\n",
    "        \"🏢 Organization\": organization,\n",
    "    }\n",
    ")"
   ]
  },
  {
   "cell_type": "code",
   "execution_count": null,
   "id": "bkHC",
   "metadata": {},
   "outputs": [],
   "source": [
    "mo.md(\n",
    "    f\"\"\"\n",
    "    Welcome **{first.value} {last.value}** to **{org.value}**! You are \n",
    "    employee no. **{employees.value + 1}**.\n",
    "\n",
    "    #{\"🎉\" * (min(employees.value + 1, 1000))} \n",
    "    \"\"\"\n",
    ") if all([first.value, last.value, org.value]) else None"
   ]
  },
  {
   "cell_type": "code",
   "execution_count": null,
   "id": "lEQa",
   "metadata": {},
   "outputs": [],
   "source": [
    "import marimo as mo"
   ]
  }
 ],
 "metadata": {},
 "nbformat": 4,
 "nbformat_minor": 5
}
