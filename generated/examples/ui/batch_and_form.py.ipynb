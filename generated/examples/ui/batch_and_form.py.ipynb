{
 "cells": [
  {
   "cell_type": "markdown",
   "id": "Hbol",
   "metadata": {},
   "source": [
    "# Batch and Form"
   ]
  },
  {
   "cell_type": "markdown",
   "id": "MJUe",
   "metadata": {},
   "source": [
    "Make custom UI elements using `batch()`, and turn any UI element\n",
    "into a form with `form()`."
   ]
  },
  {
   "cell_type": "code",
   "execution_count": null,
   "id": "vblA",
   "metadata": {},
   "outputs": [],
   "source": [
    "reset\n",
    "\n",
    "variables = (\n",
    "    mo.md(\n",
    "        \"\"\"\n",
    "        Choose your variable values\n",
    "\n",
    "        {x}\n",
    "\n",
    "        {y}\n",
    "        \"\"\"\n",
    "    )\n",
    "    .batch(\n",
    "        x=mo.ui.slider(start=1, stop=10, step=1, label=\"$x =$\"),\n",
    "        y=mo.ui.slider(start=1, stop=10, step=1, label=\"$y =$\"),\n",
    "    )\n",
    "    .form(show_clear_button=True, bordered=False)\n",
    ")\n",
    "\n",
    "variables"
   ]
  },
  {
   "cell_type": "code",
   "execution_count": null,
   "id": "bkHC",
   "metadata": {},
   "outputs": [],
   "source": [
    "if variables.value is not None:\n",
    "    submitted_values[\"x\"].add(variables.value[\"x\"])\n",
    "    submitted_values[\"y\"].add(variables.value[\"y\"])\n",
    "\n",
    "x = variables.value[\"x\"] if variables.value else \"\\ldots\"\n",
    "y = variables.value[\"y\"] if variables.value else \"\\ldots\"\n",
    "\n",
    "\n",
    "mo.md(\n",
    "    f\"\"\"\n",
    "    At the moment,\n",
    "    $x = {x}$ and $y = {y}$\n",
    "\n",
    "    All values ever assumed by $x$ and $y$ are\n",
    "\n",
    "    {mo.hstack([mo.tree(submitted_values), reset], align=\"center\", gap=4)}\n",
    "    \"\"\"\n",
    ").callout()"
   ]
  },
  {
   "cell_type": "code",
   "execution_count": null,
   "id": "lEQa",
   "metadata": {},
   "outputs": [],
   "source": [
    "reset\n",
    "\n",
    "submitted_values = {\"x\": set(), \"y\": set()}"
   ]
  },
  {
   "cell_type": "code",
   "execution_count": null,
   "id": "PKri",
   "metadata": {},
   "outputs": [],
   "source": [
    "reset = mo.ui.button(label=\"reset history\")"
   ]
  },
  {
   "cell_type": "code",
   "execution_count": null,
   "id": "Xref",
   "metadata": {},
   "outputs": [],
   "source": [
    "import marimo as mo"
   ]
  }
 ],
 "metadata": {},
 "nbformat": 4,
 "nbformat_minor": 5
}
