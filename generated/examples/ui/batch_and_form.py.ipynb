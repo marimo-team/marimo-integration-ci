{
 "cells": [
  {
   "cell_type": "code",
   "execution_count": null,
   "id": "Hbol",
   "metadata": {},
   "outputs": [],
   "source": [
    "import marimo as mo"
   ]
  },
  {
   "cell_type": "markdown",
   "id": "MJUe",
   "metadata": {},
   "source": [
    "# Batch and Form"
   ]
  },
  {
   "cell_type": "markdown",
   "id": "vblA",
   "metadata": {},
   "source": [
    "Make custom UI elements using `batch()`, and turn any UI element\n",
    "into a form with `form()`."
   ]
  },
  {
   "cell_type": "code",
   "execution_count": null,
   "id": "bkHC",
   "metadata": {},
   "outputs": [
    {
     "data": {
      "text/markdown": [
       "&lt;marimo-form data-initial-value=&#x27;null&#x27; data-label=&#x27;null&#x27; data-element-id=&#x27;&amp;quot;bkHC-7&amp;quot;&#x27; data-loading=&#x27;false&#x27; data-bordered=&#x27;false&#x27; data-submit-button-label=&#x27;&amp;quot;Submit&amp;quot;&#x27; data-submit-button-disabled=&#x27;false&#x27; data-clear-on-submit=&#x27;false&#x27; data-show-clear-button=&#x27;true&#x27; data-clear-button-label=&#x27;&amp;quot;Clear&amp;quot;&#x27; data-should-validate=&#x27;false&#x27;&gt;&lt;marimo-ui-element object-id=&#x27;bkHC-7&#x27; random-id=&#x27;0cda6bcb-207f-6ae5-e585-50a8ae3e3843&#x27;&gt;&lt;marimo-dict data-initial-value=&#x27;{&amp;quot;x&amp;quot;: 1, &amp;quot;y&amp;quot;: 1}&#x27; data-label=&#x27;null&#x27; data-element-ids=&#x27;{&amp;quot;bkHC-5&amp;quot;: &amp;quot;x&amp;quot;, &amp;quot;bkHC-6&amp;quot;: &amp;quot;y&amp;quot;}&#x27;&gt;&lt;span class=&quot;markdown prose dark:prose-invert&quot;&gt;&lt;span class=&quot;paragraph&quot;&gt;Choose your variable values&lt;/span&gt;\n",
       "&lt;span class=&quot;paragraph&quot;&gt;&lt;marimo-ui-element object-id=&#x27;bkHC-5&#x27; random-id=&#x27;20364f59-3028-d84f-75f2-9dd897fac627&#x27;&gt;&lt;marimo-slider data-initial-value=&#x27;1&#x27; data-label=&#x27;&amp;quot;&amp;lt;span class=&amp;#92;&amp;quot;markdown prose dark:prose-invert&amp;#92;&amp;quot;&amp;gt;&amp;lt;span class=&amp;#92;&amp;quot;paragraph&amp;#92;&amp;quot;&amp;gt;&amp;lt;marimo-tex class=&amp;#92;&amp;quot;arithmatex&amp;#92;&amp;quot;&amp;gt;||(x =||)&amp;lt;/marimo-tex&amp;gt;&amp;lt;/span&amp;gt;&amp;lt;/span&amp;gt;&amp;quot;&#x27; data-start=&#x27;1&#x27; data-stop=&#x27;10&#x27; data-step=&#x27;1&#x27; data-steps=&#x27;[]&#x27; data-debounce=&#x27;false&#x27; data-disabled=&#x27;false&#x27; data-orientation=&#x27;&amp;quot;horizontal&amp;quot;&#x27; data-show-value=&#x27;false&#x27; data-include-input=&#x27;false&#x27; data-full-width=&#x27;false&#x27;&gt;&lt;/marimo-slider&gt;&lt;/marimo-ui-element&gt;&lt;/span&gt;\n",
       "&lt;span class=&quot;paragraph&quot;&gt;&lt;marimo-ui-element object-id=&#x27;bkHC-6&#x27; random-id=&#x27;b14c29e4-6749-4403-85ad-d47dff83b0c0&#x27;&gt;&lt;marimo-slider data-initial-value=&#x27;1&#x27; data-label=&#x27;&amp;quot;&amp;lt;span class=&amp;#92;&amp;quot;markdown prose dark:prose-invert&amp;#92;&amp;quot;&amp;gt;&amp;lt;span class=&amp;#92;&amp;quot;paragraph&amp;#92;&amp;quot;&amp;gt;&amp;lt;marimo-tex class=&amp;#92;&amp;quot;arithmatex&amp;#92;&amp;quot;&amp;gt;||(y =||)&amp;lt;/marimo-tex&amp;gt;&amp;lt;/span&amp;gt;&amp;lt;/span&amp;gt;&amp;quot;&#x27; data-start=&#x27;1&#x27; data-stop=&#x27;10&#x27; data-step=&#x27;1&#x27; data-steps=&#x27;[]&#x27; data-debounce=&#x27;false&#x27; data-disabled=&#x27;false&#x27; data-orientation=&#x27;&amp;quot;horizontal&amp;quot;&#x27; data-show-value=&#x27;false&#x27; data-include-input=&#x27;false&#x27; data-full-width=&#x27;false&#x27;&gt;&lt;/marimo-slider&gt;&lt;/marimo-ui-element&gt;&lt;/span&gt;&lt;/span&gt;&lt;/marimo-dict&gt;&lt;/marimo-ui-element&gt;&lt;/marimo-form&gt;"
      ]
     },
     "metadata": {},
     "output_type": "display_data"
    }
   ],
   "source": [
    "reset\n",
    "\n",
    "variables = (\n",
    "    mo.md(\n",
    "        \"\"\"\n",
    "        Choose your variable values\n",
    "\n",
    "        {x}\n",
    "\n",
    "        {y}\n",
    "        \"\"\"\n",
    "    )\n",
    "    .batch(\n",
    "        x=mo.ui.slider(start=1, stop=10, step=1, label=\"$x =$\"),\n",
    "        y=mo.ui.slider(start=1, stop=10, step=1, label=\"$y =$\"),\n",
    "    )\n",
    "    .form(show_clear_button=True, bordered=False)\n",
    ")\n",
    "\n",
    "variables"
   ]
  },
  {
   "cell_type": "code",
   "execution_count": null,
   "id": "lEQa",
   "metadata": {},
   "outputs": [
    {
     "name": "stderr",
     "output_type": "stream",
     "text": [
      "<unknown>:5: SyntaxWarning: invalid escape sequence '\\l'\n",
      "<unknown>:6: SyntaxWarning: invalid escape sequence '\\l'\n"
     ]
    }
   ],
   "source": [
    "if variables.value is not None:\n",
    "    submitted_values[\"x\"].add(variables.value[\"x\"])\n",
    "    submitted_values[\"y\"].add(variables.value[\"y\"])\n",
    "\n",
    "x = variables.value[\"x\"] if variables.value else \"\\ldots\"\n",
    "y = variables.value[\"y\"] if variables.value else \"\\ldots\"\n",
    "\n",
    "\n",
    "mo.md(\n",
    "    f\"\"\"\n",
    "    At the moment,\n",
    "    $x = {x}$ and $y = {y}$\n",
    "\n",
    "    All values ever assumed by $x$ and $y$ are\n",
    "\n",
    "    {mo.hstack([mo.tree(submitted_values), reset], align=\"center\", gap=4)}\n",
    "    \"\"\"\n",
    ").callout()"
   ]
  },
  {
   "cell_type": "code",
   "execution_count": null,
   "id": "PKri",
   "metadata": {},
   "outputs": [],
   "source": [
    "reset\n",
    "\n",
    "submitted_values = {\"x\": set(), \"y\": set()}"
   ]
  },
  {
   "cell_type": "code",
   "execution_count": null,
   "id": "Xref",
   "metadata": {},
   "outputs": [],
   "source": [
    "reset = mo.ui.button(label=\"reset history\")"
   ]
  }
 ],
 "metadata": {},
 "nbformat": 4,
 "nbformat_minor": 5
}
