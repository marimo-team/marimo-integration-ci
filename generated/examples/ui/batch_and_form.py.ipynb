{
 "cells": [
  {
   "cell_type": "markdown",
   "id": "Hbol",
   "metadata": {},
   "source": [
    "# Batch and Form"
   ]
  },
  {
   "cell_type": "markdown",
   "id": "MJUe",
   "metadata": {},
   "source": [
    "Make custom UI elements using `batch()`, and turn any UI element\n",
    "into a form with `form()`."
   ]
  },
  {
   "cell_type": "code",
   "execution_count": null,
   "id": "vblA",
   "metadata": {},
   "outputs": [
    {
     "data": {
      "text/markdown": [
       "&lt;marimo-form data-initial-value=&#x27;null&#x27; data-label=&#x27;null&#x27; data-element-id=&#x27;&amp;quot;vblA-7&amp;quot;&#x27; data-loading=&#x27;false&#x27; data-bordered=&#x27;false&#x27; data-submit-button-label=&#x27;&amp;quot;Submit&amp;quot;&#x27; data-submit-button-disabled=&#x27;false&#x27; data-clear-on-submit=&#x27;false&#x27; data-show-clear-button=&#x27;true&#x27; data-clear-button-label=&#x27;&amp;quot;Clear&amp;quot;&#x27; data-should-validate=&#x27;false&#x27;&gt;&lt;marimo-ui-element object-id=&#x27;vblA-7&#x27; random-id=&#x27;47378190-96da-1dac-72ff-5d2a386ecbe0&#x27;&gt;&lt;marimo-dict data-initial-value=&#x27;{&amp;quot;x&amp;quot;: 1, &amp;quot;y&amp;quot;: 1}&#x27; data-label=&#x27;null&#x27; data-element-ids=&#x27;{&amp;quot;vblA-5&amp;quot;: &amp;quot;x&amp;quot;, &amp;quot;vblA-6&amp;quot;: &amp;quot;y&amp;quot;}&#x27;&gt;&lt;span class=&quot;markdown prose dark:prose-invert&quot;&gt;&lt;span class=&quot;paragraph&quot;&gt;Choose your variable values&lt;/span&gt;\n",
       "&lt;span class=&quot;paragraph&quot;&gt;&lt;marimo-ui-element object-id=&#x27;vblA-5&#x27; random-id=&#x27;b74d0fb1-32e7-0629-8fad-c1a606cb0fb3&#x27;&gt;&lt;marimo-slider data-initial-value=&#x27;1&#x27; data-label=&#x27;&amp;quot;&amp;lt;span class=&amp;#92;&amp;quot;markdown prose dark:prose-invert&amp;#92;&amp;quot;&amp;gt;&amp;lt;span class=&amp;#92;&amp;quot;paragraph&amp;#92;&amp;quot;&amp;gt;&amp;lt;marimo-tex class=&amp;#92;&amp;quot;arithmatex&amp;#92;&amp;quot;&amp;gt;||(x =||)&amp;lt;/marimo-tex&amp;gt;&amp;lt;/span&amp;gt;&amp;lt;/span&amp;gt;&amp;quot;&#x27; data-start=&#x27;1&#x27; data-stop=&#x27;10&#x27; data-step=&#x27;1&#x27; data-steps=&#x27;[]&#x27; data-debounce=&#x27;false&#x27; data-orientation=&#x27;&amp;quot;horizontal&amp;quot;&#x27; data-show-value=&#x27;false&#x27; data-full-width=&#x27;false&#x27;&gt;&lt;/marimo-slider&gt;&lt;/marimo-ui-element&gt;&lt;/span&gt;\n",
       "&lt;span class=&quot;paragraph&quot;&gt;&lt;marimo-ui-element object-id=&#x27;vblA-6&#x27; random-id=&#x27;6b65a6a4-8b81-48f6-b38a-088ca65ed389&#x27;&gt;&lt;marimo-slider data-initial-value=&#x27;1&#x27; data-label=&#x27;&amp;quot;&amp;lt;span class=&amp;#92;&amp;quot;markdown prose dark:prose-invert&amp;#92;&amp;quot;&amp;gt;&amp;lt;span class=&amp;#92;&amp;quot;paragraph&amp;#92;&amp;quot;&amp;gt;&amp;lt;marimo-tex class=&amp;#92;&amp;quot;arithmatex&amp;#92;&amp;quot;&amp;gt;||(y =||)&amp;lt;/marimo-tex&amp;gt;&amp;lt;/span&amp;gt;&amp;lt;/span&amp;gt;&amp;quot;&#x27; data-start=&#x27;1&#x27; data-stop=&#x27;10&#x27; data-step=&#x27;1&#x27; data-steps=&#x27;[]&#x27; data-debounce=&#x27;false&#x27; data-orientation=&#x27;&amp;quot;horizontal&amp;quot;&#x27; data-show-value=&#x27;false&#x27; data-full-width=&#x27;false&#x27;&gt;&lt;/marimo-slider&gt;&lt;/marimo-ui-element&gt;&lt;/span&gt;&lt;/span&gt;&lt;/marimo-dict&gt;&lt;/marimo-ui-element&gt;&lt;/marimo-form&gt;"
      ]
     },
     "metadata": {},
     "output_type": "display_data"
    }
   ],
   "source": [
    "reset\n",
    "\n",
    "variables = (\n",
    "    mo.md(\n",
    "        \"\"\"\n",
    "        Choose your variable values\n",
    "\n",
    "        {x}\n",
    "\n",
    "        {y}\n",
    "        \"\"\"\n",
    "    )\n",
    "    .batch(\n",
    "        x=mo.ui.slider(start=1, stop=10, step=1, label=\"$x =$\"),\n",
    "        y=mo.ui.slider(start=1, stop=10, step=1, label=\"$y =$\"),\n",
    "    )\n",
    "    .form(show_clear_button=True, bordered=False)\n",
    ")\n",
    "\n",
    "variables"
   ]
  },
  {
   "cell_type": "code",
   "execution_count": null,
   "id": "bkHC",
   "metadata": {},
   "outputs": [
    {
     "data": {
      "text/html": [
       "<marimo-callout-output data-html='&quot;&lt;span class=&#92;&quot;markdown prose dark:prose-invert&#92;&quot;&gt;&lt;span class=&#92;&quot;paragraph&#92;&quot;&gt;At the moment,&#92;n&lt;marimo-tex class=&#92;&quot;arithmatex&#92;&quot;&gt;||(x = &#92;&#92;ldots||)&lt;/marimo-tex&gt; and &lt;marimo-tex class=&#92;&quot;arithmatex&#92;&quot;&gt;||(y = &#92;&#92;ldots||)&lt;/marimo-tex&gt;&lt;/span&gt;&#92;n&lt;span class=&#92;&quot;paragraph&#92;&quot;&gt;All values ever assumed by &lt;marimo-tex class=&#92;&quot;arithmatex&#92;&quot;&gt;||(x||)&lt;/marimo-tex&gt; and &lt;marimo-tex class=&#92;&quot;arithmatex&#92;&quot;&gt;||(y||)&lt;/marimo-tex&gt; are&lt;/span&gt;&#92;n&lt;div style=&#x27;display: flex;flex: 1;flex-direction: row;justify-content: space-between;align-items: center;flex-wrap: nowrap;gap: 4rem&#x27;&gt;&lt;div&gt;&lt;marimo-json-output data-json-data=&#x27;{&amp;quot;x&amp;quot;: &amp;quot;text/plain+set:set()&amp;quot;, &amp;quot;y&amp;quot;: &amp;quot;text/plain+set:set()&amp;quot;}&#x27;&gt;&lt;/marimo-json-output&gt;&lt;/div&gt;&lt;div&gt;&lt;marimo-ui-element object-id=&#x27;PKri-0&#x27; random-id=&#x27;bdd640fb-0667-1ad1-1c80-317fa3b1799d&#x27;&gt;&lt;marimo-button data-initial-value=&#x27;0&#x27; data-label=&#x27;&amp;quot;&amp;lt;span class=&amp;#92;&amp;quot;markdown prose dark:prose-invert&amp;#92;&amp;quot;&amp;gt;&amp;lt;span class=&amp;#92;&amp;quot;paragraph&amp;#92;&amp;quot;&amp;gt;reset history&amp;lt;/span&amp;gt;&amp;lt;/span&amp;gt;&amp;quot;&#x27; data-kind=&#x27;&amp;quot;neutral&amp;quot;&#x27; data-disabled=&#x27;false&#x27; data-full-width=&#x27;false&#x27;&gt;&lt;/marimo-button&gt;&lt;/marimo-ui-element&gt;&lt;/div&gt;&lt;/div&gt;&lt;/span&gt;&quot;' data-kind='&quot;neutral&quot;'></marimo-callout-output>"
      ]
     },
     "metadata": {},
     "output_type": "display_data"
    }
   ],
   "source": [
    "if variables.value is not None:\n",
    "    submitted_values[\"x\"].add(variables.value[\"x\"])\n",
    "    submitted_values[\"y\"].add(variables.value[\"y\"])\n",
    "\n",
    "x = variables.value[\"x\"] if variables.value else \"\\ldots\"\n",
    "y = variables.value[\"y\"] if variables.value else \"\\ldots\"\n",
    "\n",
    "\n",
    "mo.md(\n",
    "    f\"\"\"\n",
    "    At the moment,\n",
    "    $x = {x}$ and $y = {y}$\n",
    "\n",
    "    All values ever assumed by $x$ and $y$ are\n",
    "\n",
    "    {mo.hstack([mo.tree(submitted_values), reset], align=\"center\", gap=4)}\n",
    "    \"\"\"\n",
    ").callout()"
   ]
  },
  {
   "cell_type": "code",
   "execution_count": null,
   "id": "lEQa",
   "metadata": {},
   "outputs": [],
   "source": [
    "reset\n",
    "\n",
    "submitted_values = {\"x\": set(), \"y\": set()}"
   ]
  },
  {
   "cell_type": "code",
   "execution_count": null,
   "id": "PKri",
   "metadata": {},
   "outputs": [],
   "source": [
    "reset = mo.ui.button(label=\"reset history\")"
   ]
  },
  {
   "cell_type": "code",
   "execution_count": null,
   "id": "Xref",
   "metadata": {},
   "outputs": [],
   "source": [
    "import marimo as mo"
   ]
  }
 ],
 "metadata": {},
 "nbformat": 4,
 "nbformat_minor": 5
}
