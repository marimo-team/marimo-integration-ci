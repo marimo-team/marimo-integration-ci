{
 "cells": [
  {
   "cell_type": "code",
   "execution_count": null,
   "id": "Hbol",
   "metadata": {},
   "outputs": [],
   "source": [
    "import marimo as mo"
   ]
  },
  {
   "cell_type": "code",
   "execution_count": null,
   "id": "MJUe",
   "metadata": {},
   "outputs": [],
   "source": [
    "from vega_datasets import data"
   ]
  },
  {
   "cell_type": "code",
   "execution_count": null,
   "id": "vblA",
   "metadata": {},
   "outputs": [
    {
     "data": {
      "text/markdown": [
       "&lt;marimo-dataframe data-initial-value=&#x27;{&amp;quot;transforms&amp;quot;:[]}&#x27; data-label=&#x27;null&#x27; data-columns=&#x27;[[&amp;quot;sepalLength&amp;quot;,&amp;quot;number&amp;quot;,&amp;quot;float64&amp;quot;],[&amp;quot;sepalWidth&amp;quot;,&amp;quot;number&amp;quot;,&amp;quot;float64&amp;quot;],[&amp;quot;petalLength&amp;quot;,&amp;quot;number&amp;quot;,&amp;quot;float64&amp;quot;],[&amp;quot;petalWidth&amp;quot;,&amp;quot;number&amp;quot;,&amp;quot;float64&amp;quot;],[&amp;quot;species&amp;quot;,&amp;quot;string&amp;quot;,&amp;quot;object&amp;quot;]]&#x27; data-dataframe-name=&#x27;&amp;quot;df&amp;quot;&#x27; data-total=&#x27;150&#x27; data-page-size=&#x27;5&#x27; data-show-download=&#x27;true&#x27;&gt;&lt;/marimo-dataframe&gt;"
      ]
     },
     "metadata": {},
     "output_type": "display_data"
    }
   ],
   "source": [
    "dataframe_transformer = mo.ui.dataframe(data.iris())\n",
    "dataframe_transformer"
   ]
  },
  {
   "cell_type": "code",
   "execution_count": null,
   "id": "bkHC",
   "metadata": {},
   "outputs": [
    {
     "data": {
      "text/html": [
       "<table border=\"1\" class=\"dataframe\"><thead><tr style=\"text-align: right;\"><th></th><th>sepalLength</th><th>sepalWidth</th><th>petalLength</th><th>petalWidth</th><th>species</th></tr></thead><tbody><tr><th>0</th><td>5.1</td><td>3.5</td><td>1.4</td><td>0.2</td><td>setosa</td></tr><tr><th>1</th><td>4.9</td><td>3.0</td><td>1.4</td><td>0.2</td><td>setosa</td></tr><tr><th>2</th><td>4.7</td><td>3.2</td><td>1.3</td><td>0.2</td><td>setosa</td></tr><tr><th>3</th><td>4.6</td><td>3.1</td><td>1.5</td><td>0.2</td><td>setosa</td></tr><tr><th>4</th><td>5.0</td><td>3.6</td><td>1.4</td><td>0.2</td><td>setosa</td></tr><tr><th>...</th><td>...</td><td>...</td><td>...</td><td>...</td><td>...</td></tr><tr><th>145</th><td>6.7</td><td>3.0</td><td>5.2</td><td>2.3</td><td>virginica</td></tr><tr><th>146</th><td>6.3</td><td>2.5</td><td>5.0</td><td>1.9</td><td>virginica</td></tr><tr><th>147</th><td>6.5</td><td>3.0</td><td>5.2</td><td>2.0</td><td>virginica</td></tr><tr><th>148</th><td>6.2</td><td>3.4</td><td>5.4</td><td>2.3</td><td>virginica</td></tr><tr><th>149</th><td>5.9</td><td>3.0</td><td>5.1</td><td>1.8</td><td>virginica</td></tr></tbody></table><p>150 rows × 5 columns</p>"
      ]
     },
     "metadata": {},
     "output_type": "display_data"
    }
   ],
   "source": [
    "dataframe_transformer.value"
   ]
  }
 ],
 "metadata": {},
 "nbformat": 4,
 "nbformat_minor": 5
}
