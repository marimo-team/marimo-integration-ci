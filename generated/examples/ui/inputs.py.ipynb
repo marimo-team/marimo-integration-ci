{
 "cells": [
  {
   "cell_type": "markdown",
   "id": "Hbol",
   "metadata": {},
   "source": [
    "# Inputs\n",
    "\n",
    "There are many way that a user can input with your notebook, such as text boxes, sliders, dates, and more."
   ]
  },
  {
   "cell_type": "markdown",
   "id": "MJUe",
   "metadata": {},
   "source": [
    "## Text boxes"
   ]
  },
  {
   "cell_type": "code",
   "execution_count": null,
   "id": "vblA",
   "metadata": {},
   "outputs": [],
   "source": [
    "mo.hstack(\n",
    "    [\n",
    "        username := mo.ui.text(label=\"Username\"),\n",
    "        email := mo.ui.text(label=\"Email\", kind=\"email\"),\n",
    "        mo.ui.text(label=\"Password\", kind=\"password\"),\n",
    "    ]\n",
    ")"
   ]
  },
  {
   "cell_type": "code",
   "execution_count": null,
   "id": "bkHC",
   "metadata": {},
   "outputs": [],
   "source": [
    "mo.stop(not username.value, mo.md(\"What is your name?\"))\n",
    "\n",
    "mo.md(f\"👋 Hello {username.value}, nice to meet you!\")"
   ]
  },
  {
   "cell_type": "code",
   "execution_count": null,
   "id": "lEQa",
   "metadata": {},
   "outputs": [],
   "source": [
    "mo.ui.text_area(\n",
    "    label=\"A space for your thoughts\", full_width=True, max_length=1000\n",
    ")"
   ]
  },
  {
   "cell_type": "code",
   "execution_count": null,
   "id": "PKri",
   "metadata": {},
   "outputs": [],
   "source": [
    "mo.ui.number(label=\"What is your favorite number?\", start=0, stop=10)"
   ]
  },
  {
   "cell_type": "markdown",
   "id": "Xref",
   "metadata": {},
   "source": [
    "## Sliders"
   ]
  },
  {
   "cell_type": "code",
   "execution_count": null,
   "id": "SFPL",
   "metadata": {},
   "outputs": [],
   "source": [
    "slider = mo.ui.slider(0, 100, value=50, label=\"Basic slider\", show_value=True)\n",
    "range_slider = mo.ui.range_slider(\n",
    "    0, 100, value=(30, 70), label=\"Range slider\", show_value=True\n",
    ")\n",
    "custom_steps = mo.ui.slider(\n",
    "    steps=[1, 10, 100, 1000], value=10, label=\"Custom steps\", show_value=True\n",
    ")\n",
    "vertical = mo.ui.slider(\n",
    "    0, 100, value=50, label=\"Vertical slider\", orientation=\"vertical\"\n",
    ")\n",
    "mo.vstack([slider, range_slider, custom_steps, vertical]).center()"
   ]
  },
  {
   "cell_type": "markdown",
   "id": "BYtC",
   "metadata": {},
   "source": [
    "## Checkboxes and Radios"
   ]
  },
  {
   "cell_type": "code",
   "execution_count": null,
   "id": "RGSE",
   "metadata": {},
   "outputs": [],
   "source": [
    "COLORS = [\"red\", \"green\", \"blue\"]\n",
    "colors = mo.ui.array(\n",
    "    [mo.ui.checkbox(label=color) for color in COLORS],\n",
    ")\n",
    "\n",
    "shape = mo.ui.radio(\n",
    "    [\"circle\", \"square\", \"triangle\"], inline=True, value=\"square\"\n",
    ")\n",
    "mo.md(f\"\"\"\n",
    "Let's build something:\n",
    "\n",
    "**Pick a shape:**\n",
    "\n",
    "{shape}\n",
    "\n",
    "**Pick a color:**\n",
    "\n",
    "{colors.hstack().left()}\n",
    "\"\"\").center()"
   ]
  },
  {
   "cell_type": "code",
   "execution_count": null,
   "id": "Kclp",
   "metadata": {},
   "outputs": [],
   "source": [
    "selected_colors = [color for i, color in enumerate(COLORS) if colors.value[i]]\n",
    "\n",
    "\n",
    "def draw_shape(shape, colors):\n",
    "    if not colors:\n",
    "        return \"\"\n",
    "\n",
    "    gradient = \"\"\n",
    "    if isinstance(colors, list) and len(colors) > 1:\n",
    "        gradient_id = f\"grad{hash(tuple(colors)) % 1000}\"\n",
    "        stops = \"\".join(\n",
    "            [\n",
    "                f'<stop offset=\"{i/(len(colors)-1)}\" style=\"stop-color:{color};\" />'\n",
    "                for i, color in enumerate(colors)\n",
    "            ]\n",
    "        )\n",
    "        gradient = f'<defs><linearGradient id=\"{gradient_id}\" x1=\"0%\" y1=\"0%\" x2=\"100%\" y2=\"100%\">{stops}</linearGradient></defs>'\n",
    "        fill_color = f\"url(#{gradient_id})\"\n",
    "    else:\n",
    "        fill_color = colors if isinstance(colors, str) else colors[0]\n",
    "\n",
    "    if shape == \"circle\":\n",
    "        html = f'<svg width=\"100\" height=\"100\">{gradient}<circle cx=\"50\" cy=\"50\" r=\"40\" stroke=\"black\" stroke-width=\"3\" fill=\"{fill_color}\" /></svg>'\n",
    "    elif shape == \"square\":\n",
    "        html = f'<svg width=\"100\" height=\"100\">{gradient}<rect width=\"80\" height=\"80\" x=\"10\" y=\"10\" stroke=\"black\" stroke-width=\"3\" fill=\"{fill_color}\" /></svg>'\n",
    "    elif shape == \"triangle\":\n",
    "        html = f'<svg width=\"100\" height=\"100\">{gradient}<polygon points=\"50,10 90,90 10,90\" stroke=\"black\" stroke-width=\"3\" fill=\"{fill_color}\" /></svg>'\n",
    "    else:\n",
    "        html = \"Shape not recognized\"\n",
    "    return mo.Html(html)\n",
    "\n",
    "\n",
    "mo.md(f\"\"\"\n",
    "A {\"/\".join(selected_colors)} {shape.value}:\n",
    "{draw_shape(shape.value, selected_colors)}\n",
    "\"\"\").center()"
   ]
  },
  {
   "cell_type": "markdown",
   "id": "emfo",
   "metadata": {},
   "source": [
    "## Dates"
   ]
  },
  {
   "cell_type": "code",
   "execution_count": null,
   "id": "Hstk",
   "metadata": {},
   "outputs": [],
   "source": [
    "import datetime\n",
    "\n",
    "start_date = mo.ui.date(\n",
    "    label=\"Start date\",\n",
    "    start=datetime.date(2020, 1, 1),\n",
    "    stop=datetime.date(2020, 12, 31),\n",
    ")\n",
    "end_date = mo.ui.date(\n",
    "    label=\"End date\",\n",
    "    start=datetime.date(2020, 1, 1),\n",
    "    stop=datetime.date(2020, 12, 31),\n",
    ")"
   ]
  },
  {
   "cell_type": "code",
   "execution_count": null,
   "id": "nWHF",
   "metadata": {},
   "outputs": [],
   "source": [
    "mo.hstack(\n",
    "    [\n",
    "        mo.hstack([start_date, \"➡️\", end_date]).left(),\n",
    "        mo.md(f\"From {start_date.value} to {end_date.value}\"),\n",
    "    ]\n",
    ")"
   ]
  },
  {
   "cell_type": "markdown",
   "id": "iLit",
   "metadata": {},
   "source": [
    "## Dropdowns"
   ]
  },
  {
   "cell_type": "code",
   "execution_count": null,
   "id": "ZHCJ",
   "metadata": {},
   "outputs": [],
   "source": [
    "single = mo.ui.dropdown(\n",
    "    [\"Option 1\", \"Option 2\", \"Option 3\", \"Option 4\", \"Option 5\"],\n",
    "    label=\"Single select\",\n",
    ")\n",
    "multi = mo.ui.multiselect(\n",
    "    [\"Option 1\", \"Option 2\", \"Option 3\", \"Option 4\", \"Option 5\"],\n",
    "    label=\"Multi select\",\n",
    "    value=[\"Option 1\", \"Option 2\"],\n",
    ")\n",
    "mo.hstack([single, multi])"
   ]
  },
  {
   "cell_type": "code",
   "execution_count": null,
   "id": "ROlb",
   "metadata": {},
   "outputs": [],
   "source": [
    "import marimo as mo"
   ]
  }
 ],
 "metadata": {},
 "nbformat": 4,
 "nbformat_minor": 5
}
