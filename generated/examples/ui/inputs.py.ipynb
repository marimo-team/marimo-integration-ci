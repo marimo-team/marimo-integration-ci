{
 "cells": [
  {
   "cell_type": "markdown",
   "id": "Hbol",
   "metadata": {
    "marimo": {
     "config": {
      "hide_code": true
     }
    }
   },
   "source": [
    "# Inputs\n",
    "\n",
    "There are many way that a user can input with your notebook, such as text boxes, sliders, dates, and more."
   ]
  },
  {
   "cell_type": "markdown",
   "id": "MJUe",
   "metadata": {},
   "source": [
    "## Text boxes"
   ]
  },
  {
   "cell_type": "code",
   "execution_count": null,
   "id": "vblA",
   "metadata": {},
   "outputs": [
    {
     "data": {
      "text/html": [
       "<div style='display: flex;flex: 1;flex-direction: row;justify-content: space-between;align-items: normal;flex-wrap: nowrap;gap: 0.5rem'><div><marimo-ui-element object-id='vblA-0' random-id='bdd640fb-0667-1ad1-1c80-317fa3b1799d'><marimo-text data-initial-value='&quot;&quot;' data-label='&quot;&lt;span class=&#92;&quot;markdown prose dark:prose-invert&#92;&quot;&gt;&lt;span class=&#92;&quot;paragraph&#92;&quot;&gt;Username&lt;/span&gt;&lt;/span&gt;&quot;' data-placeholder='&quot;&quot;' data-kind='&quot;text&quot;' data-full-width='false' data-disabled='false' data-debounce='true'></marimo-text></marimo-ui-element></div><div><marimo-ui-element object-id='vblA-1' random-id='23b8c1e9-3924-56de-3eb1-3b9046685257'><marimo-text data-initial-value='&quot;&quot;' data-label='&quot;&lt;span class=&#92;&quot;markdown prose dark:prose-invert&#92;&quot;&gt;&lt;span class=&#92;&quot;paragraph&#92;&quot;&gt;Email&lt;/span&gt;&lt;/span&gt;&quot;' data-placeholder='&quot;&quot;' data-kind='&quot;email&quot;' data-full-width='false' data-disabled='false' data-debounce='true'></marimo-text></marimo-ui-element></div><div><marimo-ui-element object-id='vblA-2' random-id='bd9c66b3-ad3c-2d6d-1a3d-1fa7bc8960a9'><marimo-text data-initial-value='&quot;&quot;' data-label='&quot;&lt;span class=&#92;&quot;markdown prose dark:prose-invert&#92;&quot;&gt;&lt;span class=&#92;&quot;paragraph&#92;&quot;&gt;Password&lt;/span&gt;&lt;/span&gt;&quot;' data-placeholder='&quot;&quot;' data-kind='&quot;password&quot;' data-full-width='false' data-disabled='false' data-debounce='true'></marimo-text></marimo-ui-element></div></div>"
      ]
     },
     "metadata": {},
     "output_type": "display_data"
    }
   ],
   "source": [
    "mo.hstack(\n",
    "    [\n",
    "        username := mo.ui.text(label=\"Username\"),\n",
    "        email := mo.ui.text(label=\"Email\", kind=\"email\"),\n",
    "        mo.ui.text(label=\"Password\", kind=\"password\"),\n",
    "    ]\n",
    ")"
   ]
  },
  {
   "cell_type": "code",
   "execution_count": null,
   "id": "bkHC",
   "metadata": {},
   "outputs": [
    {
     "data": {
      "text/markdown": [
       "What is your name?"
      ]
     },
     "metadata": {},
     "output_type": "display_data"
    }
   ],
   "source": [
    "mo.stop(not username.value, mo.md(\"What is your name?\"))\n",
    "\n",
    "mo.md(f\"👋 Hello {username.value}, nice to meet you!\")"
   ]
  },
  {
   "cell_type": "code",
   "execution_count": null,
   "id": "lEQa",
   "metadata": {},
   "outputs": [
    {
     "data": {
      "text/markdown": [
       "&lt;marimo-text-area data-initial-value=&#x27;&amp;quot;&amp;quot;&#x27; data-label=&#x27;&amp;quot;&amp;lt;span class=&amp;#92;&amp;quot;markdown prose dark:prose-invert&amp;#92;&amp;quot;&amp;gt;&amp;lt;span class=&amp;#92;&amp;quot;paragraph&amp;#92;&amp;quot;&amp;gt;A space for your thoughts&amp;lt;/span&amp;gt;&amp;lt;/span&amp;gt;&amp;quot;&#x27; data-placeholder=&#x27;&amp;quot;&amp;quot;&#x27; data-max-length=&#x27;1000&#x27; data-disabled=&#x27;false&#x27; data-debounce=&#x27;true&#x27; data-full-width=&#x27;true&#x27;&gt;&lt;/marimo-text-area&gt;"
      ]
     },
     "metadata": {},
     "output_type": "display_data"
    }
   ],
   "source": [
    "mo.ui.text_area(\n",
    "    label=\"A space for your thoughts\", full_width=True, max_length=1000\n",
    ")"
   ]
  },
  {
   "cell_type": "code",
   "execution_count": null,
   "id": "PKri",
   "metadata": {},
   "outputs": [
    {
     "data": {
      "text/markdown": [
       "&lt;marimo-number data-initial-value=&#x27;0&#x27; data-label=&#x27;&amp;quot;&amp;lt;span class=&amp;#92;&amp;quot;markdown prose dark:prose-invert&amp;#92;&amp;quot;&amp;gt;&amp;lt;span class=&amp;#92;&amp;quot;paragraph&amp;#92;&amp;quot;&amp;gt;What is your favorite number?&amp;lt;/span&amp;gt;&amp;lt;/span&amp;gt;&amp;quot;&#x27; data-start=&#x27;0&#x27; data-stop=&#x27;10&#x27; data-debounce=&#x27;false&#x27; data-full-width=&#x27;false&#x27;&gt;&lt;/marimo-number&gt;"
      ]
     },
     "metadata": {},
     "output_type": "display_data"
    }
   ],
   "source": [
    "mo.ui.number(label=\"What is your favorite number?\", start=0, stop=10)"
   ]
  },
  {
   "cell_type": "markdown",
   "id": "Xref",
   "metadata": {},
   "source": [
    "## Sliders"
   ]
  },
  {
   "cell_type": "code",
   "execution_count": null,
   "id": "SFPL",
   "metadata": {},
   "outputs": [
    {
     "data": {
      "text/html": [
       "<div style='display: flex;flex: 1;flex-direction: row;justify-content: center;align-items: normal;flex-wrap: nowrap;gap: 0.5rem'><div><div style='display: flex;flex: 1;flex-direction: column;justify-content: flex-start;align-items: normal;flex-wrap: nowrap;gap: 0.5rem'><div><marimo-ui-element object-id='SFPL-0' random-id='9a1de644-815e-f6d1-3b8f-aa1837f8a88b'><marimo-slider data-initial-value='50' data-label='&quot;&lt;span class=&#92;&quot;markdown prose dark:prose-invert&#92;&quot;&gt;&lt;span class=&#92;&quot;paragraph&#92;&quot;&gt;Basic slider&lt;/span&gt;&lt;/span&gt;&quot;' data-start='0' data-stop='100' data-steps='[]' data-debounce='false' data-orientation='&quot;horizontal&quot;' data-show-value='true' data-full-width='false'></marimo-slider></marimo-ui-element></div><div><marimo-ui-element object-id='SFPL-1' random-id='b74d0fb1-32e7-0629-8fad-c1a606cb0fb3'><marimo-range-slider data-initial-value='[30, 70]' data-label='&quot;&lt;span class=&#92;&quot;markdown prose dark:prose-invert&#92;&quot;&gt;&lt;span class=&#92;&quot;paragraph&#92;&quot;&gt;Range slider&lt;/span&gt;&lt;/span&gt;&quot;' data-start='0' data-stop='100' data-steps='[]' data-debounce='false' data-orientation='&quot;horizontal&quot;' data-show-value='true' data-full-width='false'></marimo-range-slider></marimo-ui-element></div><div><marimo-ui-element object-id='SFPL-2' random-id='6b65a6a4-8b81-48f6-b38a-088ca65ed389'><marimo-slider data-initial-value='1' data-label='&quot;&lt;span class=&#92;&quot;markdown prose dark:prose-invert&#92;&quot;&gt;&lt;span class=&#92;&quot;paragraph&#92;&quot;&gt;Custom steps&lt;/span&gt;&lt;/span&gt;&quot;' data-start='0' data-stop='3' data-step='1' data-steps='[1, 10, 100, 1000]' data-debounce='false' data-orientation='&quot;horizontal&quot;' data-show-value='true' data-full-width='false'></marimo-slider></marimo-ui-element></div><div><marimo-ui-element object-id='SFPL-3' random-id='47378190-96da-1dac-72ff-5d2a386ecbe0'><marimo-slider data-initial-value='50' data-label='&quot;&lt;span class=&#92;&quot;markdown prose dark:prose-invert&#92;&quot;&gt;&lt;span class=&#92;&quot;paragraph&#92;&quot;&gt;Vertical slider&lt;/span&gt;&lt;/span&gt;&quot;' data-start='0' data-stop='100' data-steps='[]' data-debounce='false' data-orientation='&quot;vertical&quot;' data-show-value='false' data-full-width='false'></marimo-slider></marimo-ui-element></div></div></div></div>"
      ]
     },
     "metadata": {},
     "output_type": "display_data"
    }
   ],
   "source": [
    "slider = mo.ui.slider(0, 100, value=50, label=\"Basic slider\", show_value=True)\n",
    "range_slider = mo.ui.range_slider(\n",
    "    0, 100, value=(30, 70), label=\"Range slider\", show_value=True\n",
    ")\n",
    "custom_steps = mo.ui.slider(\n",
    "    steps=[1, 10, 100, 1000], value=10, label=\"Custom steps\", show_value=True\n",
    ")\n",
    "vertical = mo.ui.slider(\n",
    "    0, 100, value=50, label=\"Vertical slider\", orientation=\"vertical\"\n",
    ")\n",
    "mo.vstack([slider, range_slider, custom_steps, vertical]).center()"
   ]
  },
  {
   "cell_type": "markdown",
   "id": "BYtC",
   "metadata": {},
   "source": [
    "## Checkboxes and Radios"
   ]
  },
  {
   "cell_type": "code",
   "execution_count": null,
   "id": "RGSE",
   "metadata": {},
   "outputs": [
    {
     "data": {
      "text/html": [
       "<div style='display: flex;flex: 1;flex-direction: row;justify-content: center;align-items: normal;flex-wrap: nowrap;gap: 0.5rem'><div><span class=\"markdown prose dark:prose-invert\"><span class=\"paragraph\">Let's build something:</span>\n",
       "<span class=\"paragraph\"><strong>Pick a shape:</strong></span>\n",
       "<span class=\"paragraph\"><marimo-ui-element object-id='RGSE-7' random-id='ec1b8ca1-f91e-1d4c-1ff4-9b7889463e85'><marimo-radio data-initial-value='&quot;square&quot;' data-label='null' data-options='[&quot;circle&quot;, &quot;square&quot;, &quot;triangle&quot;]' data-inline='true'></marimo-radio></marimo-ui-element></span>\n",
       "<span class=\"paragraph\"><strong>Pick a color:</strong></span>\n",
       "<div style='display: flex;flex: 1;flex-direction: row;justify-content: flex-start;align-items: normal;flex-wrap: nowrap;gap: 0.5rem'><div><div style='display: flex;flex: 1;flex-direction: row;justify-content: space-between;align-items: normal;flex-wrap: nowrap;gap: 0.5rem'><div><marimo-ui-element object-id='RGSE-3' random-id='1a2a73ed-562b-0f79-c374-59eef50bea63'><marimo-checkbox data-initial-value='false' data-label='&quot;&lt;span class=&#92;&quot;markdown prose dark:prose-invert&#92;&quot;&gt;&lt;span class=&#92;&quot;paragraph&#92;&quot;&gt;red&lt;/span&gt;&lt;/span&gt;&quot;'></marimo-checkbox></marimo-ui-element></div><div><marimo-ui-element object-id='RGSE-4' random-id='5be6128e-18c2-6797-6142-ea7d17be3111'><marimo-checkbox data-initial-value='false' data-label='&quot;&lt;span class=&#92;&quot;markdown prose dark:prose-invert&#92;&quot;&gt;&lt;span class=&#92;&quot;paragraph&#92;&quot;&gt;green&lt;/span&gt;&lt;/span&gt;&quot;'></marimo-checkbox></marimo-ui-element></div><div><marimo-ui-element object-id='RGSE-5' random-id='43b7a3a6-9a8d-ca03-580d-7b71d8f56413'><marimo-checkbox data-initial-value='false' data-label='&quot;&lt;span class=&#92;&quot;markdown prose dark:prose-invert&#92;&quot;&gt;&lt;span class=&#92;&quot;paragraph&#92;&quot;&gt;blue&lt;/span&gt;&lt;/span&gt;&quot;'></marimo-checkbox></marimo-ui-element></div></div></div></div></span></div></div>"
      ]
     },
     "metadata": {},
     "output_type": "display_data"
    }
   ],
   "source": [
    "COLORS = [\"red\", \"green\", \"blue\"]\n",
    "colors = mo.ui.array(\n",
    "    [mo.ui.checkbox(label=color) for color in COLORS],\n",
    ")\n",
    "\n",
    "shape = mo.ui.radio(\n",
    "    [\"circle\", \"square\", \"triangle\"], inline=True, value=\"square\"\n",
    ")\n",
    "mo.md(f\"\"\"\n",
    "Let's build something:\n",
    "\n",
    "**Pick a shape:**\n",
    "\n",
    "{shape}\n",
    "\n",
    "**Pick a color:**\n",
    "\n",
    "{colors.hstack().left()}\n",
    "\"\"\").center()"
   ]
  },
  {
   "cell_type": "code",
   "execution_count": null,
   "id": "Kclp",
   "metadata": {
    "marimo": {
     "config": {
      "hide_code": true
     }
    }
   },
   "outputs": [
    {
     "data": {
      "text/html": [
       "<div style='display: flex;flex: 1;flex-direction: row;justify-content: center;align-items: normal;flex-wrap: nowrap;gap: 0.5rem'><div><span class=\"markdown prose dark:prose-invert\"><span class=\"paragraph\">A  square:</span></span></div></div>"
      ]
     },
     "metadata": {},
     "output_type": "display_data"
    }
   ],
   "source": [
    "selected_colors = [color for i, color in enumerate(COLORS) if colors.value[i]]\n",
    "\n",
    "\n",
    "def draw_shape(shape, colors):\n",
    "    if not colors:\n",
    "        return \"\"\n",
    "\n",
    "    gradient = \"\"\n",
    "    if isinstance(colors, list) and len(colors) > 1:\n",
    "        gradient_id = f\"grad{hash(tuple(colors)) % 1000}\"\n",
    "        stops = \"\".join(\n",
    "            [\n",
    "                f'<stop offset=\"{i/(len(colors)-1)}\" style=\"stop-color:{color};\" />'\n",
    "                for i, color in enumerate(colors)\n",
    "            ]\n",
    "        )\n",
    "        gradient = f'<defs><linearGradient id=\"{gradient_id}\" x1=\"0%\" y1=\"0%\" x2=\"100%\" y2=\"100%\">{stops}</linearGradient></defs>'\n",
    "        fill_color = f\"url(#{gradient_id})\"\n",
    "    else:\n",
    "        fill_color = colors if isinstance(colors, str) else colors[0]\n",
    "\n",
    "    if shape == \"circle\":\n",
    "        html = f'<svg width=\"100\" height=\"100\">{gradient}<circle cx=\"50\" cy=\"50\" r=\"40\" stroke=\"black\" stroke-width=\"3\" fill=\"{fill_color}\" /></svg>'\n",
    "    elif shape == \"square\":\n",
    "        html = f'<svg width=\"100\" height=\"100\">{gradient}<rect width=\"80\" height=\"80\" x=\"10\" y=\"10\" stroke=\"black\" stroke-width=\"3\" fill=\"{fill_color}\" /></svg>'\n",
    "    elif shape == \"triangle\":\n",
    "        html = f'<svg width=\"100\" height=\"100\">{gradient}<polygon points=\"50,10 90,90 10,90\" stroke=\"black\" stroke-width=\"3\" fill=\"{fill_color}\" /></svg>'\n",
    "    else:\n",
    "        html = \"Shape not recognized\"\n",
    "    return mo.Html(html)\n",
    "\n",
    "\n",
    "mo.md(f\"\"\"\n",
    "A {\"/\".join(selected_colors)} {shape.value}:\n",
    "{draw_shape(shape.value, selected_colors)}\n",
    "\"\"\").center()"
   ]
  },
  {
   "cell_type": "markdown",
   "id": "emfo",
   "metadata": {},
   "source": [
    "## Dates"
   ]
  },
  {
   "cell_type": "code",
   "execution_count": null,
   "id": "Hstk",
   "metadata": {},
   "outputs": [],
   "source": [
    "import datetime\n",
    "\n",
    "start_date = mo.ui.date(\n",
    "    label=\"Start date\",\n",
    "    start=datetime.date(2020, 1, 1),\n",
    "    stop=datetime.date(2020, 12, 31),\n",
    ")\n",
    "end_date = mo.ui.date(\n",
    "    label=\"End date\",\n",
    "    start=datetime.date(2020, 1, 1),\n",
    "    stop=datetime.date(2020, 12, 31),\n",
    ")"
   ]
  },
  {
   "cell_type": "code",
   "execution_count": null,
   "id": "nWHF",
   "metadata": {},
   "outputs": [
    {
     "data": {
      "text/html": [
       "<div style='display: flex;flex: 1;flex-direction: row;justify-content: space-between;align-items: normal;flex-wrap: nowrap;gap: 0.5rem'><div><div style='display: flex;flex: 1;flex-direction: row;justify-content: flex-start;align-items: normal;flex-wrap: nowrap;gap: 0.5rem'><div><div style='display: flex;flex: 1;flex-direction: row;justify-content: space-between;align-items: normal;flex-wrap: nowrap;gap: 0.5rem'><div><marimo-ui-element object-id='Hstk-0' random-id='4b0dbb41-8d52-88f1-142c-3fe860e7a113'><marimo-date data-initial-value='&quot;2020-01-01&quot;' data-label='&quot;&lt;span class=&#92;&quot;markdown prose dark:prose-invert&#92;&quot;&gt;&lt;span class=&#92;&quot;paragraph&#92;&quot;&gt;Start date&lt;/span&gt;&lt;/span&gt;&quot;' data-start='&quot;2020-01-01&quot;' data-stop='&quot;2020-12-31&quot;' data-full-width='false'></marimo-date></marimo-ui-element></div><div><span>➡️</span></div><div><marimo-ui-element object-id='Hstk-1' random-id='e2acf72f-9e57-4f7a-a0ee-89aed453dd32'><marimo-date data-initial-value='&quot;2020-01-01&quot;' data-label='&quot;&lt;span class=&#92;&quot;markdown prose dark:prose-invert&#92;&quot;&gt;&lt;span class=&#92;&quot;paragraph&#92;&quot;&gt;End date&lt;/span&gt;&lt;/span&gt;&quot;' data-start='&quot;2020-01-01&quot;' data-stop='&quot;2020-12-31&quot;' data-full-width='false'></marimo-date></marimo-ui-element></div></div></div></div></div><div><span class=\"markdown prose dark:prose-invert\"><span class=\"paragraph\">From 2020-01-01 to 2020-01-01</span></span></div></div>"
      ]
     },
     "metadata": {},
     "output_type": "display_data"
    }
   ],
   "source": [
    "mo.hstack(\n",
    "    [\n",
    "        mo.hstack([start_date, \"➡️\", end_date]).left(),\n",
    "        mo.md(f\"From {start_date.value} to {end_date.value}\"),\n",
    "    ]\n",
    ")"
   ]
  },
  {
   "cell_type": "markdown",
   "id": "iLit",
   "metadata": {
    "marimo": {
     "config": {
      "hide_code": true
     }
    }
   },
   "source": [
    "## Dropdowns"
   ]
  },
  {
   "cell_type": "code",
   "execution_count": null,
   "id": "ZHCJ",
   "metadata": {},
   "outputs": [
    {
     "data": {
      "text/html": [
       "<div style='display: flex;flex: 1;flex-direction: row;justify-content: space-between;align-items: normal;flex-wrap: nowrap;gap: 0.5rem'><div><marimo-ui-element object-id='ZHCJ-0' random-id='3139d32c-93cd-59bf-5c94-1cf0dc98d2c1'><marimo-dropdown data-initial-value='[]' data-label='&quot;&lt;span class=&#92;&quot;markdown prose dark:prose-invert&#92;&quot;&gt;&lt;span class=&#92;&quot;paragraph&#92;&quot;&gt;Single select&lt;/span&gt;&lt;/span&gt;&quot;' data-options='[&quot;Option 1&quot;, &quot;Option 2&quot;, &quot;Option 3&quot;, &quot;Option 4&quot;, &quot;Option 5&quot;]' data-allow-select-none='true' data-full-width='false'></marimo-dropdown></marimo-ui-element></div><div><marimo-ui-element object-id='ZHCJ-1' random-id='a9488d99-0bbb-2599-11ce-5dd2b45ed1f0'><marimo-multiselect data-initial-value='[&quot;Option 1&quot;, &quot;Option 2&quot;]' data-label='&quot;&lt;span class=&#92;&quot;markdown prose dark:prose-invert&#92;&quot;&gt;&lt;span class=&#92;&quot;paragraph&#92;&quot;&gt;Multi select&lt;/span&gt;&lt;/span&gt;&quot;' data-options='[&quot;Option 1&quot;, &quot;Option 2&quot;, &quot;Option 3&quot;, &quot;Option 4&quot;, &quot;Option 5&quot;]' data-full-width='false'></marimo-multiselect></marimo-ui-element></div></div>"
      ]
     },
     "metadata": {},
     "output_type": "display_data"
    }
   ],
   "source": [
    "single = mo.ui.dropdown(\n",
    "    [\"Option 1\", \"Option 2\", \"Option 3\", \"Option 4\", \"Option 5\"],\n",
    "    label=\"Single select\",\n",
    ")\n",
    "multi = mo.ui.multiselect(\n",
    "    [\"Option 1\", \"Option 2\", \"Option 3\", \"Option 4\", \"Option 5\"],\n",
    "    label=\"Multi select\",\n",
    "    value=[\"Option 1\", \"Option 2\"],\n",
    ")\n",
    "mo.hstack([single, multi])"
   ]
  },
  {
   "cell_type": "code",
   "execution_count": null,
   "id": "ROlb",
   "metadata": {},
   "outputs": [],
   "source": [
    "import marimo as mo"
   ]
  }
 ],
 "metadata": {},
 "nbformat": 4,
 "nbformat_minor": 5
}
