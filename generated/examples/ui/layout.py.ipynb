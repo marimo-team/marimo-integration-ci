{
 "cells": [
  {
   "cell_type": "markdown",
   "id": "Hbol",
   "metadata": {
    "marimo": {
     "config": {
      "hide_code": true
     }
    }
   },
   "source": [
    "# Stacks"
   ]
  },
  {
   "cell_type": "markdown",
   "id": "MJUe",
   "metadata": {
    "marimo": {
     "config": {
      "hide_code": true
     }
    }
   },
   "source": [
    "Use `mo.hstack` and `mo.vstack` to layout outputs in rows and columns."
   ]
  },
  {
   "cell_type": "code",
   "execution_count": null,
   "id": "vblA",
   "metadata": {},
   "outputs": [
    {
     "data": {
      "text/markdown": [
       "**Stack parameters**\n",
       "\n",
       "<div style='display: flex;flex: 1;flex-direction: row;justify-content: space-between;align-items: normal;flex-wrap: nowrap;gap: 0.25rem'><marimo-ui-element object-id='vblA-0' random-id='cf22e921-4832-504d-ef7b-dbc7d6b3db40'><marimo-dropdown data-initial-value='[]' data-label='&quot;&lt;span class=&#92;&quot;markdown prose dark:prose-invert&#92;&quot;&gt;&lt;span class=&#92;&quot;paragraph&#92;&quot;&gt;Align&lt;/span&gt;&lt;/span&gt;&quot;' data-options='[&quot;start&quot;, &quot;end&quot;, &quot;center&quot;, &quot;stretch&quot;]' data-allow-select-none='true' data-searchable='false' data-full-width='false'></marimo-dropdown></marimo-ui-element><marimo-ui-element object-id='vblA-1' random-id='0ef1cbdb-00a2-5644-508b-4764ea921958'><marimo-dropdown data-initial-value='[]' data-label='&quot;&lt;span class=&#92;&quot;markdown prose dark:prose-invert&#92;&quot;&gt;&lt;span class=&#92;&quot;paragraph&#92;&quot;&gt;Justify&lt;/span&gt;&lt;/span&gt;&quot;' data-options='[&quot;start&quot;, &quot;center&quot;, &quot;end&quot;, &quot;space-between&quot;, &quot;space-around&quot;]' data-allow-select-none='true' data-searchable='false' data-full-width='false'></marimo-dropdown></marimo-ui-element><marimo-ui-element object-id='vblA-2' random-id='3c8a39d1-6f2a-1c53-69f6-04f156602c04'><marimo-number data-initial-value='1' data-label='&quot;&lt;span class=&#92;&quot;markdown prose dark:prose-invert&#92;&quot;&gt;&lt;span class=&#92;&quot;paragraph&#92;&quot;&gt;Gap&lt;/span&gt;&lt;/span&gt;&quot;' data-start='0' data-stop='100' data-debounce='false' data-full-width='false' data-disabled='false'></marimo-number></marimo-ui-element><marimo-ui-element object-id='vblA-4' random-id='2a17c417-255a-140b-6df8-1984c2aa89f1'><marimo-checkbox data-initial-value='false' data-label='&quot;&lt;span class=&#92;&quot;markdown prose dark:prose-invert&#92;&quot;&gt;&lt;span class=&#92;&quot;paragraph&#92;&quot;&gt;Wrap&lt;/span&gt;&lt;/span&gt;&quot;'></marimo-checkbox></marimo-ui-element></div>\n",
       "\n",
       "**Boxes <marimo-ui-element object-id='vblA-3' random-id='0f232b8c-cc8d-29ef-ab7f-529275246a73'><marimo-slider data-initial-value='60' data-label='&quot;&lt;span class=&#92;&quot;markdown prose dark:prose-invert&#92;&quot;&gt;&lt;span class=&#92;&quot;paragraph&#92;&quot;&gt;Size&lt;/span&gt;&lt;/span&gt;&quot;' data-start='60' data-stop='500' data-steps='[]' data-debounce='false' data-disabled='false' data-orientation='&quot;horizontal&quot;' data-show-value='false' data-include-input='false' data-full-width='false'></marimo-slider></marimo-ui-element>**"
      ]
     },
     "metadata": {},
     "output_type": "display_data"
    }
   ],
   "source": [
    "align = mo.ui.dropdown(\n",
    "    label=\"Align\", options=[\"start\", \"end\", \"center\", \"stretch\"]\n",
    ")\n",
    "justify = mo.ui.dropdown(\n",
    "    label=\"Justify\",\n",
    "    options=[\"start\", \"center\", \"end\", \"space-between\", \"space-around\"],\n",
    ")\n",
    "gap = mo.ui.number(label=\"Gap\", start=0, stop=100, value=1)\n",
    "size = mo.ui.slider(label=\"Size\", start=60, stop=500)\n",
    "wrap = mo.ui.checkbox(label=\"Wrap\")\n",
    "\n",
    "mo.md(\n",
    "    f\"\"\"\n",
    "    **Stack parameters**\n",
    "\n",
    "    {mo.hstack([align, justify, gap, wrap], gap=0.25)}\n",
    "\n",
    "    **Boxes {size}**\n",
    "    \"\"\"\n",
    ")"
   ]
  },
  {
   "cell_type": "markdown",
   "id": "bkHC",
   "metadata": {},
   "source": [
    "## Horizontal Stack: `hstack`"
   ]
  },
  {
   "cell_type": "code",
   "execution_count": null,
   "id": "lEQa",
   "metadata": {},
   "outputs": [
    {
     "data": {
      "text/html": [
       "<div style='display: flex;flex: 1;flex-direction: row;justify-content: space-between;align-items: normal;flex-wrap: nowrap;gap: 1rem'><div style='min-width: 70px; min-height: 70px; background-color: orange; text-align: center; line-height: 70px'>1</div><div style='min-width: 80px; min-height: 80px; background-color: orange; text-align: center; line-height: 80px'>2</div><div style='min-width: 90px; min-height: 90px; background-color: orange; text-align: center; line-height: 90px'>3</div><div style='min-width: 100px; min-height: 100px; background-color: orange; text-align: center; line-height: 100px'>4</div></div>"
      ]
     },
     "metadata": {},
     "output_type": "display_data"
    }
   ],
   "source": [
    "mo.hstack(\n",
    "    boxes,\n",
    "    align=align.value,\n",
    "    justify=justify.value,\n",
    "    gap=gap.value,\n",
    "    wrap=wrap.value,\n",
    ")"
   ]
  },
  {
   "cell_type": "markdown",
   "id": "PKri",
   "metadata": {},
   "source": [
    "## Vertical Stack: `vstack`"
   ]
  },
  {
   "cell_type": "code",
   "execution_count": null,
   "id": "Xref",
   "metadata": {},
   "outputs": [
    {
     "data": {
      "text/html": [
       "<div style='display: flex;flex: 1;flex-direction: column;justify-content: flex-start;align-items: normal;flex-wrap: nowrap;gap: 1rem'><div style='min-width: 70px; min-height: 70px; background-color: orange; text-align: center; line-height: 70px'>1</div><div style='min-width: 80px; min-height: 80px; background-color: orange; text-align: center; line-height: 80px'>2</div><div style='min-width: 90px; min-height: 90px; background-color: orange; text-align: center; line-height: 90px'>3</div><div style='min-width: 100px; min-height: 100px; background-color: orange; text-align: center; line-height: 100px'>4</div></div>"
      ]
     },
     "metadata": {},
     "output_type": "display_data"
    }
   ],
   "source": [
    "mo.vstack(\n",
    "    boxes,\n",
    "    align=align.value,\n",
    "    gap=gap.value,\n",
    ")"
   ]
  },
  {
   "cell_type": "code",
   "execution_count": null,
   "id": "SFPL",
   "metadata": {},
   "outputs": [],
   "source": [
    "def create_box(num):\n",
    "    box_size = size.value + num * 10\n",
    "    return mo.Html(\n",
    "        f\"<div style='min-width: {box_size}px; min-height: {box_size}px; background-color: orange; text-align: center; line-height: {box_size}px'>{str(num)}</div>\"\n",
    "    )\n",
    "\n",
    "\n",
    "boxes = [create_box(i) for i in range(1, 5)]"
   ]
  },
  {
   "cell_type": "code",
   "execution_count": null,
   "id": "BYtC",
   "metadata": {},
   "outputs": [],
   "source": [
    "import marimo as mo"
   ]
  }
 ],
 "metadata": {},
 "nbformat": 4,
 "nbformat_minor": 5
}
