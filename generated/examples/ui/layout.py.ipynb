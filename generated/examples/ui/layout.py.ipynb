{
 "cells": [
  {
   "cell_type": "markdown",
   "id": "Hbol",
   "metadata": {
    "marimo": {
     "config": {
      "hide_code": true
     }
    }
   },
   "source": [
    "# Stacks"
   ]
  },
  {
   "cell_type": "markdown",
   "id": "MJUe",
   "metadata": {
    "marimo": {
     "config": {
      "hide_code": true
     }
    }
   },
   "source": [
    "Use `mo.hstack` and `mo.vstack` to layout outputs in rows and columns."
   ]
  },
  {
   "cell_type": "code",
   "execution_count": null,
   "id": "vblA",
   "metadata": {},
   "outputs": [
    {
     "data": {
      "text/markdown": [
       "**Stack parameters**\n",
       "\n",
       "<div style='display: flex;flex: 1;flex-direction: row;justify-content: space-between;align-items: normal;flex-wrap: nowrap;gap: 0.25rem'><div><marimo-ui-element object-id='vblA-0' random-id='bdd640fb-0667-1ad1-1c80-317fa3b1799d'><marimo-dropdown data-initial-value='[]' data-label='&quot;&lt;span class=&#92;&quot;markdown prose dark:prose-invert&#92;&quot;&gt;&lt;span class=&#92;&quot;paragraph&#92;&quot;&gt;Align&lt;/span&gt;&lt;/span&gt;&quot;' data-options='[&quot;start&quot;, &quot;end&quot;, &quot;center&quot;, &quot;stretch&quot;]' data-allow-select-none='true' data-full-width='false'></marimo-dropdown></marimo-ui-element></div><div><marimo-ui-element object-id='vblA-1' random-id='23b8c1e9-3924-56de-3eb1-3b9046685257'><marimo-dropdown data-initial-value='[]' data-label='&quot;&lt;span class=&#92;&quot;markdown prose dark:prose-invert&#92;&quot;&gt;&lt;span class=&#92;&quot;paragraph&#92;&quot;&gt;Justify&lt;/span&gt;&lt;/span&gt;&quot;' data-options='[&quot;start&quot;, &quot;center&quot;, &quot;end&quot;, &quot;space-between&quot;, &quot;space-around&quot;]' data-allow-select-none='true' data-full-width='false'></marimo-dropdown></marimo-ui-element></div><div><marimo-ui-element object-id='vblA-2' random-id='bd9c66b3-ad3c-2d6d-1a3d-1fa7bc8960a9'><marimo-number data-initial-value='1' data-label='&quot;&lt;span class=&#92;&quot;markdown prose dark:prose-invert&#92;&quot;&gt;&lt;span class=&#92;&quot;paragraph&#92;&quot;&gt;Gap&lt;/span&gt;&lt;/span&gt;&quot;' data-start='0' data-stop='100' data-debounce='false' data-full-width='false'></marimo-number></marimo-ui-element></div><div><marimo-ui-element object-id='vblA-4' random-id='17fc695a-07a0-ca6e-0822-e8f36c031199'><marimo-checkbox data-initial-value='false' data-label='&quot;&lt;span class=&#92;&quot;markdown prose dark:prose-invert&#92;&quot;&gt;&lt;span class=&#92;&quot;paragraph&#92;&quot;&gt;Wrap&lt;/span&gt;&lt;/span&gt;&quot;'></marimo-checkbox></marimo-ui-element></div></div>\n",
       "\n",
       "**Boxes <marimo-ui-element object-id='vblA-3' random-id='972a8469-1641-9f82-8b9d-2434e465e150'><marimo-slider data-initial-value='60' data-label='&quot;&lt;span class=&#92;&quot;markdown prose dark:prose-invert&#92;&quot;&gt;&lt;span class=&#92;&quot;paragraph&#92;&quot;&gt;Size&lt;/span&gt;&lt;/span&gt;&quot;' data-start='60' data-stop='500' data-steps='[]' data-debounce='false' data-orientation='&quot;horizontal&quot;' data-show-value='false' data-full-width='false'></marimo-slider></marimo-ui-element>**"
      ]
     },
     "metadata": {},
     "output_type": "display_data"
    }
   ],
   "source": [
    "align = mo.ui.dropdown(\n",
    "    label=\"Align\", options=[\"start\", \"end\", \"center\", \"stretch\"]\n",
    ")\n",
    "justify = mo.ui.dropdown(\n",
    "    label=\"Justify\",\n",
    "    options=[\"start\", \"center\", \"end\", \"space-between\", \"space-around\"],\n",
    ")\n",
    "gap = mo.ui.number(label=\"Gap\", start=0, stop=100, value=1)\n",
    "size = mo.ui.slider(label=\"Size\", start=60, stop=500)\n",
    "wrap = mo.ui.checkbox(label=\"Wrap\")\n",
    "\n",
    "mo.md(\n",
    "    f\"\"\"\n",
    "    **Stack parameters**\n",
    "\n",
    "    {mo.hstack([align, justify, gap, wrap], gap=0.25)}\n",
    "\n",
    "    **Boxes {size}**\n",
    "    \"\"\"\n",
    ")"
   ]
  },
  {
   "cell_type": "markdown",
   "id": "bkHC",
   "metadata": {},
   "source": [
    "## Horizontal Stack: `hstack`"
   ]
  },
  {
   "cell_type": "code",
   "execution_count": null,
   "id": "lEQa",
   "metadata": {},
   "outputs": [
    {
     "data": {
      "text/html": [
       "<div style='display: flex;flex: 1;flex-direction: row;justify-content: space-between;align-items: normal;flex-wrap: nowrap;gap: 1rem'><div><div style='min-width: 70px; min-height: 70px; background-color: orange; text-align: center; line-height: 70px'>1</div></div><div><div style='min-width: 80px; min-height: 80px; background-color: orange; text-align: center; line-height: 80px'>2</div></div><div><div style='min-width: 90px; min-height: 90px; background-color: orange; text-align: center; line-height: 90px'>3</div></div><div><div style='min-width: 100px; min-height: 100px; background-color: orange; text-align: center; line-height: 100px'>4</div></div></div>"
      ]
     },
     "metadata": {},
     "output_type": "display_data"
    }
   ],
   "source": [
    "mo.hstack(\n",
    "    boxes,\n",
    "    align=align.value,\n",
    "    justify=justify.value,\n",
    "    gap=gap.value,\n",
    "    wrap=wrap.value,\n",
    ")"
   ]
  },
  {
   "cell_type": "markdown",
   "id": "PKri",
   "metadata": {},
   "source": [
    "## Vertical Stack: `vstack`"
   ]
  },
  {
   "cell_type": "code",
   "execution_count": null,
   "id": "Xref",
   "metadata": {},
   "outputs": [
    {
     "data": {
      "text/html": [
       "<div style='display: flex;flex: 1;flex-direction: column;justify-content: flex-start;align-items: normal;flex-wrap: nowrap;gap: 1rem'><div><div style='min-width: 70px; min-height: 70px; background-color: orange; text-align: center; line-height: 70px'>1</div></div><div><div style='min-width: 80px; min-height: 80px; background-color: orange; text-align: center; line-height: 80px'>2</div></div><div><div style='min-width: 90px; min-height: 90px; background-color: orange; text-align: center; line-height: 90px'>3</div></div><div><div style='min-width: 100px; min-height: 100px; background-color: orange; text-align: center; line-height: 100px'>4</div></div></div>"
      ]
     },
     "metadata": {},
     "output_type": "display_data"
    }
   ],
   "source": [
    "mo.vstack(\n",
    "    boxes,\n",
    "    align=align.value,\n",
    "    gap=gap.value,\n",
    ")"
   ]
  },
  {
   "cell_type": "code",
   "execution_count": null,
   "id": "SFPL",
   "metadata": {},
   "outputs": [],
   "source": [
    "def create_box(num):\n",
    "    box_size = size.value + num * 10\n",
    "    return mo.Html(\n",
    "        f\"<div style='min-width: {box_size}px; min-height: {box_size}px; background-color: orange; text-align: center; line-height: {box_size}px'>{str(num)}</div>\"\n",
    "    )\n",
    "\n",
    "\n",
    "boxes = [create_box(i) for i in range(1, 5)]"
   ]
  },
  {
   "cell_type": "code",
   "execution_count": null,
   "id": "BYtC",
   "metadata": {},
   "outputs": [],
   "source": [
    "import marimo as mo"
   ]
  }
 ],
 "metadata": {},
 "nbformat": 4,
 "nbformat_minor": 5
}
