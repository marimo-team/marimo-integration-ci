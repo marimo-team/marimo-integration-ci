{
 "cells": [
  {
   "cell_type": "markdown",
   "id": "Hbol",
   "metadata": {},
   "source": [
    "# Stacks"
   ]
  },
  {
   "cell_type": "markdown",
   "id": "MJUe",
   "metadata": {},
   "source": [
    "Use `mo.hstack` and `mo.vstack` to layout outputs in rows and columns."
   ]
  },
  {
   "cell_type": "code",
   "execution_count": null,
   "id": "vblA",
   "metadata": {},
   "outputs": [],
   "source": [
    "align = mo.ui.dropdown(\n",
    "    label=\"Align\", options=[\"start\", \"end\", \"center\", \"stretch\"]\n",
    ")\n",
    "justify = mo.ui.dropdown(\n",
    "    label=\"Justify\",\n",
    "    options=[\"start\", \"center\", \"end\", \"space-between\", \"space-around\"],\n",
    ")\n",
    "gap = mo.ui.number(label=\"Gap\", start=0, stop=100, value=1)\n",
    "size = mo.ui.slider(label=\"Size\", start=60, stop=500)\n",
    "wrap = mo.ui.checkbox(label=\"Wrap\")\n",
    "\n",
    "mo.md(\n",
    "    f\"\"\"\n",
    "    **Stack parameters**\n",
    "\n",
    "    {mo.hstack([align, justify, gap, wrap], gap=0.25)}\n",
    "\n",
    "    **Boxes {size}**\n",
    "    \"\"\"\n",
    ")"
   ]
  },
  {
   "cell_type": "markdown",
   "id": "bkHC",
   "metadata": {},
   "source": [
    "## Horizontal Stack: `hstack`"
   ]
  },
  {
   "cell_type": "code",
   "execution_count": null,
   "id": "lEQa",
   "metadata": {},
   "outputs": [],
   "source": [
    "mo.hstack(\n",
    "    boxes,\n",
    "    align=align.value,\n",
    "    justify=justify.value,\n",
    "    gap=gap.value,\n",
    "    wrap=wrap.value,\n",
    ")"
   ]
  },
  {
   "cell_type": "markdown",
   "id": "PKri",
   "metadata": {},
   "source": [
    "## Vertical Stack: `vstack`"
   ]
  },
  {
   "cell_type": "code",
   "execution_count": null,
   "id": "Xref",
   "metadata": {},
   "outputs": [],
   "source": [
    "mo.vstack(\n",
    "    boxes,\n",
    "    align=align.value,\n",
    "    gap=gap.value,\n",
    ")"
   ]
  },
  {
   "cell_type": "code",
   "execution_count": null,
   "id": "SFPL",
   "metadata": {},
   "outputs": [],
   "source": [
    "def create_box(num):\n",
    "    box_size = size.value + num * 10\n",
    "    return mo.Html(\n",
    "        f\"<div style='min-width: {box_size}px; min-height: {box_size}px; background-color: orange; text-align: center; line-height: {box_size}px'>{str(num)}</div>\"\n",
    "    )\n",
    "\n",
    "\n",
    "boxes = [create_box(i) for i in range(1, 5)]"
   ]
  },
  {
   "cell_type": "code",
   "execution_count": null,
   "id": "BYtC",
   "metadata": {},
   "outputs": [],
   "source": [
    "import marimo as mo"
   ]
  }
 ],
 "metadata": {},
 "nbformat": 4,
 "nbformat_minor": 5
}
