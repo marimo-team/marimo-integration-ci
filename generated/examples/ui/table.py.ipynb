{
 "cells": [
  {
   "cell_type": "markdown",
   "id": "Hbol",
   "metadata": {},
   "source": [
    "# Tables\n",
    "\n",
    "> “Sometimes I’ll start a sentence and I don’t even know where it’s going. I just hope I find it along the way.”\n",
    "— Michael Scott"
   ]
  },
  {
   "cell_type": "markdown",
   "id": "MJUe",
   "metadata": {},
   "source": [
    "_Create rich tables with selectable rows using_ `mo.ui.table`."
   ]
  },
  {
   "cell_type": "markdown",
   "id": "vblA",
   "metadata": {},
   "source": [
    "**Single selection.**"
   ]
  },
  {
   "cell_type": "code",
   "execution_count": null,
   "id": "bkHC",
   "metadata": {},
   "outputs": [],
   "source": [
    "single_select_table = mo.ui.table(\n",
    "    office_characters,\n",
    "    selection=\"single\",\n",
    "    pagination=True,\n",
    ")"
   ]
  },
  {
   "cell_type": "code",
   "execution_count": null,
   "id": "lEQa",
   "metadata": {},
   "outputs": [],
   "source": [
    "mo.ui.tabs({\"table\": single_select_table, \"selection\": single_select_table.value})"
   ]
  },
  {
   "cell_type": "markdown",
   "id": "PKri",
   "metadata": {},
   "source": [
    "**Multi-selection.**"
   ]
  },
  {
   "cell_type": "code",
   "execution_count": null,
   "id": "Xref",
   "metadata": {},
   "outputs": [],
   "source": [
    "multi_select_table = mo.ui.table(\n",
    "    office_characters,\n",
    "    selection=\"multi\",\n",
    "    pagination=True,\n",
    ")"
   ]
  },
  {
   "cell_type": "code",
   "execution_count": null,
   "id": "SFPL",
   "metadata": {},
   "outputs": [],
   "source": [
    "mo.ui.tabs({\"table\": multi_select_table, \"selection\": multi_select_table.value})"
   ]
  },
  {
   "cell_type": "markdown",
   "id": "BYtC",
   "metadata": {},
   "source": [
    "**No selection.**"
   ]
  },
  {
   "cell_type": "code",
   "execution_count": null,
   "id": "RGSE",
   "metadata": {},
   "outputs": [],
   "source": [
    "table = mo.ui.table(\n",
    "    office_characters,\n",
    "    label=\"Employees\",\n",
    "    selection=None,\n",
    ")\n",
    "\n",
    "table"
   ]
  },
  {
   "cell_type": "code",
   "execution_count": null,
   "id": "Kclp",
   "metadata": {},
   "outputs": [],
   "source": [
    "office_characters = [\n",
    "    {\n",
    "        \"first_name\": \"Michael\",\n",
    "        \"last_name\": \"Scott\",\n",
    "        \"skill\": mo.ui.slider(1, 10, value=3),\n",
    "        \"favorite place\": mo.image(src=\"https://picsum.photos/100\", rounded=True),\n",
    "    },\n",
    "    {\n",
    "        \"first_name\": \"Jim\",\n",
    "        \"last_name\": \"Halpert\",\n",
    "        \"skill\": mo.ui.slider(1, 10, value=7),\n",
    "        \"favorite place\": mo.image(src=\"https://picsum.photos/100\"),\n",
    "    },\n",
    "    {\n",
    "        \"first_name\": \"Pam\",\n",
    "        \"last_name\": \"Beesly\",\n",
    "        \"skill\": mo.ui.slider(1, 10, value=3),\n",
    "        \"favorite place\": mo.image(src=\"https://picsum.photos/100\"),\n",
    "    },\n",
    "    {\n",
    "        \"first_name\": \"Dwight\",\n",
    "        \"last_name\": \"Schrute\",\n",
    "        \"skill\": mo.ui.slider(1, 10, value=7),\n",
    "        \"favorite place\": mo.image(src=\"https://picsum.photos/100\"),\n",
    "    },\n",
    "    {\n",
    "        \"first_name\": \"Angela\",\n",
    "        \"last_name\": \"Martin\",\n",
    "        \"skill\": mo.ui.slider(1, 10, value=5),\n",
    "        \"favorite place\": mo.image(src=\"https://picsum.photos/100\"),\n",
    "    },\n",
    "    {\n",
    "        \"first_name\": \"Kevin\",\n",
    "        \"last_name\": \"Malone\",\n",
    "        \"skill\": mo.ui.slider(1, 10, value=3),\n",
    "        \"favorite place\": mo.image(src=\"https://picsum.photos/100\"),\n",
    "    },\n",
    "    {\n",
    "        \"first_name\": \"Oscar\",\n",
    "        \"last_name\": \"Martinez\",\n",
    "        \"skill\": mo.ui.slider(1, 10, value=3),\n",
    "        \"favorite place\": mo.image(src=\"https://picsum.photos/100\"),\n",
    "    },\n",
    "    {\n",
    "        \"first_name\": \"Stanley\",\n",
    "        \"last_name\": \"Hudson\",\n",
    "        \"skill\": mo.ui.slider(1, 10, value=5),\n",
    "        \"favorite place\": mo.image(src=\"https://picsum.photos/100\"),\n",
    "    },\n",
    "    {\n",
    "        \"first_name\": \"Phyllis\",\n",
    "        \"last_name\": \"Vance\",\n",
    "        \"skill\": mo.ui.slider(1, 10, value=5),\n",
    "        \"favorite place\": mo.image(src=\"https://picsum.photos/100\"),\n",
    "    },\n",
    "    {\n",
    "        \"first_name\": \"Meredith\",\n",
    "        \"last_name\": \"Palmer\",\n",
    "        \"skill\": mo.ui.slider(1, 10, value=7),\n",
    "        \"favorite place\": mo.image(src=\"https://picsum.photos/100\"),\n",
    "    },\n",
    "    {\n",
    "        \"first_name\": \"Creed\",\n",
    "        \"last_name\": \"Bratton\",\n",
    "        \"skill\": mo.ui.slider(1, 10, value=3),\n",
    "        \"favorite place\": mo.image(src=\"https://picsum.photos/100\"),\n",
    "    },\n",
    "    {\n",
    "        \"first_name\": \"Ryan\",\n",
    "        \"last_name\": \"Howard\",\n",
    "        \"skill\": mo.ui.slider(1, 10, value=5),\n",
    "        \"favorite place\": mo.image(src=\"https://picsum.photos/100\"),\n",
    "    },\n",
    "    {\n",
    "        \"first_name\": \"Kelly\",\n",
    "        \"last_name\": \"Kapoor\",\n",
    "        \"skill\": mo.ui.slider(1, 10, value=3),\n",
    "        \"favorite place\": mo.image(src=\"https://picsum.photos/100\"),\n",
    "    },\n",
    "    {\n",
    "        \"first_name\": \"Toby\",\n",
    "        \"last_name\": \"Flenderson\",\n",
    "        \"skill\": mo.ui.slider(1, 10, value=3),\n",
    "        \"favorite place\": mo.image(src=\"https://picsum.photos/100\"),\n",
    "    },\n",
    "    {\n",
    "        \"first_name\": \"Darryl\",\n",
    "        \"last_name\": \"Philbin\",\n",
    "        \"skill\": mo.ui.slider(1, 10, value=7),\n",
    "        \"favorite place\": mo.image(src=\"https://picsum.photos/100\"),\n",
    "    },\n",
    "    {\n",
    "        \"first_name\": \"Erin\",\n",
    "        \"last_name\": \"Hannon\",\n",
    "        \"skill\": mo.ui.slider(1, 10, value=5),\n",
    "        \"favorite place\": mo.image(src=\"https://picsum.photos/100\"),\n",
    "    },\n",
    "    {\n",
    "        \"first_name\": \"Andy\",\n",
    "        \"last_name\": \"Bernard\",\n",
    "        \"skill\": mo.ui.slider(1, 10, value=5),\n",
    "        \"favorite place\": mo.image(src=\"https://picsum.photos/100\"),\n",
    "    },\n",
    "    {\n",
    "        \"first_name\": \"Jan\",\n",
    "        \"last_name\": \"Levinson\",\n",
    "        \"skill\": mo.ui.slider(1, 10, value=5),\n",
    "        \"favorite place\": mo.image(src=\"https://picsum.photos/100\"),\n",
    "    },\n",
    "    {\n",
    "        \"first_name\": \"David\",\n",
    "        \"last_name\": \"Wallace\",\n",
    "        \"skill\": mo.ui.slider(1, 10, value=3),\n",
    "        \"favorite place\": mo.image(src=\"https://picsum.photos/100\"),\n",
    "    },\n",
    "    {\n",
    "        \"first_name\": \"Holly\",\n",
    "        \"last_name\": \"Flax\",\n",
    "        \"skill\": mo.ui.slider(1, 10, value=7),\n",
    "        \"favorite place\": mo.image(src=\"https://picsum.photos/100\"),\n",
    "    },\n",
    "]"
   ]
  },
  {
   "cell_type": "code",
   "execution_count": null,
   "id": "emfo",
   "metadata": {},
   "outputs": [],
   "source": [
    "import marimo as mo"
   ]
  }
 ],
 "metadata": {},
 "nbformat": 4,
 "nbformat_minor": 5
}
