{
 "cells": [
  {
   "cell_type": "markdown",
   "id": "Hbol",
   "metadata": {
    "marimo": {
     "config": {
      "hide_code": true
     }
    }
   },
   "source": [
    "# Tables\n",
    "\n",
    "> “Sometimes I’ll start a sentence and I don’t even know where it’s going. I just hope I find it along the way.”\n",
    "— Michael Scott"
   ]
  },
  {
   "cell_type": "markdown",
   "id": "MJUe",
   "metadata": {
    "marimo": {
     "config": {
      "hide_code": true
     }
    }
   },
   "source": [
    "_Create rich tables with selectable rows using_ `mo.ui.table`."
   ]
  },
  {
   "cell_type": "markdown",
   "id": "vblA",
   "metadata": {},
   "source": [
    "**Single selection.**"
   ]
  },
  {
   "cell_type": "code",
   "execution_count": null,
   "id": "bkHC",
   "metadata": {},
   "outputs": [],
   "source": [
    "single_select_table = mo.ui.table(\n",
    "    office_characters,\n",
    "    selection=\"single\",\n",
    "    pagination=True,\n",
    ")"
   ]
  },
  {
   "cell_type": "code",
   "execution_count": null,
   "id": "lEQa",
   "metadata": {},
   "outputs": [
    {
     "data": {
      "text/markdown": [
       "&lt;marimo-tabs data-initial-value=&#x27;&amp;quot;&amp;quot;&#x27; data-label=&#x27;null&#x27; data-tabs=&#x27;[&amp;quot;&amp;lt;span class=&amp;#92;&amp;quot;markdown prose dark:prose-invert&amp;#92;&amp;quot;&amp;gt;&amp;lt;span class=&amp;#92;&amp;quot;paragraph&amp;#92;&amp;quot;&amp;gt;table&amp;lt;/span&amp;gt;&amp;lt;/span&amp;gt;&amp;quot;, &amp;quot;&amp;lt;span class=&amp;#92;&amp;quot;markdown prose dark:prose-invert&amp;#92;&amp;quot;&amp;gt;&amp;lt;span class=&amp;#92;&amp;quot;paragraph&amp;#92;&amp;quot;&amp;gt;selection&amp;lt;/span&amp;gt;&amp;lt;/span&amp;gt;&amp;quot;]&#x27;&gt;&lt;div data-kind=&#x27;tab&#x27;&gt;&lt;marimo-ui-element object-id=&#x27;bkHC-0&#x27; random-id=&#x27;a9488d99-0bbb-2599-11ce-5dd2b45ed1f0&#x27;&gt;&lt;marimo-table data-initial-value=&#x27;[]&#x27; data-label=&#x27;null&#x27; data-data=&#x27;[{&amp;quot;first_name&amp;quot;: &amp;quot;Michael&amp;quot;, &amp;quot;last_name&amp;quot;: &amp;quot;Scott&amp;quot;, &amp;quot;skill&amp;quot;: {&amp;quot;mimetype&amp;quot;: &amp;quot;text/markdown&amp;quot;, &amp;quot;data&amp;quot;: &amp;quot;&amp;amp;lt;marimo-slider data-initial-value=&amp;amp;#x27;3&amp;amp;#x27; data-label=&amp;amp;#x27;null&amp;amp;#x27; data-start=&amp;amp;#x27;1&amp;amp;#x27; data-stop=&amp;amp;#x27;10&amp;amp;#x27; data-steps=&amp;amp;#x27;[]&amp;amp;#x27; data-debounce=&amp;amp;#x27;false&amp;amp;#x27; data-orientation=&amp;amp;#x27;&amp;amp;amp;quot;horizontal&amp;amp;amp;quot;&amp;amp;#x27; data-show-value=&amp;amp;#x27;false&amp;amp;#x27; data-full-width=&amp;amp;#x27;false&amp;amp;#x27;&amp;amp;gt;&amp;amp;lt;/marimo-slider&amp;amp;gt;&amp;quot;}, &amp;quot;favorite place&amp;quot;: {&amp;quot;mimetype&amp;quot;: &amp;quot;text/html&amp;quot;, &amp;quot;data&amp;quot;: &amp;quot;&amp;lt;img src=&amp;#x27;https://picsum.photos/100&amp;#x27; style=&amp;#x27;border-radius: 4px&amp;#x27; /&amp;gt;&amp;quot;}}, {&amp;quot;first_name&amp;quot;: &amp;quot;Jim&amp;quot;, &amp;quot;last_name&amp;quot;: &amp;quot;Halpert&amp;quot;, &amp;quot;skill&amp;quot;: {&amp;quot;mimetype&amp;quot;: &amp;quot;text/markdown&amp;quot;, &amp;quot;data&amp;quot;: &amp;quot;&amp;amp;lt;marimo-slider data-initial-value=&amp;amp;#x27;7&amp;amp;#x27; data-label=&amp;amp;#x27;null&amp;amp;#x27; data-start=&amp;amp;#x27;1&amp;amp;#x27; data-stop=&amp;amp;#x27;10&amp;amp;#x27; data-steps=&amp;amp;#x27;[]&amp;amp;#x27; data-debounce=&amp;amp;#x27;false&amp;amp;#x27; data-orientation=&amp;amp;#x27;&amp;amp;amp;quot;horizontal&amp;amp;amp;quot;&amp;amp;#x27; data-show-value=&amp;amp;#x27;false&amp;amp;#x27; data-full-width=&amp;amp;#x27;false&amp;amp;#x27;&amp;amp;gt;&amp;amp;lt;/marimo-slider&amp;amp;gt;&amp;quot;}, &amp;quot;favorite place&amp;quot;: {&amp;quot;mimetype&amp;quot;: &amp;quot;text/html&amp;quot;, &amp;quot;data&amp;quot;: &amp;quot;&amp;lt;img src=&amp;#x27;https://picsum.photos/100&amp;#x27; /&amp;gt;&amp;quot;}}, {&amp;quot;first_name&amp;quot;: &amp;quot;Pam&amp;quot;, &amp;quot;last_name&amp;quot;: &amp;quot;Beesly&amp;quot;, &amp;quot;skill&amp;quot;: {&amp;quot;mimetype&amp;quot;: &amp;quot;text/markdown&amp;quot;, &amp;quot;data&amp;quot;: &amp;quot;&amp;amp;lt;marimo-slider data-initial-value=&amp;amp;#x27;3&amp;amp;#x27; data-label=&amp;amp;#x27;null&amp;amp;#x27; data-start=&amp;amp;#x27;1&amp;amp;#x27; data-stop=&amp;amp;#x27;10&amp;amp;#x27; data-steps=&amp;amp;#x27;[]&amp;amp;#x27; data-debounce=&amp;amp;#x27;false&amp;amp;#x27; data-orientation=&amp;amp;#x27;&amp;amp;amp;quot;horizontal&amp;amp;amp;quot;&amp;amp;#x27; data-show-value=&amp;amp;#x27;false&amp;amp;#x27; data-full-width=&amp;amp;#x27;false&amp;amp;#x27;&amp;amp;gt;&amp;amp;lt;/marimo-slider&amp;amp;gt;&amp;quot;}, &amp;quot;favorite place&amp;quot;: {&amp;quot;mimetype&amp;quot;: &amp;quot;text/html&amp;quot;, &amp;quot;data&amp;quot;: &amp;quot;&amp;lt;img src=&amp;#x27;https://picsum.photos/100&amp;#x27; /&amp;gt;&amp;quot;}}, {&amp;quot;first_name&amp;quot;: &amp;quot;Dwight&amp;quot;, &amp;quot;last_name&amp;quot;: &amp;quot;Schrute&amp;quot;, &amp;quot;skill&amp;quot;: {&amp;quot;mimetype&amp;quot;: &amp;quot;text/markdown&amp;quot;, &amp;quot;data&amp;quot;: &amp;quot;&amp;amp;lt;marimo-slider data-initial-value=&amp;amp;#x27;7&amp;amp;#x27; data-label=&amp;amp;#x27;null&amp;amp;#x27; data-start=&amp;amp;#x27;1&amp;amp;#x27; data-stop=&amp;amp;#x27;10&amp;amp;#x27; data-steps=&amp;amp;#x27;[]&amp;amp;#x27; data-debounce=&amp;amp;#x27;false&amp;amp;#x27; data-orientation=&amp;amp;#x27;&amp;amp;amp;quot;horizontal&amp;amp;amp;quot;&amp;amp;#x27; data-show-value=&amp;amp;#x27;false&amp;amp;#x27; data-full-width=&amp;amp;#x27;false&amp;amp;#x27;&amp;amp;gt;&amp;amp;lt;/marimo-slider&amp;amp;gt;&amp;quot;}, &amp;quot;favorite place&amp;quot;: {&amp;quot;mimetype&amp;quot;: &amp;quot;text/html&amp;quot;, &amp;quot;data&amp;quot;: &amp;quot;&amp;lt;img src=&amp;#x27;https://picsum.photos/100&amp;#x27; /&amp;gt;&amp;quot;}}, {&amp;quot;first_name&amp;quot;: &amp;quot;Angela&amp;quot;, &amp;quot;last_name&amp;quot;: &amp;quot;Martin&amp;quot;, &amp;quot;skill&amp;quot;: {&amp;quot;mimetype&amp;quot;: &amp;quot;text/markdown&amp;quot;, &amp;quot;data&amp;quot;: &amp;quot;&amp;amp;lt;marimo-slider data-initial-value=&amp;amp;#x27;5&amp;amp;#x27; data-label=&amp;amp;#x27;null&amp;amp;#x27; data-start=&amp;amp;#x27;1&amp;amp;#x27; data-stop=&amp;amp;#x27;10&amp;amp;#x27; data-steps=&amp;amp;#x27;[]&amp;amp;#x27; data-debounce=&amp;amp;#x27;false&amp;amp;#x27; data-orientation=&amp;amp;#x27;&amp;amp;amp;quot;horizontal&amp;amp;amp;quot;&amp;amp;#x27; data-show-value=&amp;amp;#x27;false&amp;amp;#x27; data-full-width=&amp;amp;#x27;false&amp;amp;#x27;&amp;amp;gt;&amp;amp;lt;/marimo-slider&amp;amp;gt;&amp;quot;}, &amp;quot;favorite place&amp;quot;: {&amp;quot;mimetype&amp;quot;: &amp;quot;text/html&amp;quot;, &amp;quot;data&amp;quot;: &amp;quot;&amp;lt;img src=&amp;#x27;https://picsum.photos/100&amp;#x27; /&amp;gt;&amp;quot;}}, {&amp;quot;first_name&amp;quot;: &amp;quot;Kevin&amp;quot;, &amp;quot;last_name&amp;quot;: &amp;quot;Malone&amp;quot;, &amp;quot;skill&amp;quot;: {&amp;quot;mimetype&amp;quot;: &amp;quot;text/markdown&amp;quot;, &amp;quot;data&amp;quot;: &amp;quot;&amp;amp;lt;marimo-slider data-initial-value=&amp;amp;#x27;3&amp;amp;#x27; data-label=&amp;amp;#x27;null&amp;amp;#x27; data-start=&amp;amp;#x27;1&amp;amp;#x27; data-stop=&amp;amp;#x27;10&amp;amp;#x27; data-steps=&amp;amp;#x27;[]&amp;amp;#x27; data-debounce=&amp;amp;#x27;false&amp;amp;#x27; data-orientation=&amp;amp;#x27;&amp;amp;amp;quot;horizontal&amp;amp;amp;quot;&amp;amp;#x27; data-show-value=&amp;amp;#x27;false&amp;amp;#x27; data-full-width=&amp;amp;#x27;false&amp;amp;#x27;&amp;amp;gt;&amp;amp;lt;/marimo-slider&amp;amp;gt;&amp;quot;}, &amp;quot;favorite place&amp;quot;: {&amp;quot;mimetype&amp;quot;: &amp;quot;text/html&amp;quot;, &amp;quot;data&amp;quot;: &amp;quot;&amp;lt;img src=&amp;#x27;https://picsum.photos/100&amp;#x27; /&amp;gt;&amp;quot;}}, {&amp;quot;first_name&amp;quot;: &amp;quot;Oscar&amp;quot;, &amp;quot;last_name&amp;quot;: &amp;quot;Martinez&amp;quot;, &amp;quot;skill&amp;quot;: {&amp;quot;mimetype&amp;quot;: &amp;quot;text/markdown&amp;quot;, &amp;quot;data&amp;quot;: &amp;quot;&amp;amp;lt;marimo-slider data-initial-value=&amp;amp;#x27;3&amp;amp;#x27; data-label=&amp;amp;#x27;null&amp;amp;#x27; data-start=&amp;amp;#x27;1&amp;amp;#x27; data-stop=&amp;amp;#x27;10&amp;amp;#x27; data-steps=&amp;amp;#x27;[]&amp;amp;#x27; data-debounce=&amp;amp;#x27;false&amp;amp;#x27; data-orientation=&amp;amp;#x27;&amp;amp;amp;quot;horizontal&amp;amp;amp;quot;&amp;amp;#x27; data-show-value=&amp;amp;#x27;false&amp;amp;#x27; data-full-width=&amp;amp;#x27;false&amp;amp;#x27;&amp;amp;gt;&amp;amp;lt;/marimo-slider&amp;amp;gt;&amp;quot;}, &amp;quot;favorite place&amp;quot;: {&amp;quot;mimetype&amp;quot;: &amp;quot;text/html&amp;quot;, &amp;quot;data&amp;quot;: &amp;quot;&amp;lt;img src=&amp;#x27;https://picsum.photos/100&amp;#x27; /&amp;gt;&amp;quot;}}, {&amp;quot;first_name&amp;quot;: &amp;quot;Stanley&amp;quot;, &amp;quot;last_name&amp;quot;: &amp;quot;Hudson&amp;quot;, &amp;quot;skill&amp;quot;: {&amp;quot;mimetype&amp;quot;: &amp;quot;text/markdown&amp;quot;, &amp;quot;data&amp;quot;: &amp;quot;&amp;amp;lt;marimo-slider data-initial-value=&amp;amp;#x27;5&amp;amp;#x27; data-label=&amp;amp;#x27;null&amp;amp;#x27; data-start=&amp;amp;#x27;1&amp;amp;#x27; data-stop=&amp;amp;#x27;10&amp;amp;#x27; data-steps=&amp;amp;#x27;[]&amp;amp;#x27; data-debounce=&amp;amp;#x27;false&amp;amp;#x27; data-orientation=&amp;amp;#x27;&amp;amp;amp;quot;horizontal&amp;amp;amp;quot;&amp;amp;#x27; data-show-value=&amp;amp;#x27;false&amp;amp;#x27; data-full-width=&amp;amp;#x27;false&amp;amp;#x27;&amp;amp;gt;&amp;amp;lt;/marimo-slider&amp;amp;gt;&amp;quot;}, &amp;quot;favorite place&amp;quot;: {&amp;quot;mimetype&amp;quot;: &amp;quot;text/html&amp;quot;, &amp;quot;data&amp;quot;: &amp;quot;&amp;lt;img src=&amp;#x27;https://picsum.photos/100&amp;#x27; /&amp;gt;&amp;quot;}}, {&amp;quot;first_name&amp;quot;: &amp;quot;Phyllis&amp;quot;, &amp;quot;last_name&amp;quot;: &amp;quot;Vance&amp;quot;, &amp;quot;skill&amp;quot;: {&amp;quot;mimetype&amp;quot;: &amp;quot;text/markdown&amp;quot;, &amp;quot;data&amp;quot;: &amp;quot;&amp;amp;lt;marimo-slider data-initial-value=&amp;amp;#x27;5&amp;amp;#x27; data-label=&amp;amp;#x27;null&amp;amp;#x27; data-start=&amp;amp;#x27;1&amp;amp;#x27; data-stop=&amp;amp;#x27;10&amp;amp;#x27; data-steps=&amp;amp;#x27;[]&amp;amp;#x27; data-debounce=&amp;amp;#x27;false&amp;amp;#x27; data-orientation=&amp;amp;#x27;&amp;amp;amp;quot;horizontal&amp;amp;amp;quot;&amp;amp;#x27; data-show-value=&amp;amp;#x27;false&amp;amp;#x27; data-full-width=&amp;amp;#x27;false&amp;amp;#x27;&amp;amp;gt;&amp;amp;lt;/marimo-slider&amp;amp;gt;&amp;quot;}, &amp;quot;favorite place&amp;quot;: {&amp;quot;mimetype&amp;quot;: &amp;quot;text/html&amp;quot;, &amp;quot;data&amp;quot;: &amp;quot;&amp;lt;img src=&amp;#x27;https://picsum.photos/100&amp;#x27; /&amp;gt;&amp;quot;}}, {&amp;quot;first_name&amp;quot;: &amp;quot;Meredith&amp;quot;, &amp;quot;last_name&amp;quot;: &amp;quot;Palmer&amp;quot;, &amp;quot;skill&amp;quot;: {&amp;quot;mimetype&amp;quot;: &amp;quot;text/markdown&amp;quot;, &amp;quot;data&amp;quot;: &amp;quot;&amp;amp;lt;marimo-slider data-initial-value=&amp;amp;#x27;7&amp;amp;#x27; data-label=&amp;amp;#x27;null&amp;amp;#x27; data-start=&amp;amp;#x27;1&amp;amp;#x27; data-stop=&amp;amp;#x27;10&amp;amp;#x27; data-steps=&amp;amp;#x27;[]&amp;amp;#x27; data-debounce=&amp;amp;#x27;false&amp;amp;#x27; data-orientation=&amp;amp;#x27;&amp;amp;amp;quot;horizontal&amp;amp;amp;quot;&amp;amp;#x27; data-show-value=&amp;amp;#x27;false&amp;amp;#x27; data-full-width=&amp;amp;#x27;false&amp;amp;#x27;&amp;amp;gt;&amp;amp;lt;/marimo-slider&amp;amp;gt;&amp;quot;}, &amp;quot;favorite place&amp;quot;: {&amp;quot;mimetype&amp;quot;: &amp;quot;text/html&amp;quot;, &amp;quot;data&amp;quot;: &amp;quot;&amp;lt;img src=&amp;#x27;https://picsum.photos/100&amp;#x27; /&amp;gt;&amp;quot;}}]&#x27; data-total-rows=&#x27;20&#x27; data-total-columns=&#x27;1&#x27; data-banner-text=&#x27;&amp;quot;&amp;quot;&#x27; data-pagination=&#x27;true&#x27; data-page-size=&#x27;10&#x27; data-selection=&#x27;&amp;quot;single&amp;quot;&#x27; data-show-filters=&#x27;false&#x27; data-show-download=&#x27;true&#x27; data-show-column-summaries=&#x27;true&#x27; data-row-headers=&#x27;[]&#x27;&gt;&lt;/marimo-table&gt;&lt;/marimo-ui-element&gt;&lt;/div&gt;&lt;div data-kind=&#x27;tab&#x27;&gt;&lt;marimo-json-output data-json-data=&#x27;[]&#x27;&gt;&lt;/marimo-json-output&gt;&lt;/div&gt;&lt;/marimo-tabs&gt;"
      ]
     },
     "metadata": {},
     "output_type": "display_data"
    }
   ],
   "source": [
    "mo.ui.tabs({\"table\": single_select_table, \"selection\": single_select_table.value})"
   ]
  },
  {
   "cell_type": "markdown",
   "id": "PKri",
   "metadata": {},
   "source": [
    "**Multi-selection.**"
   ]
  },
  {
   "cell_type": "code",
   "execution_count": null,
   "id": "Xref",
   "metadata": {},
   "outputs": [],
   "source": [
    "multi_select_table = mo.ui.table(\n",
    "    office_characters,\n",
    "    selection=\"multi\",\n",
    "    pagination=True,\n",
    ")"
   ]
  },
  {
   "cell_type": "code",
   "execution_count": null,
   "id": "SFPL",
   "metadata": {},
   "outputs": [
    {
     "data": {
      "text/markdown": [
       "&lt;marimo-tabs data-initial-value=&#x27;&amp;quot;&amp;quot;&#x27; data-label=&#x27;null&#x27; data-tabs=&#x27;[&amp;quot;&amp;lt;span class=&amp;#92;&amp;quot;markdown prose dark:prose-invert&amp;#92;&amp;quot;&amp;gt;&amp;lt;span class=&amp;#92;&amp;quot;paragraph&amp;#92;&amp;quot;&amp;gt;table&amp;lt;/span&amp;gt;&amp;lt;/span&amp;gt;&amp;quot;, &amp;quot;&amp;lt;span class=&amp;#92;&amp;quot;markdown prose dark:prose-invert&amp;#92;&amp;quot;&amp;gt;&amp;lt;span class=&amp;#92;&amp;quot;paragraph&amp;#92;&amp;quot;&amp;gt;selection&amp;lt;/span&amp;gt;&amp;lt;/span&amp;gt;&amp;quot;]&#x27;&gt;&lt;div data-kind=&#x27;tab&#x27;&gt;&lt;marimo-ui-element object-id=&#x27;Xref-0&#x27; random-id=&#x27;ddd1dfb2-3b98-2ef8-daf6-1a26146d3f31&#x27;&gt;&lt;marimo-table data-initial-value=&#x27;[]&#x27; data-label=&#x27;null&#x27; data-data=&#x27;[{&amp;quot;first_name&amp;quot;: &amp;quot;Michael&amp;quot;, &amp;quot;last_name&amp;quot;: &amp;quot;Scott&amp;quot;, &amp;quot;skill&amp;quot;: {&amp;quot;mimetype&amp;quot;: &amp;quot;text/markdown&amp;quot;, &amp;quot;data&amp;quot;: &amp;quot;&amp;amp;lt;marimo-slider data-initial-value=&amp;amp;#x27;3&amp;amp;#x27; data-label=&amp;amp;#x27;null&amp;amp;#x27; data-start=&amp;amp;#x27;1&amp;amp;#x27; data-stop=&amp;amp;#x27;10&amp;amp;#x27; data-steps=&amp;amp;#x27;[]&amp;amp;#x27; data-debounce=&amp;amp;#x27;false&amp;amp;#x27; data-orientation=&amp;amp;#x27;&amp;amp;amp;quot;horizontal&amp;amp;amp;quot;&amp;amp;#x27; data-show-value=&amp;amp;#x27;false&amp;amp;#x27; data-full-width=&amp;amp;#x27;false&amp;amp;#x27;&amp;amp;gt;&amp;amp;lt;/marimo-slider&amp;amp;gt;&amp;quot;}, &amp;quot;favorite place&amp;quot;: {&amp;quot;mimetype&amp;quot;: &amp;quot;text/html&amp;quot;, &amp;quot;data&amp;quot;: &amp;quot;&amp;lt;img src=&amp;#x27;https://picsum.photos/100&amp;#x27; style=&amp;#x27;border-radius: 4px&amp;#x27; /&amp;gt;&amp;quot;}}, {&amp;quot;first_name&amp;quot;: &amp;quot;Jim&amp;quot;, &amp;quot;last_name&amp;quot;: &amp;quot;Halpert&amp;quot;, &amp;quot;skill&amp;quot;: {&amp;quot;mimetype&amp;quot;: &amp;quot;text/markdown&amp;quot;, &amp;quot;data&amp;quot;: &amp;quot;&amp;amp;lt;marimo-slider data-initial-value=&amp;amp;#x27;7&amp;amp;#x27; data-label=&amp;amp;#x27;null&amp;amp;#x27; data-start=&amp;amp;#x27;1&amp;amp;#x27; data-stop=&amp;amp;#x27;10&amp;amp;#x27; data-steps=&amp;amp;#x27;[]&amp;amp;#x27; data-debounce=&amp;amp;#x27;false&amp;amp;#x27; data-orientation=&amp;amp;#x27;&amp;amp;amp;quot;horizontal&amp;amp;amp;quot;&amp;amp;#x27; data-show-value=&amp;amp;#x27;false&amp;amp;#x27; data-full-width=&amp;amp;#x27;false&amp;amp;#x27;&amp;amp;gt;&amp;amp;lt;/marimo-slider&amp;amp;gt;&amp;quot;}, &amp;quot;favorite place&amp;quot;: {&amp;quot;mimetype&amp;quot;: &amp;quot;text/html&amp;quot;, &amp;quot;data&amp;quot;: &amp;quot;&amp;lt;img src=&amp;#x27;https://picsum.photos/100&amp;#x27; /&amp;gt;&amp;quot;}}, {&amp;quot;first_name&amp;quot;: &amp;quot;Pam&amp;quot;, &amp;quot;last_name&amp;quot;: &amp;quot;Beesly&amp;quot;, &amp;quot;skill&amp;quot;: {&amp;quot;mimetype&amp;quot;: &amp;quot;text/markdown&amp;quot;, &amp;quot;data&amp;quot;: &amp;quot;&amp;amp;lt;marimo-slider data-initial-value=&amp;amp;#x27;3&amp;amp;#x27; data-label=&amp;amp;#x27;null&amp;amp;#x27; data-start=&amp;amp;#x27;1&amp;amp;#x27; data-stop=&amp;amp;#x27;10&amp;amp;#x27; data-steps=&amp;amp;#x27;[]&amp;amp;#x27; data-debounce=&amp;amp;#x27;false&amp;amp;#x27; data-orientation=&amp;amp;#x27;&amp;amp;amp;quot;horizontal&amp;amp;amp;quot;&amp;amp;#x27; data-show-value=&amp;amp;#x27;false&amp;amp;#x27; data-full-width=&amp;amp;#x27;false&amp;amp;#x27;&amp;amp;gt;&amp;amp;lt;/marimo-slider&amp;amp;gt;&amp;quot;}, &amp;quot;favorite place&amp;quot;: {&amp;quot;mimetype&amp;quot;: &amp;quot;text/html&amp;quot;, &amp;quot;data&amp;quot;: &amp;quot;&amp;lt;img src=&amp;#x27;https://picsum.photos/100&amp;#x27; /&amp;gt;&amp;quot;}}, {&amp;quot;first_name&amp;quot;: &amp;quot;Dwight&amp;quot;, &amp;quot;last_name&amp;quot;: &amp;quot;Schrute&amp;quot;, &amp;quot;skill&amp;quot;: {&amp;quot;mimetype&amp;quot;: &amp;quot;text/markdown&amp;quot;, &amp;quot;data&amp;quot;: &amp;quot;&amp;amp;lt;marimo-slider data-initial-value=&amp;amp;#x27;7&amp;amp;#x27; data-label=&amp;amp;#x27;null&amp;amp;#x27; data-start=&amp;amp;#x27;1&amp;amp;#x27; data-stop=&amp;amp;#x27;10&amp;amp;#x27; data-steps=&amp;amp;#x27;[]&amp;amp;#x27; data-debounce=&amp;amp;#x27;false&amp;amp;#x27; data-orientation=&amp;amp;#x27;&amp;amp;amp;quot;horizontal&amp;amp;amp;quot;&amp;amp;#x27; data-show-value=&amp;amp;#x27;false&amp;amp;#x27; data-full-width=&amp;amp;#x27;false&amp;amp;#x27;&amp;amp;gt;&amp;amp;lt;/marimo-slider&amp;amp;gt;&amp;quot;}, &amp;quot;favorite place&amp;quot;: {&amp;quot;mimetype&amp;quot;: &amp;quot;text/html&amp;quot;, &amp;quot;data&amp;quot;: &amp;quot;&amp;lt;img src=&amp;#x27;https://picsum.photos/100&amp;#x27; /&amp;gt;&amp;quot;}}, {&amp;quot;first_name&amp;quot;: &amp;quot;Angela&amp;quot;, &amp;quot;last_name&amp;quot;: &amp;quot;Martin&amp;quot;, &amp;quot;skill&amp;quot;: {&amp;quot;mimetype&amp;quot;: &amp;quot;text/markdown&amp;quot;, &amp;quot;data&amp;quot;: &amp;quot;&amp;amp;lt;marimo-slider data-initial-value=&amp;amp;#x27;5&amp;amp;#x27; data-label=&amp;amp;#x27;null&amp;amp;#x27; data-start=&amp;amp;#x27;1&amp;amp;#x27; data-stop=&amp;amp;#x27;10&amp;amp;#x27; data-steps=&amp;amp;#x27;[]&amp;amp;#x27; data-debounce=&amp;amp;#x27;false&amp;amp;#x27; data-orientation=&amp;amp;#x27;&amp;amp;amp;quot;horizontal&amp;amp;amp;quot;&amp;amp;#x27; data-show-value=&amp;amp;#x27;false&amp;amp;#x27; data-full-width=&amp;amp;#x27;false&amp;amp;#x27;&amp;amp;gt;&amp;amp;lt;/marimo-slider&amp;amp;gt;&amp;quot;}, &amp;quot;favorite place&amp;quot;: {&amp;quot;mimetype&amp;quot;: &amp;quot;text/html&amp;quot;, &amp;quot;data&amp;quot;: &amp;quot;&amp;lt;img src=&amp;#x27;https://picsum.photos/100&amp;#x27; /&amp;gt;&amp;quot;}}, {&amp;quot;first_name&amp;quot;: &amp;quot;Kevin&amp;quot;, &amp;quot;last_name&amp;quot;: &amp;quot;Malone&amp;quot;, &amp;quot;skill&amp;quot;: {&amp;quot;mimetype&amp;quot;: &amp;quot;text/markdown&amp;quot;, &amp;quot;data&amp;quot;: &amp;quot;&amp;amp;lt;marimo-slider data-initial-value=&amp;amp;#x27;3&amp;amp;#x27; data-label=&amp;amp;#x27;null&amp;amp;#x27; data-start=&amp;amp;#x27;1&amp;amp;#x27; data-stop=&amp;amp;#x27;10&amp;amp;#x27; data-steps=&amp;amp;#x27;[]&amp;amp;#x27; data-debounce=&amp;amp;#x27;false&amp;amp;#x27; data-orientation=&amp;amp;#x27;&amp;amp;amp;quot;horizontal&amp;amp;amp;quot;&amp;amp;#x27; data-show-value=&amp;amp;#x27;false&amp;amp;#x27; data-full-width=&amp;amp;#x27;false&amp;amp;#x27;&amp;amp;gt;&amp;amp;lt;/marimo-slider&amp;amp;gt;&amp;quot;}, &amp;quot;favorite place&amp;quot;: {&amp;quot;mimetype&amp;quot;: &amp;quot;text/html&amp;quot;, &amp;quot;data&amp;quot;: &amp;quot;&amp;lt;img src=&amp;#x27;https://picsum.photos/100&amp;#x27; /&amp;gt;&amp;quot;}}, {&amp;quot;first_name&amp;quot;: &amp;quot;Oscar&amp;quot;, &amp;quot;last_name&amp;quot;: &amp;quot;Martinez&amp;quot;, &amp;quot;skill&amp;quot;: {&amp;quot;mimetype&amp;quot;: &amp;quot;text/markdown&amp;quot;, &amp;quot;data&amp;quot;: &amp;quot;&amp;amp;lt;marimo-slider data-initial-value=&amp;amp;#x27;3&amp;amp;#x27; data-label=&amp;amp;#x27;null&amp;amp;#x27; data-start=&amp;amp;#x27;1&amp;amp;#x27; data-stop=&amp;amp;#x27;10&amp;amp;#x27; data-steps=&amp;amp;#x27;[]&amp;amp;#x27; data-debounce=&amp;amp;#x27;false&amp;amp;#x27; data-orientation=&amp;amp;#x27;&amp;amp;amp;quot;horizontal&amp;amp;amp;quot;&amp;amp;#x27; data-show-value=&amp;amp;#x27;false&amp;amp;#x27; data-full-width=&amp;amp;#x27;false&amp;amp;#x27;&amp;amp;gt;&amp;amp;lt;/marimo-slider&amp;amp;gt;&amp;quot;}, &amp;quot;favorite place&amp;quot;: {&amp;quot;mimetype&amp;quot;: &amp;quot;text/html&amp;quot;, &amp;quot;data&amp;quot;: &amp;quot;&amp;lt;img src=&amp;#x27;https://picsum.photos/100&amp;#x27; /&amp;gt;&amp;quot;}}, {&amp;quot;first_name&amp;quot;: &amp;quot;Stanley&amp;quot;, &amp;quot;last_name&amp;quot;: &amp;quot;Hudson&amp;quot;, &amp;quot;skill&amp;quot;: {&amp;quot;mimetype&amp;quot;: &amp;quot;text/markdown&amp;quot;, &amp;quot;data&amp;quot;: &amp;quot;&amp;amp;lt;marimo-slider data-initial-value=&amp;amp;#x27;5&amp;amp;#x27; data-label=&amp;amp;#x27;null&amp;amp;#x27; data-start=&amp;amp;#x27;1&amp;amp;#x27; data-stop=&amp;amp;#x27;10&amp;amp;#x27; data-steps=&amp;amp;#x27;[]&amp;amp;#x27; data-debounce=&amp;amp;#x27;false&amp;amp;#x27; data-orientation=&amp;amp;#x27;&amp;amp;amp;quot;horizontal&amp;amp;amp;quot;&amp;amp;#x27; data-show-value=&amp;amp;#x27;false&amp;amp;#x27; data-full-width=&amp;amp;#x27;false&amp;amp;#x27;&amp;amp;gt;&amp;amp;lt;/marimo-slider&amp;amp;gt;&amp;quot;}, &amp;quot;favorite place&amp;quot;: {&amp;quot;mimetype&amp;quot;: &amp;quot;text/html&amp;quot;, &amp;quot;data&amp;quot;: &amp;quot;&amp;lt;img src=&amp;#x27;https://picsum.photos/100&amp;#x27; /&amp;gt;&amp;quot;}}, {&amp;quot;first_name&amp;quot;: &amp;quot;Phyllis&amp;quot;, &amp;quot;last_name&amp;quot;: &amp;quot;Vance&amp;quot;, &amp;quot;skill&amp;quot;: {&amp;quot;mimetype&amp;quot;: &amp;quot;text/markdown&amp;quot;, &amp;quot;data&amp;quot;: &amp;quot;&amp;amp;lt;marimo-slider data-initial-value=&amp;amp;#x27;5&amp;amp;#x27; data-label=&amp;amp;#x27;null&amp;amp;#x27; data-start=&amp;amp;#x27;1&amp;amp;#x27; data-stop=&amp;amp;#x27;10&amp;amp;#x27; data-steps=&amp;amp;#x27;[]&amp;amp;#x27; data-debounce=&amp;amp;#x27;false&amp;amp;#x27; data-orientation=&amp;amp;#x27;&amp;amp;amp;quot;horizontal&amp;amp;amp;quot;&amp;amp;#x27; data-show-value=&amp;amp;#x27;false&amp;amp;#x27; data-full-width=&amp;amp;#x27;false&amp;amp;#x27;&amp;amp;gt;&amp;amp;lt;/marimo-slider&amp;amp;gt;&amp;quot;}, &amp;quot;favorite place&amp;quot;: {&amp;quot;mimetype&amp;quot;: &amp;quot;text/html&amp;quot;, &amp;quot;data&amp;quot;: &amp;quot;&amp;lt;img src=&amp;#x27;https://picsum.photos/100&amp;#x27; /&amp;gt;&amp;quot;}}, {&amp;quot;first_name&amp;quot;: &amp;quot;Meredith&amp;quot;, &amp;quot;last_name&amp;quot;: &amp;quot;Palmer&amp;quot;, &amp;quot;skill&amp;quot;: {&amp;quot;mimetype&amp;quot;: &amp;quot;text/markdown&amp;quot;, &amp;quot;data&amp;quot;: &amp;quot;&amp;amp;lt;marimo-slider data-initial-value=&amp;amp;#x27;7&amp;amp;#x27; data-label=&amp;amp;#x27;null&amp;amp;#x27; data-start=&amp;amp;#x27;1&amp;amp;#x27; data-stop=&amp;amp;#x27;10&amp;amp;#x27; data-steps=&amp;amp;#x27;[]&amp;amp;#x27; data-debounce=&amp;amp;#x27;false&amp;amp;#x27; data-orientation=&amp;amp;#x27;&amp;amp;amp;quot;horizontal&amp;amp;amp;quot;&amp;amp;#x27; data-show-value=&amp;amp;#x27;false&amp;amp;#x27; data-full-width=&amp;amp;#x27;false&amp;amp;#x27;&amp;amp;gt;&amp;amp;lt;/marimo-slider&amp;amp;gt;&amp;quot;}, &amp;quot;favorite place&amp;quot;: {&amp;quot;mimetype&amp;quot;: &amp;quot;text/html&amp;quot;, &amp;quot;data&amp;quot;: &amp;quot;&amp;lt;img src=&amp;#x27;https://picsum.photos/100&amp;#x27; /&amp;gt;&amp;quot;}}]&#x27; data-total-rows=&#x27;20&#x27; data-total-columns=&#x27;1&#x27; data-banner-text=&#x27;&amp;quot;&amp;quot;&#x27; data-pagination=&#x27;true&#x27; data-page-size=&#x27;10&#x27; data-selection=&#x27;&amp;quot;multi&amp;quot;&#x27; data-show-filters=&#x27;false&#x27; data-show-download=&#x27;true&#x27; data-show-column-summaries=&#x27;true&#x27; data-row-headers=&#x27;[]&#x27;&gt;&lt;/marimo-table&gt;&lt;/marimo-ui-element&gt;&lt;/div&gt;&lt;div data-kind=&#x27;tab&#x27;&gt;&lt;marimo-json-output data-json-data=&#x27;[]&#x27;&gt;&lt;/marimo-json-output&gt;&lt;/div&gt;&lt;/marimo-tabs&gt;"
      ]
     },
     "metadata": {},
     "output_type": "display_data"
    }
   ],
   "source": [
    "mo.ui.tabs({\"table\": multi_select_table, \"selection\": multi_select_table.value})"
   ]
  },
  {
   "cell_type": "markdown",
   "id": "BYtC",
   "metadata": {},
   "source": [
    "**No selection.**"
   ]
  },
  {
   "cell_type": "code",
   "execution_count": null,
   "id": "RGSE",
   "metadata": {},
   "outputs": [
    {
     "data": {
      "text/markdown": [
       "[{'first_name': 'Michael', 'last_name': 'Scott', 'skill': slider(), 'favorite place': Html()}, {'first_name': 'Jim', 'last_name': 'Halpert', 'skill': slider(), 'favorite place': Html()}, {'first_name': 'Pam', 'last_name': 'Beesly', 'skill': slider(), 'favorite place': Html()}, {'first_name': 'Dwight', 'last_name': 'Schrute', 'skill': slider(), 'favorite place': Html()}, {'first_name': 'Angela', 'last_name': 'Martin', 'skill': slider(), 'favorite place': Html()}, {'first_name': 'Kevin', 'last_name': 'Malone', 'skill': slider(), 'favorite place': Html()}, {'first_name': 'Oscar', 'last_name': 'Martinez', 'skill': slider(), 'favorite place': Html()}, {'first_name': 'Stanley', 'last_name': 'Hudson', 'skill': slider(), 'favorite place': Html()}, {'first_name': 'Phyllis', 'last_name': 'Vance', 'skill': slider(), 'favorite place': Html()}, {'first_name': 'Meredith', 'last_name': 'Palmer', 'skill': slider(), 'favorite place': Html()}, {'first_name': 'Creed', 'last_name': 'Bratton', 'skill': slider(), 'favorite place': Html()}, {'first_name': 'Ryan', 'last_name': 'Howard', 'skill': slider(), 'favorite place': Html()}, {'first_name': 'Kelly', 'last_name': 'Kapoor', 'skill': slider(), 'favorite place': Html()}, {'first_name': 'Toby', 'last_name': 'Flenderson', 'skill': slider(), 'favorite place': Html()}, {'first_name': 'Darryl', 'last_name': 'Philbin', 'skill': slider(), 'favorite place': Html()}, {'first_name': 'Erin', 'last_name': 'Hannon', 'skill': slider(), 'favorite place': Html()}, {'first_name': 'Andy', 'last_name': 'Bernard', 'skill': slider(), 'favorite place': Html()}, {'first_name': 'Jan', 'last_name': 'Levinson', 'skill': slider(), 'favorite place': Html()}, {'first_name': 'David', 'last_name': 'Wallace', 'skill': slider(), 'favorite place': Html()}, {'first_name': 'Holly', 'last_name': 'Flax', 'skill': slider(), 'favorite place': Html()}]"
      ]
     },
     "metadata": {},
     "output_type": "display_data"
    }
   ],
   "source": [
    "table = mo.ui.table(\n",
    "    office_characters,\n",
    "    label=\"Employees\",\n",
    "    selection=None,\n",
    ")\n",
    "\n",
    "table"
   ]
  },
  {
   "cell_type": "code",
   "execution_count": null,
   "id": "Kclp",
   "metadata": {},
   "outputs": [],
   "source": [
    "office_characters = [\n",
    "    {\n",
    "        \"first_name\": \"Michael\",\n",
    "        \"last_name\": \"Scott\",\n",
    "        \"skill\": mo.ui.slider(1, 10, value=3),\n",
    "        \"favorite place\": mo.image(src=\"https://picsum.photos/100\", rounded=True),\n",
    "    },\n",
    "    {\n",
    "        \"first_name\": \"Jim\",\n",
    "        \"last_name\": \"Halpert\",\n",
    "        \"skill\": mo.ui.slider(1, 10, value=7),\n",
    "        \"favorite place\": mo.image(src=\"https://picsum.photos/100\"),\n",
    "    },\n",
    "    {\n",
    "        \"first_name\": \"Pam\",\n",
    "        \"last_name\": \"Beesly\",\n",
    "        \"skill\": mo.ui.slider(1, 10, value=3),\n",
    "        \"favorite place\": mo.image(src=\"https://picsum.photos/100\"),\n",
    "    },\n",
    "    {\n",
    "        \"first_name\": \"Dwight\",\n",
    "        \"last_name\": \"Schrute\",\n",
    "        \"skill\": mo.ui.slider(1, 10, value=7),\n",
    "        \"favorite place\": mo.image(src=\"https://picsum.photos/100\"),\n",
    "    },\n",
    "    {\n",
    "        \"first_name\": \"Angela\",\n",
    "        \"last_name\": \"Martin\",\n",
    "        \"skill\": mo.ui.slider(1, 10, value=5),\n",
    "        \"favorite place\": mo.image(src=\"https://picsum.photos/100\"),\n",
    "    },\n",
    "    {\n",
    "        \"first_name\": \"Kevin\",\n",
    "        \"last_name\": \"Malone\",\n",
    "        \"skill\": mo.ui.slider(1, 10, value=3),\n",
    "        \"favorite place\": mo.image(src=\"https://picsum.photos/100\"),\n",
    "    },\n",
    "    {\n",
    "        \"first_name\": \"Oscar\",\n",
    "        \"last_name\": \"Martinez\",\n",
    "        \"skill\": mo.ui.slider(1, 10, value=3),\n",
    "        \"favorite place\": mo.image(src=\"https://picsum.photos/100\"),\n",
    "    },\n",
    "    {\n",
    "        \"first_name\": \"Stanley\",\n",
    "        \"last_name\": \"Hudson\",\n",
    "        \"skill\": mo.ui.slider(1, 10, value=5),\n",
    "        \"favorite place\": mo.image(src=\"https://picsum.photos/100\"),\n",
    "    },\n",
    "    {\n",
    "        \"first_name\": \"Phyllis\",\n",
    "        \"last_name\": \"Vance\",\n",
    "        \"skill\": mo.ui.slider(1, 10, value=5),\n",
    "        \"favorite place\": mo.image(src=\"https://picsum.photos/100\"),\n",
    "    },\n",
    "    {\n",
    "        \"first_name\": \"Meredith\",\n",
    "        \"last_name\": \"Palmer\",\n",
    "        \"skill\": mo.ui.slider(1, 10, value=7),\n",
    "        \"favorite place\": mo.image(src=\"https://picsum.photos/100\"),\n",
    "    },\n",
    "    {\n",
    "        \"first_name\": \"Creed\",\n",
    "        \"last_name\": \"Bratton\",\n",
    "        \"skill\": mo.ui.slider(1, 10, value=3),\n",
    "        \"favorite place\": mo.image(src=\"https://picsum.photos/100\"),\n",
    "    },\n",
    "    {\n",
    "        \"first_name\": \"Ryan\",\n",
    "        \"last_name\": \"Howard\",\n",
    "        \"skill\": mo.ui.slider(1, 10, value=5),\n",
    "        \"favorite place\": mo.image(src=\"https://picsum.photos/100\"),\n",
    "    },\n",
    "    {\n",
    "        \"first_name\": \"Kelly\",\n",
    "        \"last_name\": \"Kapoor\",\n",
    "        \"skill\": mo.ui.slider(1, 10, value=3),\n",
    "        \"favorite place\": mo.image(src=\"https://picsum.photos/100\"),\n",
    "    },\n",
    "    {\n",
    "        \"first_name\": \"Toby\",\n",
    "        \"last_name\": \"Flenderson\",\n",
    "        \"skill\": mo.ui.slider(1, 10, value=3),\n",
    "        \"favorite place\": mo.image(src=\"https://picsum.photos/100\"),\n",
    "    },\n",
    "    {\n",
    "        \"first_name\": \"Darryl\",\n",
    "        \"last_name\": \"Philbin\",\n",
    "        \"skill\": mo.ui.slider(1, 10, value=7),\n",
    "        \"favorite place\": mo.image(src=\"https://picsum.photos/100\"),\n",
    "    },\n",
    "    {\n",
    "        \"first_name\": \"Erin\",\n",
    "        \"last_name\": \"Hannon\",\n",
    "        \"skill\": mo.ui.slider(1, 10, value=5),\n",
    "        \"favorite place\": mo.image(src=\"https://picsum.photos/100\"),\n",
    "    },\n",
    "    {\n",
    "        \"first_name\": \"Andy\",\n",
    "        \"last_name\": \"Bernard\",\n",
    "        \"skill\": mo.ui.slider(1, 10, value=5),\n",
    "        \"favorite place\": mo.image(src=\"https://picsum.photos/100\"),\n",
    "    },\n",
    "    {\n",
    "        \"first_name\": \"Jan\",\n",
    "        \"last_name\": \"Levinson\",\n",
    "        \"skill\": mo.ui.slider(1, 10, value=5),\n",
    "        \"favorite place\": mo.image(src=\"https://picsum.photos/100\"),\n",
    "    },\n",
    "    {\n",
    "        \"first_name\": \"David\",\n",
    "        \"last_name\": \"Wallace\",\n",
    "        \"skill\": mo.ui.slider(1, 10, value=3),\n",
    "        \"favorite place\": mo.image(src=\"https://picsum.photos/100\"),\n",
    "    },\n",
    "    {\n",
    "        \"first_name\": \"Holly\",\n",
    "        \"last_name\": \"Flax\",\n",
    "        \"skill\": mo.ui.slider(1, 10, value=7),\n",
    "        \"favorite place\": mo.image(src=\"https://picsum.photos/100\"),\n",
    "    },\n",
    "]"
   ]
  },
  {
   "cell_type": "code",
   "execution_count": null,
   "id": "emfo",
   "metadata": {},
   "outputs": [],
   "source": [
    "import marimo as mo"
   ]
  }
 ],
 "metadata": {},
 "nbformat": 4,
 "nbformat_minor": 5
}
