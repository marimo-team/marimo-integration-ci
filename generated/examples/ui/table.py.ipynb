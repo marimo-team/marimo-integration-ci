{
 "cells": [
  {
   "cell_type": "code",
   "execution_count": null,
   "id": "Hbol",
   "metadata": {},
   "outputs": [],
   "source": [
    "import marimo as mo"
   ]
  },
  {
   "cell_type": "code",
   "execution_count": null,
   "id": "MJUe",
   "metadata": {},
   "outputs": [
    {
     "data": {
      "text/markdown": [
       "[{'first_name': 'Michael', 'last_name': 'Scott'}, {'first_name': 'Jim', 'last_name': 'Halpert'}, {'first_name': 'Pam', 'last_name': 'Beesly'}]"
      ]
     },
     "metadata": {},
     "output_type": "display_data"
    }
   ],
   "source": [
    "# ui.table accepts a list of rows as dicts, or a dict mapping column names to values,\n",
    "# or a dataframe-like object\n",
    "table = mo.ui.table(\n",
    "    [\n",
    "        {\"first_name\": \"Michael\", \"last_name\": \"Scott\"},\n",
    "        {\"first_name\": \"Jim\", \"last_name\": \"Halpert\"},\n",
    "        {\"first_name\": \"Pam\", \"last_name\": \"Beesly\"},\n",
    "    ],\n",
    "    # Show full name on hover for each row using column placeholders\n",
    "    hover_template=\"{{first_name}} {{last_name}}\",\n",
    "    # Add header tooltip for column headers (shown via info icon + title)\n",
    "    header_tooltip={\n",
    "        \"first_name\": \"Employee's first name\",\n",
    "        \"last_name\": \"Employee's last name\",\n",
    "    },\n",
    ")\n",
    "table"
   ]
  },
  {
   "cell_type": "code",
   "execution_count": null,
   "id": "vblA",
   "metadata": {},
   "outputs": [
    {
     "data": {
      "text/markdown": [
       "[{'a': 0, 'b': 0}, {'a': 1, 'b': 1}, {'a': 2, 'b': 4}, {'a': 3, 'b': 9}, {'a': 4, 'b': 16}, {'a': 5, 'b': 25}, {'a': 6, 'b': 36}, {'a': 7, 'b': 49}]"
      ]
     },
     "metadata": {},
     "output_type": "display_data"
    }
   ],
   "source": [
    "# Per-cell hover: provide a callable for finer control\n",
    "def cell_hover(row_id: str, column_name: str, value) -> str:\n",
    "    return f\"{row_id}:{column_name}={value}\"\n",
    "\n",
    "hover_table = mo.ui.table(\n",
    "    [{\"a\": i, \"b\": i * i} for i in range(8)],\n",
    "    hover_template=cell_hover,\n",
    ")\n",
    "hover_table"
   ]
  },
  {
   "cell_type": "code",
   "execution_count": null,
   "id": "bkHC",
   "metadata": {},
   "outputs": [
    {
     "data": {
      "application/json": "[]"
     },
     "metadata": {},
     "output_type": "display_data"
    }
   ],
   "source": [
    "table.value"
   ]
  },
  {
   "cell_type": "code",
   "execution_count": null,
   "id": "lEQa",
   "metadata": {},
   "outputs": [
    {
     "data": {
      "text/markdown": [
       "[{'row': 0, 'first_name': 'First 0', 'last_name': 'Last 0'}, {'row': 1, 'first_name': 'First 1', 'last_name': 'Last 1'}, {'row': 2, 'first_name': 'First 2', 'last_name': 'Last 2'}, {'row': 3, 'first_name': 'First 3', 'last_name': 'Last 3'}, {'row': 4, 'first_name': 'First 4', 'last_name': 'Last 4'}, {'row': 5, 'first_name': 'First 5', 'last_name': 'Last 5'}, {'row': 6, 'first_name': 'First 6', 'last_name': 'Last 6'}, {'row': 7, 'first_name': 'First 7', 'last_name': 'Last 7'}, {'row': 8, 'first_name': 'First 8', 'last_name': 'Last 8'}, {'row': 9, 'first_name': 'First 9', 'last_name': 'Last 9'}, {'row': 10, 'first_name': 'First 10', 'last_name': 'Last 10'}, {'row': 11, 'first_name': 'First 11', 'last_name': 'Last 11'}, {'row': 12, 'first_name': 'First 12', 'last_name': 'Last 12'}, {'row': 13, 'first_name': 'First 13', 'last_name': 'Last 13'}, {'row': 14, 'first_name': 'First 14', 'last_name': 'Last 14'}, {'row': 15, 'first_name': 'First 15', 'last_name': 'Last 15'}, {'row': 16, 'first_name': 'First 16', 'last_name': 'Last 16'}, {'row': 17, 'first_name': 'First 17', 'last_name': 'Last 17'}, {'row': 18, 'first_name': 'First 18', 'last_name': 'Last 18'}, {'row': 19, 'first_name': 'First 19', 'last_name': 'Last 19'}, {'row': 20, 'first_name': 'First 20', 'last_name': 'Last 20'}, {'row': 21, 'first_name': 'First 21', 'last_name': 'Last 21'}, {'row': 22, 'first_name': 'First 22', 'last_name': 'Last 22'}, {'row': 23, 'first_name': 'First 23', 'last_name': 'Last 23'}, {'row': 24, 'first_name': 'First 24', 'last_name': 'Last 24'}, {'row': 25, 'first_name': 'First 25', 'last_name': 'Last 25'}, {'row': 26, 'first_name': 'First 26', 'last_name': 'Last 26'}, {'row': 27, 'first_name': 'First 27', 'last_name': 'Last 27'}, {'row': 28, 'first_name': 'First 28', 'last_name': 'Last 28'}, {'row': 29, 'first_name': 'First 29', 'last_name': 'Last 29'}, {'row': 30, 'first_name': 'First 30', 'last_name': 'Last 30'}, {'row': 31, 'first_name': 'First 31', 'last_name': 'Last 31'}, {'row': 32, 'first_name': 'First 32', 'last_name': 'Last 32'}, {'row': 33, 'first_name': 'First 33', 'last_name': 'Last 33'}, {'row': 34, 'first_name': 'First 34', 'last_name': 'Last 34'}, {'row': 35, 'first_name': 'First 35', 'last_name': 'Last 35'}, {'row': 36, 'first_name': 'First 36', 'last_name': 'Last 36'}, {'row': 37, 'first_name': 'First 37', 'last_name': 'Last 37'}, {'row': 38, 'first_name': 'First 38', 'last_name': 'Last 38'}, {'row': 39, 'first_name': 'First 39', 'last_name': 'Last 39'}, {'row': 40, 'first_name': 'First 40', 'last_name': 'Last 40'}, {'row': 41, 'first_name': 'First 41', 'last_name': 'Last 41'}, {'row': 42, 'first_name': 'First 42', 'last_name': 'Last 42'}, {'row': 43, 'first_name': 'First 43', 'last_name': 'Last 43'}, {'row': 44, 'first_name': 'First 44', 'last_name': 'Last 44'}, {'row': 45, 'first_name': 'First 45', 'last_name': 'Last 45'}, {'row': 46, 'first_name': 'First 46', 'last_name': 'Last 46'}, {'row': 47, 'first_name': 'First 47', 'last_name': 'Last 47'}, {'row': 48, 'first_name': 'First 48', 'last_name': 'Last 48'}, {'row': 49, 'first_name': 'First 49', 'last_name': 'Last 49'}, {'row': 50, 'first_name': 'First 50', 'last_name': 'Last 50'}, {'row': 51, 'first_name': 'First 51', 'last_name': 'Last 51'}, {'row': 52, 'first_name': 'First 52', 'last_name': 'Last 52'}, {'row': 53, 'first_name': 'First 53', 'last_name': 'Last 53'}, {'row': 54, 'first_name': 'First 54', 'last_name': 'Last 54'}, {'row': 55, 'first_name': 'First 55', 'last_name': 'Last 55'}, {'row': 56, 'first_name': 'First 56', 'last_name': 'Last 56'}, {'row': 57, 'first_name': 'First 57', 'last_name': 'Last 57'}, {'row': 58, 'first_name': 'First 58', 'last_name': 'Last 58'}, {'row': 59, 'first_name': 'First 59', 'last_name': 'Last 59'}, {'row': 60, 'first_name': 'First 60', 'last_name': 'Last 60'}, {'row': 61, 'first_name': 'First 61', 'last_name': 'Last 61'}, {'row': 62, 'first_name': 'First 62', 'last_name': 'Last 62'}, {'row': 63, 'first_name': 'First 63', 'last_name': 'Last 63'}, {'row': 64, 'first_name': 'First 64', 'last_name': 'Last 64'}, {'row': 65, 'first_name': 'First 65', 'last_name': 'Last 65'}, {'row': 66, 'first_name': 'First 66', 'last_name': 'Last 66'}, {'row': 67, 'first_name': 'First 67', 'last_name': 'Last 67'}, {'row': 68, 'first_name': 'First 68', 'last_name': 'Last 68'}, {'row': 69, 'first_name': 'First 69', 'last_name': 'Last 69'}, {'row': 70, 'first_name': 'First 70', 'last_name': 'Last 70'}, {'row': 71, 'first_name': 'First 71', 'last_name': 'Last 71'}, {'row': 72, 'first_name': 'First 72', 'last_name': 'Last 72'}, {'row': 73, 'first_name': 'First 73', 'last_name': 'Last 73'}, {'row': 74, 'first_name': 'First 74', 'last_name': 'Last 74'}, {'row': 75, 'first_name': 'First 75', 'last_name': 'Last 75'}, {'row': 76, 'first_name': 'First 76', 'last_name': 'Last 76'}, {'row': 77, 'first_name': 'First 77', 'last_name': 'Last 77'}, {'row': 78, 'first_name': 'First 78', 'last_name': 'Last 78'}, {'row': 79, 'first_name': 'First 79', 'last_name': 'Last 79'}, {'row': 80, 'first_name': 'First 80', 'last_name': 'Last 80'}, {'row': 81, 'first_name': 'First 81', 'last_name': 'Last 81'}, {'row': 82, 'first_name': 'First 82', 'last_name': 'Last 82'}, {'row': 83, 'first_name': 'First 83', 'last_name': 'Last 83'}, {'row': 84, 'first_name': 'First 84', 'last_name': 'Last 84'}, {'row': 85, 'first_name': 'First 85', 'last_name': 'Last 85'}, {'row': 86, 'first_name': 'First 86', 'last_name': 'Last 86'}, {'row': 87, 'first_name': 'First 87', 'last_name': 'Last 87'}, {'row': 88, 'first_name': 'First 88', 'last_name': 'Last 88'}, {'row': 89, 'first_name': 'First 89', 'last_name': 'Last 89'}, {'row': 90, 'first_name': 'First 90', 'last_name': 'Last 90'}, {'row': 91, 'first_name': 'First 91', 'last_name': 'Last 91'}, {'row': 92, 'first_name': 'First 92', 'last_name': 'Last 92'}, {'row': 93, 'first_name': 'First 93', 'last_name': 'Last 93'}, {'row': 94, 'first_name': 'First 94', 'last_name': 'Last 94'}, {'row': 95, 'first_name': 'First 95', 'last_name': 'Last 95'}, {'row': 96, 'first_name': 'First 96', 'last_name': 'Last 96'}, {'row': 97, 'first_name': 'First 97', 'last_name': 'Last 97'}, {'row': 98, 'first_name': 'First 98', 'last_name': 'Last 98'}, {'row': 99, 'first_name': 'First 99', 'last_name': 'Last 99'}, {'row': 100, 'first_name': 'First 100', 'last_name': 'Last 100'}, {'row': 101, 'first_name': 'First 101', 'last_name': 'Last 101'}, {'row': 102, 'first_name': 'First 102', 'last_name': 'Last 102'}, {'row': 103, 'first_name': 'First 103', 'last_name': 'Last 103'}, {'row': 104, 'first_name': 'First 104', 'last_name': 'Last 104'}, {'row': 105, 'first_name': 'First 105', 'last_name': 'Last 105'}, {'row': 106, 'first_name': 'First 106', 'last_name': 'Last 106'}, {'row': 107, 'first_name': 'First 107', 'last_name': 'Last 107'}, {'row': 108, 'first_name': 'First 108', 'last_name': 'Last 108'}, {'row': 109, 'first_name': 'First 109', 'last_name': 'Last 109'}, {'row': 110, 'first_name': 'First 110', 'last_name': 'Last 110'}, {'row': 111, 'first_name': 'First 111', 'last_name': 'Last 111'}, {'row': 112, 'first_name': 'First 112', 'last_name': 'Last 112'}, {'row': 113, 'first_name': 'First 113', 'last_name': 'Last 113'}, {'row': 114, 'first_name': 'First 114', 'last_name': 'Last 114'}, {'row': 115, 'first_name': 'First 115', 'last_name': 'Last 115'}, {'row': 116, 'first_name': 'First 116', 'last_name': 'Last 116'}, {'row': 117, 'first_name': 'First 117', 'last_name': 'Last 117'}, {'row': 118, 'first_name': 'First 118', 'last_name': 'Last 118'}, {'row': 119, 'first_name': 'First 119', 'last_name': 'Last 119'}, {'row': 120, 'first_name': 'First 120', 'last_name': 'Last 120'}, {'row': 121, 'first_name': 'First 121', 'last_name': 'Last 121'}, {'row': 122, 'first_name': 'First 122', 'last_name': 'Last 122'}, {'row': 123, 'first_name': 'First 123', 'last_name': 'Last 123'}, {'row': 124, 'first_name': 'First 124', 'last_name': 'Last 124'}, {'row': 125, 'first_name': 'First 125', 'last_name': 'Last 125'}, {'row': 126, 'first_name': 'First 126', 'last_name': 'Last 126'}, {'row': 127, 'first_name': 'First 127', 'last_name': 'Last 127'}, {'row': 128, 'first_name': 'First 128', 'last_name': 'Last 128'}, {'row': 129, 'first_name': 'First 129', 'last_name': 'Last 129'}, {'row': 130, 'first_name': 'First 130', 'last_name': 'Last 130'}, {'row': 131, 'first_name': 'First 131', 'last_name': 'Last 131'}, {'row': 132, 'first_name': 'First 132', 'last_name': 'Last 132'}, {'row': 133, 'first_name': 'First 133', 'last_name': 'Last 133'}, {'row': 134, 'first_name': 'First 134', 'last_name': 'Last 134'}, {'row': 135, 'first_name': 'First 135', 'last_name': 'Last 135'}, {'row': 136, 'first_name': 'First 136', 'last_name': 'Last 136'}, {'row': 137, 'first_name': 'First 137', 'last_name': 'Last 137'}, {'row': 138, 'first_name': 'First 138', 'last_name': 'Last 138'}, {'row': 139, 'first_name': 'First 139', 'last_name': 'Last 139'}, {'row': 140, 'first_name': 'First 140', 'last_name': 'Last 140'}, {'row': 141, 'first_name': 'First 141', 'last_name': 'Last 141'}, {'row': 142, 'first_name': 'First 142', 'last_name': 'Last 142'}, {'row': 143, 'first_name': 'First 143', 'last_name': 'Last 143'}, {'row': 144, 'first_name': 'First 144', 'last_name': 'Last 144'}, {'row': 145, 'first_name': 'First 145', 'last_name': 'Last 145'}, {'row': 146, 'first_name': 'First 146', 'last_name': 'Last 146'}, {'row': 147, 'first_name': 'First 147', 'last_name': 'Last 147'}, {'row': 148, 'first_name': 'First 148', 'last_name': 'Last 148'}, {'row': 149, 'first_name': 'First 149', 'last_name': 'Last 149'}, {'row': 150, 'first_name': 'First 150', 'last_name': 'Last 150'}, {'row': 151, 'first_name': 'First 151', 'last_name': 'Last 151'}, {'row': 152, 'first_name': 'First 152', 'last_name': 'Last 152'}, {'row': 153, 'first_name': 'First 153', 'last_name': 'Last 153'}, {'row': 154, 'first_name': 'First 154', 'last_name': 'Last 154'}, {'row': 155, 'first_name': 'First 155', 'last_name': 'Last 155'}, {'row': 156, 'first_name': 'First 156', 'last_name': 'Last 156'}, {'row': 157, 'first_name': 'First 157', 'last_name': 'Last 157'}, {'row': 158, 'first_name': 'First 158', 'last_name': 'Last 158'}, {'row': 159, 'first_name': 'First 159', 'last_name': 'Last 159'}, {'row': 160, 'first_name': 'First 160', 'last_name': 'Last 160'}, {'row': 161, 'first_name': 'First 161', 'last_name': 'Last 161'}, {'row': 162, 'first_name': 'First 162', 'last_name': 'Last 162'}, {'row': 163, 'first_name': 'First 163', 'last_name': 'Last 163'}, {'row': 164, 'first_name': 'First 164', 'last_name': 'Last 164'}, {'row': 165, 'first_name': 'First 165', 'last_name': 'Last 165'}, {'row': 166, 'first_name': 'First 166', 'last_name': 'Last 166'}, {'row': 167, 'first_name': 'First 167', 'last_name': 'Last 167'}, {'row': 168, 'first_name': 'First 168', 'last_name': 'Last 168'}, {'row': 169, 'first_name': 'First 169', 'last_name': 'Last 169'}, {'row': 170, 'first_name': 'First 170', 'last_name': 'Last 170'}, {'row': 171, 'first_name': 'First 171', 'last_name': 'Last 171'}, {'row': 172, 'first_name': 'First 172', 'last_name': 'Last 172'}, {'row': 173, 'first_name': 'First 173', 'last_name': 'Last 173'}, {'row': 174, 'first_name': 'First 174', 'last_name': 'Last 174'}, {'row': 175, 'first_name': 'First 175', 'last_name': 'Last 175'}, {'row': 176, 'first_name': 'First 176', 'last_name': 'Last 176'}, {'row': 177, 'first_name': 'First 177', 'last_name': 'Last 177'}, {'row': 178, 'first_name': 'First 178', 'last_name': 'Last 178'}, {'row': 179, 'first_name': 'First 179', 'last_name': 'Last 179'}, {'row': 180, 'first_name': 'First 180', 'last_name': 'Last 180'}, {'row': 181, 'first_name': 'First 181', 'last_name': 'Last 181'}, {'row': 182, 'first_name': 'First 182', 'last_name': 'Last 182'}, {'row': 183, 'first_name': 'First 183', 'last_name': 'Last 183'}, {'row': 184, 'first_name': 'First 184', 'last_name': 'Last 184'}, {'row': 185, 'first_name': 'First 185', 'last_name': 'Last 185'}, {'row': 186, 'first_name': 'First 186', 'last_name': 'Last 186'}, {'row': 187, 'first_name': 'First 187', 'last_name': 'Last 187'}, {'row': 188, 'first_name': 'First 188', 'last_name': 'Last 188'}, {'row': 189, 'first_name': 'First 189', 'last_name': 'Last 189'}, {'row': 190, 'first_name': 'First 190', 'last_name': 'Last 190'}, {'row': 191, 'first_name': 'First 191', 'last_name': 'Last 191'}, {'row': 192, 'first_name': 'First 192', 'last_name': 'Last 192'}, {'row': 193, 'first_name': 'First 193', 'last_name': 'Last 193'}, {'row': 194, 'first_name': 'First 194', 'last_name': 'Last 194'}, {'row': 195, 'first_name': 'First 195', 'last_name': 'Last 195'}, {'row': 196, 'first_name': 'First 196', 'last_name': 'Last 196'}, {'row': 197, 'first_name': 'First 197', 'last_name': 'Last 197'}, {'row': 198, 'first_name': 'First 198', 'last_name': 'Last 198'}, {'row': 199, 'first_name': 'First 199', 'last_name': 'Last 199'}]"
      ]
     },
     "metadata": {},
     "output_type": "display_data"
    }
   ],
   "source": [
    "# Demonstrate a long table with a sticky header and a custom max height\n",
    "long_rows = [{\"row\": i, \"first_name\": f\"First {i}\", \"last_name\": f\"Last {i}\"} for i in range(200)]\n",
    "long_table = mo.ui.table(\n",
    "    long_rows,\n",
    "    pagination=False,\n",
    "    max_height=300,\n",
    ")\n",
    "long_table"
   ]
  }
 ],
 "metadata": {},
 "nbformat": 4,
 "nbformat_minor": 5
}
