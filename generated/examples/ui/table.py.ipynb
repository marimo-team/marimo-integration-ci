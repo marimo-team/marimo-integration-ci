{
 "cells": [
  {
   "cell_type": "code",
   "execution_count": null,
   "id": "Hbol",
   "metadata": {},
   "outputs": [],
   "source": [
    "import marimo as mo"
   ]
  },
  {
   "cell_type": "code",
   "execution_count": null,
   "id": "MJUe",
   "metadata": {},
   "outputs": [
    {
     "data": {
      "text/markdown": [
       "[{'first_name': 'Michael', 'last_name': 'Scott'}, {'first_name': 'Jim', 'last_name': 'Halpert'}, {'first_name': 'Pam', 'last_name': 'Beesly'}]"
      ]
     },
     "metadata": {},
     "output_type": "display_data"
    }
   ],
   "source": [
    "# ui.table accepts a list of rows as dicts, or a dict mapping column names to values,\n",
    "# or a dataframe-like object\n",
    "table = mo.ui.table(\n",
    "    [\n",
    "        {\"first_name\": \"Michael\", \"last_name\": \"Scott\"},\n",
    "        {\"first_name\": \"Jim\", \"last_name\": \"Halpert\"},\n",
    "        {\"first_name\": \"Pam\", \"last_name\": \"Beesly\"},\n",
    "    ]\n",
    ")\n",
    "table"
   ]
  },
  {
   "cell_type": "code",
   "execution_count": null,
   "id": "vblA",
   "metadata": {},
   "outputs": [
    {
     "data": {
      "application/json": "[]"
     },
     "metadata": {},
     "output_type": "display_data"
    }
   ],
   "source": [
    "table.value"
   ]
  }
 ],
 "metadata": {},
 "nbformat": 4,
 "nbformat_minor": 5
}
