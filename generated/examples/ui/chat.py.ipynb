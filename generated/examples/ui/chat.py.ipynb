{
 "cells": [
  {
   "cell_type": "code",
   "execution_count": null,
   "id": "Hbol",
   "metadata": {},
   "outputs": [],
   "source": [
    "import marimo as mo"
   ]
  },
  {
   "cell_type": "code",
   "execution_count": null,
   "id": "MJUe",
   "metadata": {},
   "outputs": [
    {
     "data": {
      "text/markdown": [
       "&lt;marimo-chatbot data-initial-value=&#x27;{&amp;quot;messages&amp;quot;: []}&#x27; data-label=&#x27;null&#x27; data-prompts=&#x27;[&amp;quot;Hello&amp;quot;, &amp;quot;How are you?&amp;quot;]&#x27; data-show-configuration-controls=&#x27;true&#x27; data-config=&#x27;{}&#x27; data-allow-attachments=&#x27;false&#x27;&gt;&lt;/marimo-chatbot&gt;"
      ]
     },
     "metadata": {},
     "output_type": "display_data"
    }
   ],
   "source": [
    "def simple_echo_model(messages, config):\n",
    "    return f\"You said: {messages[-1].content}\"\n",
    "\n",
    "chatbot = mo.ui.chat(\n",
    "    simple_echo_model,\n",
    "    prompts=[\"Hello\", \"How are you?\"],\n",
    "    show_configuration_controls=True\n",
    ")\n",
    "chatbot"
   ]
  },
  {
   "cell_type": "code",
   "execution_count": null,
   "id": "vblA",
   "metadata": {},
   "outputs": [
    {
     "data": {
      "application/json": "[]"
     },
     "metadata": {},
     "output_type": "display_data"
    }
   ],
   "source": [
    "chatbot.value"
   ]
  }
 ],
 "metadata": {},
 "nbformat": 4,
 "nbformat_minor": 5
}
