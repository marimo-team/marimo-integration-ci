{
 "cells": [
  {
   "cell_type": "markdown",
   "id": "Hbol",
   "metadata": {
    "marimo": {
     "config": {
      "hide_code": true
     }
    }
   },
   "source": [
    "# Data Explorer"
   ]
  },
  {
   "cell_type": "code",
   "execution_count": null,
   "id": "MJUe",
   "metadata": {
    "marimo": {
     "config": {
      "hide_code": true
     }
    }
   },
   "outputs": [
    {
     "data": {
      "text/markdown": [
       "This notebook lets you upload a CSV and plot its columns.\n",
       "\n",
       "You can download a <a href=\"https://github.com/vega/vega/blob/main/docs/data/stocks.csv\" target=\"_blank\">sample CSV</a> if you'd like."
      ]
     },
     "metadata": {},
     "output_type": "display_data"
    }
   ],
   "source": [
    "sample = \"https://github.com/vega/vega/blob/main/docs/data/stocks.csv\"\n",
    "\n",
    "mo.md(\n",
    "    f\"\"\"\n",
    "    This notebook lets you upload a CSV and plot its columns.\n",
    "\n",
    "    You can download a <a href=\"{sample}\" target=\"_blank\">sample CSV</a> if you'd like.\n",
    "    \"\"\"\n",
    ")"
   ]
  },
  {
   "cell_type": "code",
   "execution_count": null,
   "id": "vblA",
   "metadata": {
    "marimo": {
     "config": {
      "hide_code": true
     }
    }
   },
   "outputs": [
    {
     "data": {
      "text/markdown": [
       "<div style='display: flex;flex: 1;flex-direction: row;justify-content: center;align-items: normal;flex-wrap: nowrap;gap: 0.5rem'><div><span class=\"markdown prose dark:prose-invert\"><span class=\"paragraph\"><strong>Upload a CSV.</strong></span></span></div></div>\n",
       "\n",
       "<marimo-ui-element object-id='BYtC-0' random-id='bdd640fb-0667-1ad1-1c80-317fa3b1799d'><marimo-file data-initial-value='[]' data-label='null' data-filetypes='[&quot;.csv&quot;]' data-multiple='false' data-kind='&quot;area&quot;'></marimo-file></marimo-ui-element>"
      ]
     },
     "metadata": {},
     "output_type": "display_data"
    }
   ],
   "source": [
    "mo.md(\n",
    "    f\"\"\"\n",
    "    {mo.hstack([mo.md(\"**Upload a CSV.**\")], justify=\"center\")}\n",
    "\n",
    "    {uploaded_file}\n",
    "    \"\"\"\n",
    ")"
   ]
  },
  {
   "cell_type": "code",
   "execution_count": null,
   "id": "bkHC",
   "metadata": {},
   "outputs": [],
   "source": [
    "mo.stop(not uploaded_file.name())\n",
    "df = pd.read_csv(io.StringIO(uploaded_file.contents().decode()))"
   ]
  },
  {
   "cell_type": "code",
   "execution_count": null,
   "id": "lEQa",
   "metadata": {},
   "outputs": [],
   "source": [
    "mo.ui.table(df, page_size=5, selection=None)"
   ]
  },
  {
   "cell_type": "code",
   "execution_count": null,
   "id": "PKri",
   "metadata": {},
   "outputs": [],
   "source": [
    "plot_type = mo.ui.dropdown(\n",
    "    [\"line\", \"hist\"], value=\"line\", label=\"Choose a plot type: \"\n",
    ")\n",
    "\n",
    "x_column = mo.ui.dropdown(df.columns, label=\"Choose x-axis: \")\n",
    "y_column = mo.ui.dropdown(df.columns, label=\"Choose y-axis: \")\n",
    "color_column = mo.ui.dropdown(df.columns, label=\"Choose color-axis: \")"
   ]
  },
  {
   "cell_type": "code",
   "execution_count": null,
   "id": "Xref",
   "metadata": {},
   "outputs": [],
   "source": [
    "mo.hstack(\n",
    "    [x_column, y_column, color_column, plot_type], justify=\"space-around\"\n",
    ").callout(kind=\"warn\" if not x_column.value else \"neutral\")"
   ]
  },
  {
   "cell_type": "code",
   "execution_count": null,
   "id": "SFPL",
   "metadata": {},
   "outputs": [],
   "source": [
    "mo.stop(not x_column.value)\n",
    "\n",
    "\n",
    "def plot(x_column, y_column, color_column):\n",
    "    y_column = y_column or \"count()\"\n",
    "    title = f\"{y_column} by {x_column}\"\n",
    "    encoding = {\"x\": x_column, \"y\": y_column}\n",
    "    if color_column:\n",
    "        encoding[\"color\"] = color_column\n",
    "    if plot_type.value == \"line\":\n",
    "        chart = alt.Chart(df).mark_line()\n",
    "    else:\n",
    "        chart = alt.Chart(df).mark_bar().encode(x=alt.X(x_column, bin=True))\n",
    "    return chart.encode(**encoding).properties(title=title, width=\"container\")\n",
    "\n",
    "\n",
    "plot(x_column.value, y_column.value, color_column.value)"
   ]
  },
  {
   "cell_type": "code",
   "execution_count": null,
   "id": "BYtC",
   "metadata": {},
   "outputs": [],
   "source": [
    "uploaded_file = mo.ui.file(filetypes=[\".csv\"], kind=\"area\")"
   ]
  },
  {
   "cell_type": "code",
   "execution_count": null,
   "id": "RGSE",
   "metadata": {},
   "outputs": [],
   "source": [
    "import marimo as mo\n",
    "import altair as alt\n",
    "\n",
    "\n",
    "import io\n",
    "import matplotlib.pyplot as plt\n",
    "import pandas as pd"
   ]
  }
 ],
 "metadata": {},
 "nbformat": 4,
 "nbformat_minor": 5
}
