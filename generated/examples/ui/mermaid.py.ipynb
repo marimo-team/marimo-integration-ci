{
 "cells": [
  {
   "cell_type": "code",
   "execution_count": null,
   "id": "Hbol",
   "metadata": {},
   "outputs": [],
   "source": [
    "import marimo as mo"
   ]
  },
  {
   "cell_type": "code",
   "execution_count": null,
   "id": "MJUe",
   "metadata": {},
   "outputs": [
    {
     "data": {
      "text/html": [
       "<div style='display: flex;flex: 1;flex-direction: row;justify-content: center;align-items: normal;flex-wrap: nowrap;gap: 0.5rem'><div><marimo-mermaid data-diagram='&quot;&#92;ngraph TD&#92;n    A[Enter Chart Definition] --&gt; B(Preview)&#92;n    B --&gt; C{decide}&#92;n    C --&gt; D[Keep]&#92;n    C --&gt; E[Edit Definition]&#92;n    E --&gt; B&#92;n    D --&gt; F[Save Image and Code]&#92;n    F --&gt; B&#92;n&quot;'></marimo-mermaid></div></div>"
      ]
     },
     "metadata": {},
     "output_type": "display_data"
    }
   ],
   "source": [
    "mo.mermaid(\n",
    "    \"\"\"\n",
    "graph TD\n",
    "    A[Enter Chart Definition] --> B(Preview)\n",
    "    B --> C{decide}\n",
    "    C --> D[Keep]\n",
    "    C --> E[Edit Definition]\n",
    "    E --> B\n",
    "    D --> F[Save Image and Code]\n",
    "    F --> B\n",
    "\"\"\"\n",
    ").center()"
   ]
  },
  {
   "cell_type": "code",
   "execution_count": null,
   "id": "vblA",
   "metadata": {},
   "outputs": [
    {
     "data": {
      "text/markdown": [
       "&lt;marimo-code-editor data-initial-value=&#x27;&amp;quot;sequenceDiagram&amp;#92;n    Alice-&amp;gt;&amp;gt;John: Hello John, how are you?&amp;#92;n    John--&amp;gt;&amp;gt;Alice: Great!&amp;#92;n    Alice-)John: See you later!&amp;quot;&#x27; data-label=&#x27;&amp;quot;&amp;lt;span class=&amp;#92;&amp;quot;markdown prose dark:prose-invert&amp;#92;&amp;quot;&amp;gt;&amp;lt;span class=&amp;#92;&amp;quot;paragraph&amp;#92;&amp;quot;&amp;gt;Mermaid editor&amp;lt;/span&amp;gt;&amp;lt;/span&amp;gt;&amp;quot;&#x27; data-language=&#x27;&amp;quot;mermaid&amp;quot;&#x27; data-placeholder=&#x27;&amp;quot;&amp;quot;&#x27; data-disabled=&#x27;false&#x27;&gt;&lt;/marimo-code-editor&gt;"
      ]
     },
     "metadata": {},
     "output_type": "display_data"
    }
   ],
   "source": [
    "graph = mo.ui.code_editor(\n",
    "    value=\"\"\"sequenceDiagram\n",
    "    Alice->>John: Hello John, how are you?\n",
    "    John-->>Alice: Great!\n",
    "    Alice-)John: See you later!\"\"\",\n",
    "    language=\"mermaid\",\n",
    "    label=\"Mermaid editor\",\n",
    ")\n",
    "graph"
   ]
  },
  {
   "cell_type": "code",
   "execution_count": null,
   "id": "bkHC",
   "metadata": {},
   "outputs": [
    {
     "data": {
      "text/markdown": [
       "You can render mermaid directly inside `mo.md`. Using\n",
       "\n",
       "`mo.mermaid()`\n",
       "\n",
       "<marimo-mermaid data-diagram='&quot;sequenceDiagram&#92;n    Alice-&gt;&gt;John: Hello John, how are you?&#92;n    John--&gt;&gt;Alice: Great!&#92;n    Alice-)John: See you later!&quot;'></marimo-mermaid>"
      ]
     },
     "metadata": {},
     "output_type": "display_data"
    }
   ],
   "source": [
    "mo.md(\n",
    "    f\"\"\"\n",
    "    You can render mermaid directly inside `mo.md`. Using\n",
    "\n",
    "    `mo.mermaid()`\n",
    "\n",
    "    {mo.mermaid(graph.value)}\n",
    "    \"\"\"\n",
    ")"
   ]
  }
 ],
 "metadata": {},
 "nbformat": 4,
 "nbformat_minor": 5
}
