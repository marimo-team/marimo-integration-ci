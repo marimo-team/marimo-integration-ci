{
 "cells": [
  {
   "cell_type": "code",
   "execution_count": null,
   "id": "Hbol",
   "metadata": {},
   "outputs": [],
   "source": [
    "import marimo as mo"
   ]
  },
  {
   "cell_type": "code",
   "execution_count": null,
   "id": "MJUe",
   "metadata": {},
   "outputs": [],
   "source": [
    "mo.mermaid(\n",
    "    \"\"\"\n",
    "graph TD\n",
    "    A[Enter Chart Definition] --> B(Preview)\n",
    "    B --> C{decide}\n",
    "    C --> D[Keep]\n",
    "    C --> E[Edit Definition]\n",
    "    E --> B\n",
    "    D --> F[Save Image and Code]\n",
    "    F --> B\n",
    "\"\"\"\n",
    ").center()"
   ]
  },
  {
   "cell_type": "code",
   "execution_count": null,
   "id": "vblA",
   "metadata": {},
   "outputs": [],
   "source": [
    "graph = mo.ui.code_editor(\n",
    "    value=\"\"\"sequenceDiagram\n",
    "    Alice->>John: Hello John, how are you?\n",
    "    John-->>Alice: Great!\n",
    "    Alice-)John: See you later!\"\"\",\n",
    "    language=\"mermaid\",\n",
    "    label=\"Mermaid editor\",\n",
    ")\n",
    "graph"
   ]
  },
  {
   "cell_type": "code",
   "execution_count": null,
   "id": "bkHC",
   "metadata": {},
   "outputs": [],
   "source": [
    "mo.md(\n",
    "    f\"\"\"\n",
    "    You can render mermaid directly inside `mo.md`. Using\n",
    "\n",
    "    `mo.mermaid()`\n",
    "\n",
    "    {mo.mermaid(graph.value)}\n",
    "    \"\"\"\n",
    ")"
   ]
  }
 ],
 "metadata": {},
 "nbformat": 4,
 "nbformat_minor": 5
}
