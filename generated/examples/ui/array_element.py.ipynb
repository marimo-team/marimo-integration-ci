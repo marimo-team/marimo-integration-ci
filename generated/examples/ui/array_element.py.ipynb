{
 "cells": [
  {
   "cell_type": "code",
   "execution_count": null,
   "id": "Hbol",
   "metadata": {},
   "outputs": [],
   "source": [
    "import marimo as mo"
   ]
  },
  {
   "cell_type": "code",
   "execution_count": null,
   "id": "MJUe",
   "metadata": {},
   "outputs": [
    {
     "data": {
      "text/markdown": [
       "&lt;marimo-dict data-initial-value=&#x27;{&amp;quot;0&amp;quot;:&amp;quot;&amp;quot;,&amp;quot;1&amp;quot;:1,&amp;quot;2&amp;quot;:&amp;quot;2025-10-23&amp;quot;}&#x27; data-label=&#x27;null&#x27; data-element-ids=&#x27;{&amp;quot;MJUe-3&amp;quot;:&amp;quot;0&amp;quot;,&amp;quot;MJUe-4&amp;quot;:&amp;quot;1&amp;quot;,&amp;quot;MJUe-5&amp;quot;:&amp;quot;2&amp;quot;}&#x27;&gt;&lt;marimo-json-output data-json-data=&#x27;[&amp;quot;text/markdown:&amp;amp;lt;marimo-text data-initial-value=&amp;amp;#x27;&amp;amp;amp;quot;&amp;amp;amp;quot;&amp;amp;#x27; data-label=&amp;amp;#x27;null&amp;amp;#x27; data-placeholder=&amp;amp;#x27;&amp;amp;amp;quot;&amp;amp;amp;quot;&amp;amp;#x27; data-kind=&amp;amp;#x27;&amp;amp;amp;quot;text&amp;amp;amp;quot;&amp;amp;#x27; data-full-width=&amp;amp;#x27;false&amp;amp;#x27; data-disabled=&amp;amp;#x27;false&amp;amp;#x27; data-debounce=&amp;amp;#x27;true&amp;amp;#x27;&amp;amp;gt;&amp;amp;lt;/marimo-text&amp;amp;gt;&amp;quot;,&amp;quot;text/markdown:&amp;amp;lt;marimo-slider data-initial-value=&amp;amp;#x27;1&amp;amp;#x27; data-label=&amp;amp;#x27;null&amp;amp;#x27; data-start=&amp;amp;#x27;1&amp;amp;#x27; data-stop=&amp;amp;#x27;10&amp;amp;#x27; data-steps=&amp;amp;#x27;[]&amp;amp;#x27; data-debounce=&amp;amp;#x27;false&amp;amp;#x27; data-disabled=&amp;amp;#x27;false&amp;amp;#x27; data-orientation=&amp;amp;#x27;&amp;amp;amp;quot;horizontal&amp;amp;amp;quot;&amp;amp;#x27; data-show-value=&amp;amp;#x27;false&amp;amp;#x27; data-include-input=&amp;amp;#x27;false&amp;amp;#x27; data-full-width=&amp;amp;#x27;false&amp;amp;#x27;&amp;amp;gt;&amp;amp;lt;/marimo-slider&amp;amp;gt;&amp;quot;,&amp;quot;text/markdown:&amp;amp;lt;marimo-date data-initial-value=&amp;amp;#x27;&amp;amp;amp;quot;2025-10-23&amp;amp;amp;quot;&amp;amp;#x27; data-label=&amp;amp;#x27;null&amp;amp;#x27; data-start=&amp;amp;#x27;&amp;amp;amp;quot;0001-01-01&amp;amp;amp;quot;&amp;amp;#x27; data-stop=&amp;amp;#x27;&amp;amp;amp;quot;9999-12-31&amp;amp;amp;quot;&amp;amp;#x27; data-full-width=&amp;amp;#x27;false&amp;amp;#x27; data-disabled=&amp;amp;#x27;false&amp;amp;#x27;&amp;amp;gt;&amp;amp;lt;/marimo-date&amp;amp;gt;&amp;quot;]&#x27; data-value-types=&#x27;&amp;quot;python&amp;quot;&#x27; data-name=&#x27;&amp;quot;array&amp;quot;&#x27;&gt;&lt;/marimo-json-output&gt;&lt;/marimo-dict&gt;"
      ]
     },
     "metadata": {},
     "output_type": "display_data"
    }
   ],
   "source": [
    "array = mo.ui.array([mo.ui.text(), mo.ui.slider(1, 10), mo.ui.date()])\n",
    "array"
   ]
  },
  {
   "cell_type": "code",
   "execution_count": null,
   "id": "vblA",
   "metadata": {},
   "outputs": [
    {
     "data": {
      "application/json": "[\"\", 1, \"text/plain:2025-10-23\"]"
     },
     "metadata": {},
     "output_type": "display_data"
    }
   ],
   "source": [
    "array.value"
   ]
  }
 ],
 "metadata": {},
 "nbformat": 4,
 "nbformat_minor": 5
}
